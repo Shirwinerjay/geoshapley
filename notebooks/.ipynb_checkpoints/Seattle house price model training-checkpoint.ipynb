{
 "cells": [
  {
   "cell_type": "markdown",
   "metadata": {
    "scrolled": false
   },
   "source": [
    "## Train and save models"
   ]
  },
  {
   "cell_type": "code",
   "execution_count": 3,
   "metadata": {},
   "outputs": [],
   "source": [
    "import geopandas as gpd\n",
    "import numpy as np\n",
    "import pandas as pd\n",
    "import matplotlib.pyplot as plt\n",
    "import seaborn as sns\n",
    "import warnings\n",
    "import pickle\n",
    "\n",
    "from sklearn.model_selection import train_test_split"
   ]
  },
  {
   "cell_type": "markdown",
   "metadata": {},
   "source": [
    "## Data Cleaning"
   ]
  },
  {
   "cell_type": "code",
   "execution_count": 4,
   "metadata": {
    "scrolled": true
   },
   "outputs": [],
   "source": [
    "data = pd.read_csv(\"seattle_samp\")\n",
    "\n",
    "data = data.loc[(data.sqft_lot)<=20000,:]\n",
    "data = data.loc[(data.bedrooms)<=10,:]\n",
    "\n",
    "data[\"age\"] = 2015 - data.yr_built"
   ]
  },
  {
   "cell_type": "code",
   "execution_count": 5,
   "metadata": {
    "scrolled": false
   },
   "outputs": [],
   "source": [
    "data = gpd.GeoDataFrame(\n",
    "    data, crs=\"EPSG:4326\", geometry=gpd.points_from_xy(x=data.long, y=data.lat))\n",
    "data = data.to_crs(\"EPSG:32610\")"
   ]
  },
  {
   "cell_type": "code",
   "execution_count": 6,
   "metadata": {
    "scrolled": false
   },
   "outputs": [],
   "source": [
    "data[\"UTM_X\"] = data.geometry.x\n",
    "data[\"UTM_Y\"] = data.geometry.y\n",
    "\n",
    "data = data.loc[(data.UTM_X)<=5.7*10**5,:]\n",
    "data = data.loc[(data.UTM_Y)>=5.23*10**6,:]"
   ]
  },
  {
   "cell_type": "code",
   "execution_count": 7,
   "metadata": {},
   "outputs": [
    {
     "data": {
      "text/plain": [
       "(16581, 25)"
      ]
     },
     "execution_count": 7,
     "metadata": {},
     "output_type": "execute_result"
    }
   ],
   "source": [
    "data.shape"
   ]
  },
  {
   "cell_type": "code",
   "execution_count": 8,
   "metadata": {
    "scrolled": false
   },
   "outputs": [],
   "source": [
    "sampled = data.sample(1000,random_state=1)\n",
    "\n",
    "y = np.log10(sampled.price)\n",
    "\n",
    "X_coords = sampled[['bathrooms', 'sqft_living', 'sqft_lot', 'grade', 'condition',\n",
    "                 'waterfront', 'view', 'age','UTM_X', 'UTM_Y']]"
   ]
  },
  {
   "cell_type": "code",
   "execution_count": 10,
   "metadata": {},
   "outputs": [
    {
     "name": "stderr",
     "output_type": "stream",
     "text": [
      "/var/folders/mp/9px298sd6vs8xccb_3sql0dr0000gp/T/ipykernel_56979/2153955958.py:1: SettingWithCopyWarning: \n",
      "A value is trying to be set on a copy of a slice from a DataFrame.\n",
      "Try using .loc[row_indexer,col_indexer] = value instead\n",
      "\n",
      "See the caveats in the documentation: https://pandas.pydata.org/pandas-docs/stable/user_guide/indexing.html#returning-a-view-versus-a-copy\n",
      "  X_coords[\"log10_price\"] = y\n"
     ]
    }
   ],
   "source": [
    "X_coords[\"log10_price\"] = y"
   ]
  },
  {
   "cell_type": "code",
   "execution_count": 12,
   "metadata": {},
   "outputs": [],
   "source": [
    "X_coords.to_csv(\"seattle_sample.csv\")"
   ]
  },
  {
   "cell_type": "code",
   "execution_count": 13,
   "metadata": {
    "scrolled": false
   },
   "outputs": [
    {
     "data": {
      "text/html": [
       "<div>\n",
       "<style scoped>\n",
       "    .dataframe tbody tr th:only-of-type {\n",
       "        vertical-align: middle;\n",
       "    }\n",
       "\n",
       "    .dataframe tbody tr th {\n",
       "        vertical-align: top;\n",
       "    }\n",
       "\n",
       "    .dataframe thead th {\n",
       "        text-align: right;\n",
       "    }\n",
       "</style>\n",
       "<table border=\"1\" class=\"dataframe\">\n",
       "  <thead>\n",
       "    <tr style=\"text-align: right;\">\n",
       "      <th></th>\n",
       "      <th>bathrooms</th>\n",
       "      <th>sqft_living</th>\n",
       "      <th>sqft_lot</th>\n",
       "      <th>grade</th>\n",
       "      <th>condition</th>\n",
       "      <th>waterfront</th>\n",
       "      <th>view</th>\n",
       "      <th>age</th>\n",
       "      <th>UTM_X</th>\n",
       "      <th>UTM_Y</th>\n",
       "      <th>log10_price</th>\n",
       "    </tr>\n",
       "  </thead>\n",
       "  <tbody>\n",
       "    <tr>\n",
       "      <th>9172</th>\n",
       "      <td>3.00</td>\n",
       "      <td>2660</td>\n",
       "      <td>4600</td>\n",
       "      <td>8</td>\n",
       "      <td>3</td>\n",
       "      <td>0</td>\n",
       "      <td>0</td>\n",
       "      <td>109</td>\n",
       "      <td>552217.557035</td>\n",
       "      <td>5.274945e+06</td>\n",
       "      <td>6.091315</td>\n",
       "    </tr>\n",
       "    <tr>\n",
       "      <th>2264</th>\n",
       "      <td>2.25</td>\n",
       "      <td>2530</td>\n",
       "      <td>8736</td>\n",
       "      <td>7</td>\n",
       "      <td>4</td>\n",
       "      <td>0</td>\n",
       "      <td>0</td>\n",
       "      <td>57</td>\n",
       "      <td>565692.484331</td>\n",
       "      <td>5.272758e+06</td>\n",
       "      <td>5.790988</td>\n",
       "    </tr>\n",
       "    <tr>\n",
       "      <th>348</th>\n",
       "      <td>2.00</td>\n",
       "      <td>1390</td>\n",
       "      <td>13464</td>\n",
       "      <td>7</td>\n",
       "      <td>4</td>\n",
       "      <td>0</td>\n",
       "      <td>0</td>\n",
       "      <td>28</td>\n",
       "      <td>562451.661509</td>\n",
       "      <td>5.245291e+06</td>\n",
       "      <td>5.315130</td>\n",
       "    </tr>\n",
       "    <tr>\n",
       "      <th>16463</th>\n",
       "      <td>1.00</td>\n",
       "      <td>940</td>\n",
       "      <td>4264</td>\n",
       "      <td>7</td>\n",
       "      <td>5</td>\n",
       "      <td>0</td>\n",
       "      <td>0</td>\n",
       "      <td>66</td>\n",
       "      <td>546816.935618</td>\n",
       "      <td>5.264407e+06</td>\n",
       "      <td>5.619093</td>\n",
       "    </tr>\n",
       "    <tr>\n",
       "      <th>12598</th>\n",
       "      <td>2.25</td>\n",
       "      <td>2070</td>\n",
       "      <td>7225</td>\n",
       "      <td>8</td>\n",
       "      <td>3</td>\n",
       "      <td>0</td>\n",
       "      <td>0</td>\n",
       "      <td>36</td>\n",
       "      <td>564343.195352</td>\n",
       "      <td>5.244978e+06</td>\n",
       "      <td>5.477121</td>\n",
       "    </tr>\n",
       "    <tr>\n",
       "      <th>...</th>\n",
       "      <td>...</td>\n",
       "      <td>...</td>\n",
       "      <td>...</td>\n",
       "      <td>...</td>\n",
       "      <td>...</td>\n",
       "      <td>...</td>\n",
       "      <td>...</td>\n",
       "      <td>...</td>\n",
       "      <td>...</td>\n",
       "      <td>...</td>\n",
       "      <td>...</td>\n",
       "    </tr>\n",
       "    <tr>\n",
       "      <th>13261</th>\n",
       "      <td>1.00</td>\n",
       "      <td>790</td>\n",
       "      <td>13170</td>\n",
       "      <td>6</td>\n",
       "      <td>3</td>\n",
       "      <td>0</td>\n",
       "      <td>0</td>\n",
       "      <td>68</td>\n",
       "      <td>548381.646974</td>\n",
       "      <td>5.266342e+06</td>\n",
       "      <td>5.447158</td>\n",
       "    </tr>\n",
       "    <tr>\n",
       "      <th>6490</th>\n",
       "      <td>2.50</td>\n",
       "      <td>2000</td>\n",
       "      <td>5390</td>\n",
       "      <td>7</td>\n",
       "      <td>3</td>\n",
       "      <td>0</td>\n",
       "      <td>0</td>\n",
       "      <td>12</td>\n",
       "      <td>565755.572522</td>\n",
       "      <td>5.247006e+06</td>\n",
       "      <td>5.453318</td>\n",
       "    </tr>\n",
       "    <tr>\n",
       "      <th>7661</th>\n",
       "      <td>1.75</td>\n",
       "      <td>2160</td>\n",
       "      <td>5760</td>\n",
       "      <td>8</td>\n",
       "      <td>4</td>\n",
       "      <td>0</td>\n",
       "      <td>0</td>\n",
       "      <td>61</td>\n",
       "      <td>545835.661307</td>\n",
       "      <td>5.264755e+06</td>\n",
       "      <td>5.826075</td>\n",
       "    </tr>\n",
       "    <tr>\n",
       "      <th>21213</th>\n",
       "      <td>3.00</td>\n",
       "      <td>1950</td>\n",
       "      <td>1983</td>\n",
       "      <td>9</td>\n",
       "      <td>3</td>\n",
       "      <td>0</td>\n",
       "      <td>0</td>\n",
       "      <td>6</td>\n",
       "      <td>559976.813626</td>\n",
       "      <td>5.273019e+06</td>\n",
       "      <td>5.894870</td>\n",
       "    </tr>\n",
       "    <tr>\n",
       "      <th>3616</th>\n",
       "      <td>1.50</td>\n",
       "      <td>800</td>\n",
       "      <td>1196</td>\n",
       "      <td>8</td>\n",
       "      <td>3</td>\n",
       "      <td>0</td>\n",
       "      <td>0</td>\n",
       "      <td>12</td>\n",
       "      <td>549445.306279</td>\n",
       "      <td>5.282856e+06</td>\n",
       "      <td>5.447158</td>\n",
       "    </tr>\n",
       "  </tbody>\n",
       "</table>\n",
       "<p>1000 rows × 11 columns</p>\n",
       "</div>"
      ],
      "text/plain": [
       "       bathrooms  sqft_living  sqft_lot  grade  condition  waterfront  view  \\\n",
       "9172        3.00         2660      4600      8          3           0     0   \n",
       "2264        2.25         2530      8736      7          4           0     0   \n",
       "348         2.00         1390     13464      7          4           0     0   \n",
       "16463       1.00          940      4264      7          5           0     0   \n",
       "12598       2.25         2070      7225      8          3           0     0   \n",
       "...          ...          ...       ...    ...        ...         ...   ...   \n",
       "13261       1.00          790     13170      6          3           0     0   \n",
       "6490        2.50         2000      5390      7          3           0     0   \n",
       "7661        1.75         2160      5760      8          4           0     0   \n",
       "21213       3.00         1950      1983      9          3           0     0   \n",
       "3616        1.50          800      1196      8          3           0     0   \n",
       "\n",
       "       age          UTM_X         UTM_Y  log10_price  \n",
       "9172   109  552217.557035  5.274945e+06     6.091315  \n",
       "2264    57  565692.484331  5.272758e+06     5.790988  \n",
       "348     28  562451.661509  5.245291e+06     5.315130  \n",
       "16463   66  546816.935618  5.264407e+06     5.619093  \n",
       "12598   36  564343.195352  5.244978e+06     5.477121  \n",
       "...    ...            ...           ...          ...  \n",
       "13261   68  548381.646974  5.266342e+06     5.447158  \n",
       "6490    12  565755.572522  5.247006e+06     5.453318  \n",
       "7661    61  545835.661307  5.264755e+06     5.826075  \n",
       "21213    6  559976.813626  5.273019e+06     5.894870  \n",
       "3616    12  549445.306279  5.282856e+06     5.447158  \n",
       "\n",
       "[1000 rows x 11 columns]"
      ]
     },
     "execution_count": 13,
     "metadata": {},
     "output_type": "execute_result"
    }
   ],
   "source": [
    "X_coords"
   ]
  },
  {
   "cell_type": "code",
   "execution_count": 8,
   "metadata": {
    "scrolled": false
   },
   "outputs": [
    {
     "data": {
      "text/plain": [
       "(array([  54.,  334., 2236., 4665., 4912., 2911.,  975.,  366.,  110.,\n",
       "          18.]),\n",
       " array([4.8920946 , 5.06979823, 5.24750185, 5.42520548, 5.6029091 ,\n",
       "        5.78061273, 5.95831635, 6.13601997, 6.3137236 , 6.49142722,\n",
       "        6.66913085]),\n",
       " <BarContainer object of 10 artists>)"
      ]
     },
     "execution_count": 8,
     "metadata": {},
     "output_type": "execute_result"
    },
    {
     "data": {
      "image/png": "[encoded data removed]",
      "text/plain": [
       "<Figure size 640x480 with 1 Axes>"
      ]
     },
     "metadata": {},
     "output_type": "display_data"
    }
   ],
   "source": [
    "plt.hist(y)"
   ]
  },
  {
   "cell_type": "code",
   "execution_count": 9,
   "metadata": {
    "scrolled": false
   },
   "outputs": [
    {
     "name": "stderr",
     "output_type": "stream",
     "text": [
      "/var/folders/mp/9px298sd6vs8xccb_3sql0dr0000gp/T/ipykernel_78464/2260372218.py:4: MatplotlibDeprecationWarning: The get_cmap function was deprecated in Matplotlib 3.7 and will be removed two minor releases later. Use ``matplotlib.colormaps[name]`` or ``matplotlib.colormaps.get_cmap(obj)`` instead.\n",
      "  cmap = plt.cm.get_cmap('coolwarm',8),vmin=-1,vmax=1,fmt=\".2f\")\n"
     ]
    },
    {
     "data": {
      "image/png": "[encoded data removed]",
      "text/plain": [
       "<Figure size 800x800 with 2 Axes>"
      ]
     },
     "metadata": {},
     "output_type": "display_data"
    }
   ],
   "source": [
    "plt.figure(figsize=(10,10),dpi=80)\n",
    "\n",
    "dataplot = sns.heatmap(X_coords.corr(),annot=True,square=True,\n",
    "                       cmap = plt.cm.get_cmap('coolwarm',8),vmin=-1,vmax=1,fmt=\".2f\")\n",
    "#plt.savefig(\"coor_matrix_house.png\",bbox_inches='tight')"
   ]
  },
  {
   "cell_type": "markdown",
   "metadata": {},
   "source": [
    "## Model training"
   ]
  },
  {
   "cell_type": "code",
   "execution_count": 10,
   "metadata": {
    "scrolled": false
   },
   "outputs": [],
   "source": [
    "X_train, X_test, y_train, y_test = train_test_split(X_coords, y, random_state=1)"
   ]
  },
  {
   "cell_type": "code",
   "execution_count": 11,
   "metadata": {
    "scrolled": false
   },
   "outputs": [],
   "source": [
    "from hpsklearn import HyperoptEstimator, random_forest_regressor,mlp_regressor,svr,any_preprocessing\n",
    "from hpsklearn import xgboost_regression,gaussian_process_regressor,linear_regression\n",
    "from hyperopt import tpe\n",
    "from sklearn.metrics import r2_score\n",
    "from hyperopt import STATUS_OK"
   ]
  },
  {
   "cell_type": "code",
   "execution_count": 12,
   "metadata": {
    "scrolled": false
   },
   "outputs": [],
   "source": [
    "def train_any_model(any_regressor,  max_evals=100):\n",
    "    \n",
    "    estim = HyperoptEstimator(regressor=any_regressor(\"myModel\"),\n",
    "                              algo=tpe.suggest,max_evals=max_evals,\n",
    "                              trial_timeout=60,seed=999)\n",
    "    \n",
    "    estim.fit(X_train.values, y_train.values)\n",
    "    \n",
    "    return estim"
   ]
  },
  {
   "cell_type": "code",
   "execution_count": 13,
   "metadata": {},
   "outputs": [
    {
     "name": "stdout",
     "output_type": "stream",
     "text": [
      "100%|██████████| 1/1 [00:01<00:00,  1.12s/trial, best loss: 0.24225102603110282]\n",
      "100%|██████████| 2/2 [00:01<00:00,  1.11s/trial, best loss: 0.24225102603110193]\n",
      "100%|██████████| 3/3 [00:01<00:00,  1.10s/trial, best loss: 0.24225102603110193]\n",
      "100%|██████████| 4/4 [00:01<00:00,  1.10s/trial, best loss: 0.24225102603110193]\n",
      "100%|███████████| 5/5 [00:01<00:00,  1.16s/trial, best loss: 0.2422510176230661]\n",
      "100%|███████████| 6/6 [00:01<00:00,  1.18s/trial, best loss: 0.2422510176230661]\n",
      "100%|███████████| 7/7 [00:01<00:00,  1.06s/trial, best loss: 0.2422510176230661]\n",
      "100%|███████████| 8/8 [00:01<00:00,  1.12s/trial, best loss: 0.2422510176230661]\n",
      "100%|███████████| 9/9 [00:01<00:00,  1.16s/trial, best loss: 0.2422510176230661]\n",
      "100%|█████████| 10/10 [00:01<00:00,  1.08s/trial, best loss: 0.2422510176230661]\n",
      "CPU times: user 137 ms, sys: 110 ms, total: 247 ms\n",
      "Wall time: 11.3 s\n"
     ]
    }
   ],
   "source": [
    "%%time\n",
    "ols_model = train_any_model(linear_regression,max_evals=10)\n",
    "#pickle.dump(ols_model, open(\"ols_house.sav\", 'wb'))"
   ]
  },
  {
   "cell_type": "code",
   "execution_count": 14,
   "metadata": {},
   "outputs": [
    {
     "name": "stdout",
     "output_type": "stream",
     "text": [
      "0.762883934343102\n"
     ]
    }
   ],
   "source": [
    "print(ols_model.score(X_test, y_test))"
   ]
  },
  {
   "cell_type": "code",
   "execution_count": 15,
   "metadata": {},
   "outputs": [
    {
     "name": "stdout",
     "output_type": "stream",
     "text": [
      "100%|████████████| 1/1 [00:01<00:00,  1.23s/trial, best loss: 459.3845321761294]\n",
      "100%|██████████| 2/2 [00:01<00:00,  1.16s/trial, best loss: 0.19564789085757872]\n",
      "100%|██████████| 3/3 [00:01<00:00,  1.55s/trial, best loss: 0.12770803911661033]\n",
      "100%|██████████| 4/4 [00:02<00:00,  2.06s/trial, best loss: 0.12770803911661033]\n",
      "100%|██████████| 5/5 [00:02<00:00,  2.12s/trial, best loss: 0.12770803911661033]\n",
      "100%|██████████| 6/6 [00:01<00:00,  1.13s/trial, best loss: 0.12770803911661033]\n",
      "100%|██████████| 7/7 [00:01<00:00,  1.81s/trial, best loss: 0.12770803911661033]\n",
      "100%|██████████| 8/8 [00:01<00:00,  1.21s/trial, best loss: 0.12770803911661033]\n",
      "100%|██████████| 9/9 [00:02<00:00,  2.06s/trial, best loss: 0.10435181088400358]\n",
      "100%|████████| 10/10 [00:01<00:00,  1.70s/trial, best loss: 0.10435181088400358]\n",
      "100%|████████| 11/11 [00:01<00:00,  1.10s/trial, best loss: 0.10435181088400358]\n",
      "100%|████████| 12/12 [00:02<00:00,  2.03s/trial, best loss: 0.09867178761240847]\n",
      "100%|████████| 13/13 [00:01<00:00,  1.52s/trial, best loss: 0.09867178761240847]\n",
      "100%|████████| 14/14 [00:01<00:00,  1.67s/trial, best loss: 0.09867178761240847]\n",
      "100%|████████| 15/15 [00:01<00:00,  1.27s/trial, best loss: 0.09867178761240847]\n",
      "100%|████████| 16/16 [00:02<00:00,  2.80s/trial, best loss: 0.09733363624347757]\n",
      "100%|████████| 17/17 [00:01<00:00,  1.98s/trial, best loss: 0.09733363624347757]\n",
      "100%|████████| 18/18 [00:01<00:00,  1.35s/trial, best loss: 0.09733363624347757]\n",
      "100%|████████| 19/19 [00:52<00:00, 52.41s/trial, best loss: 0.09733363624347757]\n",
      "100%|████████| 20/20 [00:01<00:00,  1.14s/trial, best loss: 0.09733363624347757]\n",
      "100%|████████| 21/21 [00:04<00:00,  4.10s/trial, best loss: 0.09733363624347757]\n",
      "100%|███████████| 22/22 [00:02<00:00,  2.55s/trial, best loss: 0.09529817320876]\n",
      "100%|███████████| 23/23 [00:02<00:00,  2.33s/trial, best loss: 0.09529817320876]\n",
      "100%|███████████| 24/24 [00:29<00:00, 29.30s/trial, best loss: 0.09529817320876]\n",
      "100%|███████████| 25/25 [00:06<00:00,  6.35s/trial, best loss: 0.09529817320876]\n",
      "100%|███████████| 26/26 [00:02<00:00,  2.39s/trial, best loss: 0.09529817320876]\n",
      "100%|███████████| 27/27 [00:02<00:00,  2.29s/trial, best loss: 0.09529817320876]\n",
      "100%|███████████| 28/28 [00:04<00:00,  4.69s/trial, best loss: 0.09529817320876]\n",
      "100%|███████████| 29/29 [00:02<00:00,  2.32s/trial, best loss: 0.09529817320876]\n",
      "100%|███████████| 30/30 [01:35<00:00, 95.41s/trial, best loss: 0.09529817320876]\n",
      "100%|███████████| 31/31 [00:01<00:00,  1.89s/trial, best loss: 0.09529817320876]\n",
      "100%|███████████| 32/32 [00:02<00:00,  2.29s/trial, best loss: 0.09529817320876]\n",
      "100%|███████████| 33/33 [00:03<00:00,  3.31s/trial, best loss: 0.09529817320876]\n",
      "100%|███████████| 34/34 [00:03<00:00,  3.64s/trial, best loss: 0.09529817320876]\n",
      "100%|███████████| 35/35 [00:02<00:00,  2.26s/trial, best loss: 0.09529817320876]\n",
      "100%|███████████| 36/36 [00:06<00:00,  6.92s/trial, best loss: 0.09529817320876]\n",
      "100%|███████████| 37/37 [00:02<00:00,  2.22s/trial, best loss: 0.09529817320876]\n",
      "100%|███████████| 38/38 [00:01<00:00,  1.65s/trial, best loss: 0.09529817320876]\n",
      "100%|███████████| 39/39 [00:12<00:00, 12.22s/trial, best loss: 0.09529817320876]\n",
      "100%|███████████| 40/40 [00:04<00:00,  4.00s/trial, best loss: 0.09529817320876]\n",
      "100%|███████████| 41/41 [00:03<00:00,  3.64s/trial, best loss: 0.09529817320876]\n",
      "100%|███████████| 42/42 [00:01<00:00,  1.88s/trial, best loss: 0.09529817320876]\n",
      "100%|███████████| 43/43 [00:02<00:00,  2.38s/trial, best loss: 0.09529817320876]\n",
      "100%|███████████| 44/44 [00:01<00:00,  1.96s/trial, best loss: 0.09529817320876]\n",
      "100%|███████████| 45/45 [00:02<00:00,  2.63s/trial, best loss: 0.09529817320876]\n",
      "100%|███████████| 46/46 [00:11<00:00, 11.12s/trial, best loss: 0.09529817320876]\n",
      "100%|███████████| 47/47 [00:02<00:00,  2.82s/trial, best loss: 0.09529817320876]\n",
      "100%|███████████| 48/48 [00:04<00:00,  4.25s/trial, best loss: 0.09529817320876]\n",
      "100%|███████████| 49/49 [00:01<00:00,  1.84s/trial, best loss: 0.09529817320876]\n",
      "100%|███████████| 50/50 [00:02<00:00,  2.46s/trial, best loss: 0.09529817320876]\n",
      "100%|██████████| 51/51 [15:50<00:00, 950.85s/trial, best loss: 0.09529817320876]\n",
      "100%|███████████| 52/52 [00:02<00:00,  2.41s/trial, best loss: 0.09529817320876]\n",
      "100%|███████████| 53/53 [00:01<00:00,  1.71s/trial, best loss: 0.09529817320876]\n",
      "100%|██████████| 54/54 [15:00<00:00, 900.54s/trial, best loss: 0.09529817320876]\n",
      "100%|███████████| 55/55 [00:02<00:00,  2.46s/trial, best loss: 0.09529817320876]\n",
      "100%|█████████| 56/56 [17:26<00:00, 1046.79s/trial, best loss: 0.09529817320876]\n",
      "100%|███████████| 57/57 [00:02<00:00,  2.04s/trial, best loss: 0.09529817320876]\n",
      "100%|██████████| 58/58 [07:15<00:00, 435.90s/trial, best loss: 0.09529817320876]\n",
      "100%|███████████| 59/59 [00:01<00:00,  1.76s/trial, best loss: 0.09529817320876]\n",
      "100%|███████████| 60/60 [00:01<00:00,  1.55s/trial, best loss: 0.09529817320876]\n",
      "100%|███████████| 61/61 [00:01<00:00,  1.64s/trial, best loss: 0.09529817320876]\n",
      "100%|███████████| 62/62 [00:01<00:00,  1.63s/trial, best loss: 0.09529817320876]\n",
      "100%|███████████| 63/63 [00:01<00:00,  1.36s/trial, best loss: 0.09529817320876]\n",
      "100%|███████████| 64/64 [00:01<00:00,  1.82s/trial, best loss: 0.09529817320876]\n",
      "100%|███████████| 65/65 [00:03<00:00,  3.59s/trial, best loss: 0.09529817320876]\n",
      "100%|███████████| 66/66 [00:02<00:00,  2.23s/trial, best loss: 0.09529817320876]\n",
      "100%|███████████| 67/67 [00:02<00:00,  2.12s/trial, best loss: 0.09529817320876]\n",
      "100%|███████████| 68/68 [00:02<00:00,  2.42s/trial, best loss: 0.09529817320876]\n",
      "100%|███████████| 69/69 [00:03<00:00,  3.14s/trial, best loss: 0.09529817320876]\n",
      "100%|███████████| 70/70 [00:01<00:00,  1.68s/trial, best loss: 0.09529817320876]\n",
      "100%|███████████| 71/71 [00:03<00:00,  3.04s/trial, best loss: 0.09529817320876]\n",
      "100%|███████████| 72/72 [00:01<00:00,  1.96s/trial, best loss: 0.09529817320876]\n",
      "100%|███████████| 73/73 [00:02<00:00,  2.07s/trial, best loss: 0.09529817320876]\n",
      "100%|███████████| 74/74 [00:02<00:00,  2.04s/trial, best loss: 0.09529817320876]\n",
      "100%|███████████| 75/75 [00:06<00:00,  6.20s/trial, best loss: 0.09529817320876]\n",
      "100%|███████████| 76/76 [00:02<00:00,  2.04s/trial, best loss: 0.09529817320876]\n",
      "100%|███████████| 77/77 [00:01<00:00,  1.79s/trial, best loss: 0.09529817320876]\n",
      "100%|███████████| 78/78 [00:02<00:00,  2.28s/trial, best loss: 0.09529817320876]\n",
      "100%|███████████| 79/79 [00:01<00:00,  1.88s/trial, best loss: 0.09529817320876]\n",
      "100%|███████████| 80/80 [00:01<00:00,  1.76s/trial, best loss: 0.09529817320876]\n",
      "100%|███████████| 81/81 [00:02<00:00,  2.26s/trial, best loss: 0.09529817320876]\n",
      "100%|███████████| 82/82 [00:01<00:00,  1.58s/trial, best loss: 0.09529817320876]\n",
      "100%|███████████| 83/83 [00:02<00:00,  2.59s/trial, best loss: 0.09529817320876]\n",
      "100%|███████████| 84/84 [00:03<00:00,  3.32s/trial, best loss: 0.09529817320876]\n",
      "100%|███████████| 85/85 [00:04<00:00,  4.52s/trial, best loss: 0.09529817320876]\n",
      "100%|███████████| 86/86 [00:03<00:00,  3.85s/trial, best loss: 0.09529817320876]\n",
      "100%|███████████| 87/87 [00:02<00:00,  2.34s/trial, best loss: 0.09529817320876]\n",
      "100%|███████████| 88/88 [00:01<00:00,  1.90s/trial, best loss: 0.09529817320876]\n",
      "100%|███████████| 89/89 [00:02<00:00,  2.17s/trial, best loss: 0.09529817320876]\n",
      "100%|███████████| 90/90 [00:01<00:00,  1.95s/trial, best loss: 0.09529817320876]\n",
      "100%|███████████| 91/91 [00:01<00:00,  1.75s/trial, best loss: 0.09529817320876]\n",
      "100%|███████████| 92/92 [00:01<00:00,  1.88s/trial, best loss: 0.09529817320876]\n",
      "100%|███████████| 93/93 [00:02<00:00,  2.47s/trial, best loss: 0.09529817320876]\n",
      "100%|███████████| 94/94 [00:02<00:00,  2.09s/trial, best loss: 0.09529817320876]\n",
      "100%|███████████| 95/95 [00:03<00:00,  3.49s/trial, best loss: 0.09529817320876]\n",
      "100%|███████████| 96/96 [00:04<00:00,  4.54s/trial, best loss: 0.09529817320876]\n",
      "100%|███████████| 97/97 [00:01<00:00,  1.86s/trial, best loss: 0.09529817320876]\n",
      "100%|███████████| 98/98 [00:03<00:00,  3.76s/trial, best loss: 0.09529817320876]\n",
      "100%|███████████| 99/99 [00:04<00:00,  4.53s/trial, best loss: 0.09529817320876]\n",
      "100%|█████████| 100/100 [00:01<00:00,  1.85s/trial, best loss: 0.09529817320876]\n",
      "CPU times: user 4.44 s, sys: 2.93 s, total: 7.37 s\n",
      "Wall time: 1h 2min 40s\n"
     ]
    }
   ],
   "source": [
    "%%time\n",
    "xgb_model = train_any_model(xgboost_regression)\n",
    "pickle.dump(xgb_model, open(\"xgb_house.sav\", 'wb'))"
   ]
  },
  {
   "cell_type": "code",
   "execution_count": 16,
   "metadata": {},
   "outputs": [
    {
     "name": "stdout",
     "output_type": "stream",
     "text": [
      "100%|███████████| 1/1 [00:06<00:00,  6.19s/trial, best loss: 29473.413882657696]\n",
      "100%|███████████| 2/2 [00:03<00:00,  3.86s/trial, best loss: 29473.413882657696]\n",
      "100%|██████████| 3/3 [00:11<00:00, 11.36s/trial, best loss: 0.24223213013229883]\n",
      "100%|██████████| 4/4 [00:05<00:00,  5.12s/trial, best loss: 0.24223213013229883]\n",
      "100%|██████████| 5/5 [00:02<00:00,  2.79s/trial, best loss: 0.24223213013229883]\n",
      "100%|██████████| 6/6 [00:14<00:00, 14.97s/trial, best loss: 0.18083745167506837]\n",
      "100%|██████████| 7/7 [00:03<00:00,  3.51s/trial, best loss: 0.18083745167506837]\n",
      "100%|██████████| 8/8 [00:02<00:00,  2.88s/trial, best loss: 0.18083745167506837]\n",
      "100%|██████████| 9/9 [00:07<00:00,  7.00s/trial, best loss: 0.18083745167506837]\n",
      "100%|████████| 10/10 [00:03<00:00,  3.48s/trial, best loss: 0.18083745167506837]\n",
      "100%|████████| 11/11 [00:03<00:00,  3.15s/trial, best loss: 0.18083745167506837]\n",
      "100%|████████| 12/12 [00:04<00:00,  4.32s/trial, best loss: 0.18083745167506837]\n",
      "100%|████████| 13/13 [00:03<00:00,  3.65s/trial, best loss: 0.18083745167506837]\n",
      "100%|████████| 14/14 [01:00<00:00, 60.96s/trial, best loss: 0.18083745167506837]\n",
      "100%|████████| 15/15 [00:04<00:00,  4.69s/trial, best loss: 0.18083745167506837]\n",
      "100%|████████| 16/16 [00:04<00:00,  4.62s/trial, best loss: 0.18083745167506837]\n",
      "100%|████████| 17/17 [00:03<00:00,  3.04s/trial, best loss: 0.18083745167506837]\n",
      "100%|████████| 18/18 [00:04<00:00,  4.52s/trial, best loss: 0.18083745167506837]\n",
      "100%|████████| 19/19 [01:01<00:00, 61.02s/trial, best loss: 0.18083745167506837]\n",
      "100%|████████| 20/20 [00:03<00:00,  3.49s/trial, best loss: 0.14689932415832152]\n",
      "100%|█████████| 21/21 [00:03<00:00,  3.77s/trial, best loss: 0.1468235918177544]\n",
      "100%|█████████| 22/22 [00:03<00:00,  3.59s/trial, best loss: 0.1468235918177544]\n",
      "100%|█████████| 23/23 [00:03<00:00,  3.45s/trial, best loss: 0.1468235918177544]\n",
      "100%|█████████| 24/24 [00:03<00:00,  3.14s/trial, best loss: 0.1468235918177544]\n",
      "100%|████████| 25/25 [00:03<00:00,  3.25s/trial, best loss: 0.13662872085211564]\n",
      "100%|████████| 26/26 [00:02<00:00,  2.64s/trial, best loss: 0.13662872085211564]\n",
      "100%|████████| 27/27 [00:01<00:00,  1.61s/trial, best loss: 0.13662872085211564]\n",
      "100%|█████████| 28/28 [00:03<00:00,  3.36s/trial, best loss: 0.1361737560070223]\n",
      "100%|█████████| 29/29 [00:03<00:00,  3.32s/trial, best loss: 0.1361737560070223]\n",
      "100%|█████████| 30/30 [00:02<00:00,  2.81s/trial, best loss: 0.1361737560070223]\n",
      "100%|█████████| 31/31 [00:02<00:00,  2.51s/trial, best loss: 0.1361737560070223]\n",
      "100%|█████████| 32/32 [00:04<00:00,  4.98s/trial, best loss: 0.1361737560070223]\n",
      "100%|█████████| 33/33 [00:03<00:00,  3.32s/trial, best loss: 0.1361737560070223]\n",
      "100%|████████| 34/34 [00:02<00:00,  2.91s/trial, best loss: 0.13444157333913598]\n",
      "100%|████████| 35/35 [00:02<00:00,  2.55s/trial, best loss: 0.13444157333913598]\n",
      "100%|████████| 36/36 [00:02<00:00,  2.65s/trial, best loss: 0.13444157333913598]\n",
      "100%|████████| 37/37 [00:02<00:00,  2.31s/trial, best loss: 0.13444157333913598]\n",
      "100%|████████| 38/38 [00:02<00:00,  2.20s/trial, best loss: 0.13444157333913598]\n",
      "100%|████████| 39/39 [00:03<00:00,  3.25s/trial, best loss: 0.13444157333913598]\n",
      "100%|████████| 40/40 [00:02<00:00,  2.16s/trial, best loss: 0.13444157333913598]\n",
      "100%|████████| 41/41 [00:02<00:00,  2.96s/trial, best loss: 0.13444157333913598]\n",
      "100%|████████| 42/42 [00:04<00:00,  4.56s/trial, best loss: 0.13444157333913598]\n",
      "100%|████████| 43/43 [00:02<00:00,  2.72s/trial, best loss: 0.13444157333913598]\n",
      "100%|████████| 44/44 [00:02<00:00,  2.17s/trial, best loss: 0.13444157333913598]\n",
      "100%|████████| 45/45 [00:03<00:00,  3.72s/trial, best loss: 0.13444157333913598]\n",
      "100%|████████| 46/46 [00:01<00:00,  1.86s/trial, best loss: 0.13444157333913598]\n",
      "100%|████████| 47/47 [00:03<00:00,  3.50s/trial, best loss: 0.13444157333913598]\n",
      "100%|████████| 48/48 [00:03<00:00,  3.27s/trial, best loss: 0.13444157333913598]\n",
      "100%|████████| 49/49 [00:02<00:00,  3.00s/trial, best loss: 0.13444157333913598]\n",
      "100%|████████| 50/50 [01:00<00:00, 60.99s/trial, best loss: 0.13444157333913598]\n",
      "100%|████████| 51/51 [00:01<00:00,  1.91s/trial, best loss: 0.13444157333913598]\n",
      "100%|████████| 52/52 [00:02<00:00,  2.40s/trial, best loss: 0.13444157333913598]\n",
      "100%|████████| 53/53 [00:03<00:00,  3.42s/trial, best loss: 0.13444157333913598]\n",
      "100%|████████| 54/54 [00:02<00:00,  2.15s/trial, best loss: 0.13444157333913598]\n",
      "100%|████████| 55/55 [00:02<00:00,  2.59s/trial, best loss: 0.13444157333913598]\n",
      "100%|████████| 56/56 [00:03<00:00,  3.55s/trial, best loss: 0.13444157333913598]\n",
      "100%|████████| 57/57 [01:01<00:00, 61.03s/trial, best loss: 0.13444157333913598]\n",
      "100%|████████| 58/58 [00:01<00:00,  1.76s/trial, best loss: 0.13444157333913598]\n",
      "100%|████████| 59/59 [00:03<00:00,  3.69s/trial, best loss: 0.13444157333913598]\n",
      "100%|████████| 60/60 [00:01<00:00,  1.76s/trial, best loss: 0.13444157333913598]\n",
      "100%|████████| 61/61 [00:03<00:00,  3.55s/trial, best loss: 0.13444157333913598]\n",
      "100%|████████| 62/62 [00:05<00:00,  5.95s/trial, best loss: 0.13444157333913598]\n",
      "100%|████████| 63/63 [00:04<00:00,  4.47s/trial, best loss: 0.13444157333913598]\n",
      "100%|████████| 64/64 [00:03<00:00,  3.02s/trial, best loss: 0.13444157333913598]\n",
      "100%|████████| 65/65 [00:03<00:00,  3.26s/trial, best loss: 0.13444157333913598]\n",
      "100%|████████| 66/66 [00:03<00:00,  3.55s/trial, best loss: 0.13444157333913598]\n",
      "100%|████████| 67/67 [00:03<00:00,  3.76s/trial, best loss: 0.13444157333913598]\n",
      "100%|████████| 68/68 [00:03<00:00,  3.12s/trial, best loss: 0.13444157333913598]\n",
      "100%|████████| 69/69 [00:03<00:00,  3.06s/trial, best loss: 0.13444157333913598]\n",
      "100%|████████| 70/70 [00:03<00:00,  3.76s/trial, best loss: 0.13444157333913598]\n",
      "100%|████████| 71/71 [00:02<00:00,  2.96s/trial, best loss: 0.13444157333913598]\n",
      "100%|████████| 72/72 [00:03<00:00,  3.03s/trial, best loss: 0.13444157333913598]\n",
      "100%|████████| 73/73 [00:02<00:00,  2.71s/trial, best loss: 0.13444157333913598]\n",
      "100%|████████| 74/74 [00:03<00:00,  3.24s/trial, best loss: 0.13444157333913598]\n",
      "100%|████████| 75/75 [00:04<00:00,  4.98s/trial, best loss: 0.13444157333913598]\n",
      "100%|████████| 76/76 [00:02<00:00,  2.77s/trial, best loss: 0.13444157333913598]\n",
      "100%|████████| 77/77 [00:02<00:00,  2.36s/trial, best loss: 0.13444157333913598]\n",
      "100%|████████| 78/78 [00:02<00:00,  2.88s/trial, best loss: 0.13444157333913598]\n",
      "100%|████████| 79/79 [00:25<00:00, 25.79s/trial, best loss: 0.13444157333913598]\n",
      "100%|████████| 80/80 [00:02<00:00,  2.93s/trial, best loss: 0.13444157333913598]\n",
      "100%|████████| 81/81 [00:05<00:00,  5.20s/trial, best loss: 0.13444157333913598]\n",
      "100%|████████| 82/82 [00:03<00:00,  3.66s/trial, best loss: 0.13444157333913598]\n",
      "100%|████████| 83/83 [00:02<00:00,  2.55s/trial, best loss: 0.13444157333913598]\n",
      "100%|████████| 84/84 [00:02<00:00,  2.72s/trial, best loss: 0.13444157333913598]\n",
      "100%|████████| 85/85 [00:02<00:00,  2.38s/trial, best loss: 0.13444157333913598]\n",
      "100%|████████| 86/86 [00:17<00:00, 17.81s/trial, best loss: 0.13444157333913598]\n",
      "100%|████████| 87/87 [00:02<00:00,  2.66s/trial, best loss: 0.13444157333913598]\n",
      "100%|████████| 88/88 [00:04<00:00,  4.60s/trial, best loss: 0.13444157333913598]\n",
      "100%|████████| 89/89 [00:02<00:00,  2.59s/trial, best loss: 0.13444157333913598]\n",
      "100%|████████| 90/90 [00:03<00:00,  3.83s/trial, best loss: 0.13444157333913598]\n",
      "100%|████████| 91/91 [00:03<00:00,  3.02s/trial, best loss: 0.13444157333913598]\n",
      "100%|████████| 92/92 [00:02<00:00,  2.30s/trial, best loss: 0.13444157333913598]\n",
      "100%|████████| 93/93 [00:02<00:00,  2.60s/trial, best loss: 0.13444157333913598]\n",
      "100%|████████| 94/94 [00:02<00:00,  2.66s/trial, best loss: 0.13444157333913598]\n",
      "100%|████████| 95/95 [00:05<00:00,  5.69s/trial, best loss: 0.13444157333913598]\n",
      "100%|████████| 96/96 [00:02<00:00,  2.33s/trial, best loss: 0.13444157333913598]\n",
      "100%|████████| 97/97 [00:01<00:00,  1.80s/trial, best loss: 0.13444157333913598]\n",
      "100%|████████| 98/98 [00:02<00:00,  2.67s/trial, best loss: 0.13444157333913598]\n",
      "100%|████████| 99/99 [00:02<00:00,  2.93s/trial, best loss: 0.13444157333913598]\n",
      "100%|██████| 100/100 [00:04<00:00,  4.94s/trial, best loss: 0.13444157333913598]\n",
      "CPU times: user 3.87 s, sys: 1.52 s, total: 5.39 s\n",
      "Wall time: 10min 20s\n"
     ]
    }
   ],
   "source": [
    "%%time\n",
    "svm_model = train_any_model(svr)\n",
    "pickle.dump(svm_model, open(\"svm_house.sav\", 'wb'))"
   ]
  },
  {
   "cell_type": "code",
   "execution_count": 17,
   "metadata": {},
   "outputs": [
    {
     "name": "stdout",
     "output_type": "stream",
     "text": [
      "100%|███████████| 1/1 [00:08<00:00,  8.37s/trial, best loss: 0.8705720321487401]\n",
      "100%|███████████| 2/2 [00:08<00:00,  8.27s/trial, best loss: 0.8705720321487401]\n",
      "100%|███████████| 3/3 [00:08<00:00,  8.25s/trial, best loss: 0.8705720321487401]\n",
      "100%|███████████| 4/4 [00:08<00:00,  8.40s/trial, best loss: 0.8705720321487401]\n",
      "100%|███████████| 5/5 [00:08<00:00,  8.14s/trial, best loss: 0.8705720321487401]\n",
      "100%|███████████| 6/6 [00:08<00:00,  8.49s/trial, best loss: 0.8705720321487401]\n",
      "100%|███████████| 7/7 [00:08<00:00,  8.41s/trial, best loss: 0.8705720321487401]\n",
      "100%|███████████| 8/8 [00:08<00:00,  8.07s/trial, best loss: 0.8705720321487401]\n",
      "100%|███████████| 9/9 [00:08<00:00,  8.42s/trial, best loss: 0.8705720321487401]\n",
      "100%|█████████| 10/10 [00:08<00:00,  8.42s/trial, best loss: 0.8705720321487401]\n",
      "100%|████████| 11/11 [00:08<00:00,  8.39s/trial, best loss: 0.17427354052430155]\n",
      "100%|████████| 12/12 [00:08<00:00,  8.25s/trial, best loss: 0.17427354052430155]\n",
      "100%|████████| 13/13 [00:08<00:00,  8.46s/trial, best loss: 0.17427354052430155]\n",
      "100%|████████| 14/14 [00:08<00:00,  8.07s/trial, best loss: 0.17427354052430155]\n",
      "100%|█████████| 15/15 [00:08<00:00,  8.08s/trial, best loss: 0.1337033980590988]\n",
      "100%|█████████| 16/16 [00:07<00:00,  7.74s/trial, best loss: 0.1337033980590988]\n",
      "100%|█████████| 17/17 [00:08<00:00,  8.65s/trial, best loss: 0.1337033980590988]\n",
      "100%|█████████| 18/18 [00:08<00:00,  8.41s/trial, best loss: 0.1337033980590988]\n",
      "100%|█████████| 19/19 [00:08<00:00,  8.68s/trial, best loss: 0.1337033980590988]\n",
      "100%|█████████| 20/20 [00:08<00:00,  8.50s/trial, best loss: 0.1337033980590988]\n",
      "100%|█████████| 21/21 [00:08<00:00,  8.13s/trial, best loss: 0.1337033980590988]\n",
      "100%|█████████| 22/22 [00:08<00:00,  8.76s/trial, best loss: 0.1337033980590988]\n",
      "100%|█████████| 23/23 [00:08<00:00,  8.08s/trial, best loss: 0.1337033980590988]\n",
      "100%|█████████| 24/24 [00:08<00:00,  8.44s/trial, best loss: 0.1337033980590988]\n",
      "100%|█████████| 25/25 [00:08<00:00,  8.15s/trial, best loss: 0.1337033980590988]\n",
      "100%|█████████| 26/26 [00:08<00:00,  8.19s/trial, best loss: 0.1337033980590988]\n",
      "100%|█████████| 27/27 [00:08<00:00,  8.19s/trial, best loss: 0.1337033980590988]\n",
      "100%|█████████| 28/28 [00:07<00:00,  7.91s/trial, best loss: 0.1334870693296908]\n",
      "100%|█████████| 29/29 [00:09<00:00,  9.16s/trial, best loss: 0.1334870693296908]\n",
      "100%|█████████| 30/30 [00:08<00:00,  8.30s/trial, best loss: 0.1334870693296908]\n",
      "100%|█████████| 31/31 [00:08<00:00,  8.60s/trial, best loss: 0.1334870693296908]\n",
      "100%|█████████| 32/32 [00:08<00:00,  8.59s/trial, best loss: 0.1334870693296908]\n",
      "100%|████████| 33/33 [00:08<00:00,  8.48s/trial, best loss: 0.13344177853236938]\n",
      "100%|█████████| 34/34 [00:08<00:00,  8.76s/trial, best loss: 0.1334411395291295]\n",
      "100%|█████████| 35/35 [00:08<00:00,  8.71s/trial, best loss: 0.1334411395291295]\n",
      "100%|█████████| 36/36 [00:08<00:00,  8.46s/trial, best loss: 0.1334411395291295]\n",
      "100%|█████████| 37/37 [00:08<00:00,  8.58s/trial, best loss: 0.1334411395291295]\n",
      "100%|█████████| 38/38 [00:08<00:00,  8.35s/trial, best loss: 0.1334411395291295]\n",
      "100%|█████████| 39/39 [00:08<00:00,  8.31s/trial, best loss: 0.1334411395291295]\n",
      "100%|█████████| 40/40 [00:08<00:00,  8.01s/trial, best loss: 0.1334411395291295]\n",
      "100%|█████████| 41/41 [00:07<00:00,  7.92s/trial, best loss: 0.1334411395291295]\n",
      "100%|█████████| 42/42 [00:08<00:00,  8.54s/trial, best loss: 0.1334411395291295]\n",
      "100%|█████████| 43/43 [00:08<00:00,  8.55s/trial, best loss: 0.1334411395291295]\n",
      "100%|█████████| 44/44 [00:08<00:00,  8.41s/trial, best loss: 0.1334411395291295]\n",
      "100%|█████████| 45/45 [00:08<00:00,  8.50s/trial, best loss: 0.1334411395291295]\n",
      "100%|█████████| 46/46 [00:08<00:00,  8.11s/trial, best loss: 0.1334411395291295]\n",
      "100%|█████████| 47/47 [00:08<00:00,  8.33s/trial, best loss: 0.1334411395291295]\n",
      "100%|█████████| 48/48 [00:08<00:00,  8.43s/trial, best loss: 0.1334411395291295]\n",
      "100%|█████████| 49/49 [00:08<00:00,  8.47s/trial, best loss: 0.1334411395291295]\n",
      "100%|█████████| 50/50 [00:08<00:00,  8.64s/trial, best loss: 0.1334411395291295]\n",
      "100%|█████████| 51/51 [00:08<00:00,  8.51s/trial, best loss: 0.1334411395291295]\n",
      "100%|█████████| 52/52 [00:08<00:00,  8.52s/trial, best loss: 0.1334411395291295]\n",
      "100%|█████████| 53/53 [00:08<00:00,  8.34s/trial, best loss: 0.1334411395291295]\n",
      "100%|█████████| 54/54 [00:08<00:00,  8.52s/trial, best loss: 0.1334411395291295]\n",
      "100%|█████████| 55/55 [00:08<00:00,  8.63s/trial, best loss: 0.1334411395291295]\n",
      "100%|█████████| 56/56 [00:08<00:00,  8.36s/trial, best loss: 0.1334411395291295]\n",
      "100%|█████████| 57/57 [00:09<00:00,  9.02s/trial, best loss: 0.1334411395291295]\n",
      "100%|█████████| 58/58 [00:07<00:00,  7.93s/trial, best loss: 0.1334411395291295]\n",
      "100%|█████████| 59/59 [00:07<00:00,  7.79s/trial, best loss: 0.1334411395291295]\n",
      "100%|█████████| 60/60 [00:08<00:00,  8.08s/trial, best loss: 0.1334411395291295]\n",
      "100%|█████████| 61/61 [00:07<00:00,  7.98s/trial, best loss: 0.1334411395291295]\n",
      "100%|█████████| 62/62 [00:07<00:00,  7.85s/trial, best loss: 0.1334411395291295]\n",
      "100%|█████████| 63/63 [00:07<00:00,  7.56s/trial, best loss: 0.1334411395291295]\n",
      "100%|█████████| 64/64 [00:07<00:00,  7.95s/trial, best loss: 0.1334411395291295]\n",
      "100%|█████████| 65/65 [00:07<00:00,  7.99s/trial, best loss: 0.1334411395291295]\n",
      "100%|█████████| 66/66 [00:08<00:00,  8.47s/trial, best loss: 0.1334411395291295]\n",
      "100%|█████████| 67/67 [00:08<00:00,  8.59s/trial, best loss: 0.1334411395291295]\n",
      "100%|█████████| 68/68 [00:07<00:00,  7.87s/trial, best loss: 0.1334411395291295]\n",
      "100%|█████████| 69/69 [00:08<00:00,  8.09s/trial, best loss: 0.1334411395291295]\n",
      "100%|█████████| 70/70 [00:07<00:00,  7.89s/trial, best loss: 0.1334411395291295]\n",
      "100%|█████████| 71/71 [00:07<00:00,  7.80s/trial, best loss: 0.1334411395291295]\n",
      "100%|█████████| 72/72 [00:07<00:00,  7.94s/trial, best loss: 0.1334411395291295]\n",
      "100%|█████████| 73/73 [00:08<00:00,  8.04s/trial, best loss: 0.1334411395291295]\n",
      "100%|█████████| 74/74 [00:08<00:00,  8.54s/trial, best loss: 0.1334411395291295]\n",
      "100%|█████████| 75/75 [00:08<00:00,  8.76s/trial, best loss: 0.1334411395291295]\n",
      "100%|█████████| 76/76 [00:07<00:00,  7.82s/trial, best loss: 0.1334411395291295]\n",
      "100%|█████████| 77/77 [00:07<00:00,  7.79s/trial, best loss: 0.1334411395291295]\n",
      "100%|█████████| 78/78 [00:08<00:00,  8.95s/trial, best loss: 0.1334411395291295]\n",
      "100%|████████| 79/79 [00:08<00:00,  8.15s/trial, best loss: 0.13342566643842135]\n",
      "100%|████████| 80/80 [00:07<00:00,  7.58s/trial, best loss: 0.13342566643842135]\n",
      "100%|████████| 81/81 [00:07<00:00,  7.97s/trial, best loss: 0.13342566643842135]\n",
      "100%|████████| 82/82 [00:07<00:00,  7.79s/trial, best loss: 0.13342566643842135]\n",
      "100%|████████| 83/83 [00:08<00:00,  8.10s/trial, best loss: 0.13342566643842135]\n",
      "100%|████████| 84/84 [00:08<00:00,  8.07s/trial, best loss: 0.13342566643842135]\n",
      "100%|████████| 85/85 [00:07<00:00,  7.68s/trial, best loss: 0.13342566643842135]\n",
      "100%|████████| 86/86 [00:08<00:00,  8.54s/trial, best loss: 0.13342566643842135]\n",
      "100%|████████| 87/87 [00:08<00:00,  8.17s/trial, best loss: 0.13342566643842135]\n",
      "100%|████████| 88/88 [00:07<00:00,  7.94s/trial, best loss: 0.13342566643842135]\n",
      "100%|████████| 89/89 [00:07<00:00,  7.84s/trial, best loss: 0.13342566643842135]\n",
      "100%|████████| 90/90 [00:07<00:00,  7.71s/trial, best loss: 0.13342566643842135]\n",
      "100%|████████| 91/91 [00:07<00:00,  7.89s/trial, best loss: 0.13342566643842135]\n",
      "100%|████████| 92/92 [00:08<00:00,  8.02s/trial, best loss: 0.13342566643842135]\n",
      "100%|████████| 93/93 [00:07<00:00,  7.73s/trial, best loss: 0.13342566643842135]\n",
      "100%|████████| 94/94 [00:08<00:00,  8.03s/trial, best loss: 0.13342566643842135]\n",
      "100%|████████| 95/95 [00:07<00:00,  7.88s/trial, best loss: 0.13342566643842135]\n",
      "100%|████████| 96/96 [00:08<00:00,  8.04s/trial, best loss: 0.13342566643842135]\n",
      "100%|████████| 97/97 [00:07<00:00,  7.82s/trial, best loss: 0.13342566643842135]\n",
      "100%|████████| 98/98 [00:07<00:00,  7.95s/trial, best loss: 0.13342566643842135]\n",
      "100%|████████| 99/99 [00:07<00:00,  7.71s/trial, best loss: 0.13342566643842135]\n",
      "100%|██████| 100/100 [00:07<00:00,  7.90s/trial, best loss: 0.13342566643842135]\n",
      "CPU times: user 58.2 s, sys: 11.2 s, total: 1min 9s\n",
      "Wall time: 13min 53s\n"
     ]
    }
   ],
   "source": [
    "%%time\n",
    "gp_model = train_any_model(gaussian_process_regressor)\n",
    "pickle.dump(gp_model, open(\"gp_house.sav\", 'wb'))"
   ]
  },
  {
   "cell_type": "code",
   "execution_count": 18,
   "metadata": {},
   "outputs": [
    {
     "name": "stdout",
     "output_type": "stream",
     "text": [
      "100%|██████████| 1/1 [00:02<00:00,  2.68s/trial, best loss: 0.11599220581344716]\n",
      "100%|██████████| 2/2 [00:08<00:00,  8.30s/trial, best loss: 0.11599220581344716]\n",
      "100%|██████████| 3/3 [00:12<00:00, 12.02s/trial, best loss: 0.11599220581344716]\n",
      "100%|██████████| 4/4 [00:01<00:00,  1.49s/trial, best loss: 0.11599220581344716]\n",
      "100%|██████████| 5/5 [01:00<00:00, 60.92s/trial, best loss: 0.11599220581344716]\n",
      "100%|██████████| 6/6 [00:02<00:00,  2.56s/trial, best loss: 0.11599220581344716]\n",
      "100%|██████████| 7/7 [01:00<00:00, 60.87s/trial, best loss: 0.11599220581344716]\n",
      "100%|██████████| 8/8 [00:50<00:00, 50.45s/trial, best loss: 0.11599220581344716]\n",
      "100%|██████████| 9/9 [00:01<00:00,  1.64s/trial, best loss: 0.11599220581344716]\n",
      "100%|████████| 10/10 [00:01<00:00,  1.56s/trial, best loss: 0.11599220581344716]\n",
      "100%|████████| 11/11 [01:00<00:00, 60.89s/trial, best loss: 0.11599220581344716]\n",
      "100%|████████| 12/12 [00:04<00:00,  4.43s/trial, best loss: 0.11599220581344716]\n",
      "100%|████████| 13/13 [00:06<00:00,  6.53s/trial, best loss: 0.11599220581344716]\n",
      "100%|████████| 14/14 [00:08<00:00,  8.89s/trial, best loss: 0.11599220581344716]\n",
      "100%|████████| 15/15 [00:06<00:00,  6.54s/trial, best loss: 0.11599220581344716]\n",
      "100%|████████| 16/16 [00:44<00:00, 44.31s/trial, best loss: 0.11599220581344716]\n",
      "100%|████████| 17/17 [00:46<00:00, 46.41s/trial, best loss: 0.11599220581344716]\n",
      "100%|████████| 18/18 [00:01<00:00,  1.65s/trial, best loss: 0.11599220581344716]\n",
      "100%|████████| 19/19 [00:23<00:00, 23.64s/trial, best loss: 0.11599220581344716]\n",
      "100%|████████| 20/20 [00:01<00:00,  1.93s/trial, best loss: 0.11599220581344716]\n",
      "100%|████████| 21/21 [00:04<00:00,  4.19s/trial, best loss: 0.11599220581344716]\n",
      "100%|████████| 22/22 [00:04<00:00,  4.76s/trial, best loss: 0.11599220581344716]\n",
      "100%|████████| 23/23 [00:01<00:00,  1.24s/trial, best loss: 0.11599220581344716]\n",
      "100%|████████| 24/24 [00:02<00:00,  2.65s/trial, best loss: 0.11599220581344716]\n",
      "100%|████████| 25/25 [00:01<00:00,  1.27s/trial, best loss: 0.11599220581344716]\n",
      "100%|████████| 26/26 [00:06<00:00,  6.47s/trial, best loss: 0.11589209193965233]\n",
      "100%|████████| 27/27 [00:03<00:00,  3.37s/trial, best loss: 0.11564035077234303]\n",
      "100%|████████| 28/28 [00:03<00:00,  3.19s/trial, best loss: 0.11560940321322566]\n",
      "100%|████████| 29/29 [00:06<00:00,  6.85s/trial, best loss: 0.11536423166643028]\n",
      "100%|████████| 30/30 [00:07<00:00,  7.65s/trial, best loss: 0.11536423166643028]\n",
      "100%|██████████| 31/31 [00:07<00:00,  7.58s/trial, best loss: 0.115320363746098]\n",
      "100%|██████████| 32/32 [00:21<00:00, 21.22s/trial, best loss: 0.115320363746098]\n",
      "100%|██████████| 33/33 [00:06<00:00,  6.21s/trial, best loss: 0.115320363746098]\n",
      "100%|██████████| 34/34 [00:22<00:00, 22.23s/trial, best loss: 0.115320363746098]\n",
      "100%|██████████| 35/35 [00:01<00:00,  1.87s/trial, best loss: 0.115320363746098]\n",
      "100%|██████████| 36/36 [00:19<00:00, 19.81s/trial, best loss: 0.115320363746098]\n",
      "100%|██████████| 37/37 [00:20<00:00, 20.26s/trial, best loss: 0.115320363746098]\n",
      "100%|██████████| 38/38 [00:41<00:00, 41.98s/trial, best loss: 0.115320363746098]\n",
      "100%|██████████| 39/39 [00:16<00:00, 16.88s/trial, best loss: 0.115320363746098]\n",
      "100%|██████████| 40/40 [01:00<00:00, 60.87s/trial, best loss: 0.115320363746098]\n",
      "100%|██████████| 41/41 [00:28<00:00, 28.49s/trial, best loss: 0.115320363746098]\n",
      "100%|██████████| 42/42 [00:01<00:00,  1.52s/trial, best loss: 0.115320363746098]\n",
      "100%|██████████| 43/43 [01:00<00:00, 60.86s/trial, best loss: 0.115320363746098]\n",
      "100%|██████████| 44/44 [00:01<00:00,  1.67s/trial, best loss: 0.115320363746098]\n",
      "100%|██████████| 45/45 [00:07<00:00,  7.62s/trial, best loss: 0.115320363746098]\n",
      "100%|██████████| 46/46 [01:00<00:00, 60.87s/trial, best loss: 0.115320363746098]\n",
      "100%|██████████| 47/47 [00:08<00:00,  8.50s/trial, best loss: 0.115320363746098]\n",
      "100%|██████████| 48/48 [01:00<00:00, 60.93s/trial, best loss: 0.115320363746098]\n",
      "100%|██████████| 49/49 [00:21<00:00, 21.03s/trial, best loss: 0.115320363746098]\n",
      "100%|██████████| 50/50 [00:10<00:00, 10.68s/trial, best loss: 0.115320363746098]\n",
      "100%|██████████| 51/51 [01:00<00:00, 60.83s/trial, best loss: 0.115320363746098]\n",
      "100%|██████████| 52/52 [01:00<00:00, 60.91s/trial, best loss: 0.115320363746098]\n",
      "100%|██████████| 53/53 [00:06<00:00,  6.19s/trial, best loss: 0.115320363746098]\n",
      "100%|██████████| 54/54 [00:19<00:00, 19.98s/trial, best loss: 0.115320363746098]\n",
      "100%|██████████| 55/55 [00:02<00:00,  2.26s/trial, best loss: 0.115320363746098]\n",
      "100%|██████████| 56/56 [00:02<00:00,  2.42s/trial, best loss: 0.115320363746098]\n",
      "100%|██████████| 57/57 [00:16<00:00, 16.05s/trial, best loss: 0.115320363746098]\n",
      "100%|██████████| 58/58 [00:54<00:00, 54.40s/trial, best loss: 0.115320363746098]\n",
      "100%|██████████| 59/59 [00:13<00:00, 13.88s/trial, best loss: 0.115320363746098]\n",
      "100%|██████████| 60/60 [00:01<00:00,  1.19s/trial, best loss: 0.115320363746098]\n",
      "100%|██████████| 61/61 [00:16<00:00, 16.68s/trial, best loss: 0.115320363746098]\n",
      "100%|██████████| 62/62 [01:00<00:00, 60.94s/trial, best loss: 0.115320363746098]\n",
      "100%|██████████| 63/63 [00:01<00:00,  1.76s/trial, best loss: 0.115320363746098]\n",
      "100%|██████████| 64/64 [00:05<00:00,  5.21s/trial, best loss: 0.115320363746098]\n",
      "100%|██████████| 65/65 [00:06<00:00,  6.28s/trial, best loss: 0.115320363746098]\n",
      "100%|██████████| 66/66 [00:18<00:00, 18.90s/trial, best loss: 0.115320363746098]\n",
      "100%|████████| 67/67 [00:17<00:00, 17.81s/trial, best loss: 0.11529387338327379]\n",
      "100%|████████| 68/68 [00:10<00:00, 10.39s/trial, best loss: 0.11529387338327379]\n",
      "100%|████████| 69/69 [00:13<00:00, 13.23s/trial, best loss: 0.11529387338327379]\n",
      "100%|████████| 70/70 [00:19<00:00, 19.17s/trial, best loss: 0.11529387338327379]\n",
      "100%|████████| 71/71 [00:37<00:00, 37.64s/trial, best loss: 0.11529387338327379]\n",
      "100%|████████| 72/72 [00:05<00:00,  5.54s/trial, best loss: 0.11529387338327379]\n",
      "100%|████████| 73/73 [00:27<00:00, 27.16s/trial, best loss: 0.11529387338327379]\n",
      "100%|████████| 74/74 [00:03<00:00,  3.99s/trial, best loss: 0.11529387338327379]\n",
      "100%|████████| 75/75 [00:01<00:00,  1.40s/trial, best loss: 0.11529387338327379]\n",
      "100%|████████| 76/76 [00:06<00:00,  6.54s/trial, best loss: 0.11529387338327379]\n",
      "100%|████████| 77/77 [00:10<00:00, 10.99s/trial, best loss: 0.11529387338327379]\n",
      "100%|████████| 78/78 [00:03<00:00,  3.78s/trial, best loss: 0.11529387338327379]\n",
      "100%|████████| 79/79 [00:01<00:00,  1.74s/trial, best loss: 0.11529387338327379]\n",
      "100%|████████| 80/80 [01:00<00:00, 60.89s/trial, best loss: 0.11529387338327379]\n",
      "100%|████████| 81/81 [00:18<00:00, 18.41s/trial, best loss: 0.11529387338327379]\n",
      "100%|████████| 82/82 [00:05<00:00,  5.97s/trial, best loss: 0.11529387338327379]\n",
      "100%|████████| 83/83 [00:17<00:00, 17.60s/trial, best loss: 0.11529387338327379]\n",
      "100%|████████| 84/84 [01:00<00:00, 60.86s/trial, best loss: 0.11529387338327379]\n",
      "100%|████████| 85/85 [00:14<00:00, 14.39s/trial, best loss: 0.11529387338327379]\n",
      "100%|████████| 86/86 [00:31<00:00, 31.35s/trial, best loss: 0.11529387338327379]\n",
      "100%|████████| 87/87 [00:07<00:00,  7.41s/trial, best loss: 0.11529387338327379]\n",
      "100%|████████| 88/88 [00:01<00:00,  1.68s/trial, best loss: 0.11529387338327379]\n",
      "100%|████████| 89/89 [00:43<00:00, 43.10s/trial, best loss: 0.11529387338327379]\n",
      "100%|████████| 90/90 [00:07<00:00,  7.87s/trial, best loss: 0.11529387338327379]\n",
      "100%|████████| 91/91 [00:13<00:00, 13.25s/trial, best loss: 0.11529387338327379]\n",
      "100%|████████| 92/92 [00:03<00:00,  3.98s/trial, best loss: 0.11529387338327379]\n",
      "100%|████████| 93/93 [01:00<00:00, 60.86s/trial, best loss: 0.11529387338327379]\n",
      "100%|████████| 94/94 [00:04<00:00,  4.10s/trial, best loss: 0.11529387338327379]\n",
      "100%|████████| 95/95 [00:02<00:00,  2.04s/trial, best loss: 0.11529387338327379]\n",
      "100%|████████| 96/96 [00:19<00:00, 19.58s/trial, best loss: 0.11529387338327379]\n",
      "100%|████████| 97/97 [00:33<00:00, 33.25s/trial, best loss: 0.11529387338327379]\n",
      "100%|████████| 98/98 [01:00<00:00, 60.90s/trial, best loss: 0.11529387338327379]\n",
      "100%|████████| 99/99 [00:33<00:00, 33.71s/trial, best loss: 0.11529387338327379]\n",
      "100%|██████| 100/100 [00:16<00:00, 16.98s/trial, best loss: 0.11529387338327379]\n",
      "CPU times: user 23.7 s, sys: 3.36 s, total: 27.1 s\n",
      "Wall time: 33min 1s\n"
     ]
    }
   ],
   "source": [
    "%%time\n",
    "rf_model = train_any_model(random_forest_regressor)\n",
    "pickle.dump(rf_model, open(\"rf_house.sav\", 'wb'))"
   ]
  },
  {
   "cell_type": "code",
   "execution_count": 19,
   "metadata": {},
   "outputs": [
    {
     "name": "stdout",
     "output_type": "stream",
     "text": [
      "0.762883934343102\n",
      "0.8918709082832037\n",
      "0.9080845209772526\n",
      "0.8675981660295368\n",
      "0.8686325530577202\n"
     ]
    }
   ],
   "source": [
    "print(ols_model.score(X_test, y_test))\n",
    "print(rf_model.score(X_test, y_test))\n",
    "print(xgb_model.score(X_test, y_test))\n",
    "print(svm_model.score(X_test, y_test))\n",
    "print(gp_model.score(X_test, y_test))"
   ]
  },
  {
   "cell_type": "code",
   "execution_count": 20,
   "metadata": {},
   "outputs": [
    {
     "name": "stdout",
     "output_type": "stream",
     "text": [
      "100%|██████████| 1/1 [00:01<00:00,  1.55s/trial, best loss: 0.29735952163097923]\n",
      "100%|██████████| 2/2 [00:01<00:00,  1.64s/trial, best loss: 0.29735952163097923]\n",
      " 67%|████████████████████████▋            | 2/3 [00:00<?, ?trial/s, best loss=?]"
     ]
    },
    {
     "name": "stderr",
     "output_type": "stream",
     "text": [
      "/Users/ziqili/anaconda3/lib/python3.11/site-packages/sklearn/neural_network/_base.py:173: RuntimeWarning: overflow encountered in square\n",
      "  return ((y_true - y_pred) ** 2).mean() / 2\n",
      "/Users/ziqili/anaconda3/lib/python3.11/site-packages/sklearn/utils/extmath.py:192: RuntimeWarning: overflow encountered in matmul\n",
      "  ret = a @ b\n",
      "/Users/ziqili/anaconda3/lib/python3.11/site-packages/sklearn/utils/extmath.py:192: RuntimeWarning: invalid value encountered in matmul\n",
      "  ret = a @ b\n",
      "/Users/ziqili/anaconda3/lib/python3.11/site-packages/sklearn/neural_network/_multilayer_perceptron.py:691: ConvergenceWarning: Stochastic Optimizer: Maximum iterations (265) reached and the optimization hasn't converged yet.\n",
      "  warnings.warn(\n",
      "job exception: Solver produced non-finite parameter weights. The input data may contain large values and need to be preprocessed.\n",
      "\n"
     ]
    },
    {
     "name": "stdout",
     "output_type": "stream",
     "text": [
      " 67%|████████████████████████▋            | 2/3 [00:04<?, ?trial/s, best loss=?]\n",
      "100%|███████████| 1/1 [00:07<00:00,  7.41s/trial, best loss: 0.9260528110277542]\n",
      " 50%|██████████████████▌                  | 1/2 [00:00<?, ?trial/s, best loss=?]"
     ]
    },
    {
     "name": "stderr",
     "output_type": "stream",
     "text": [
      "/Users/ziqili/anaconda3/lib/python3.11/site-packages/sklearn/neural_network/_multilayer_perceptron.py:546: ConvergenceWarning: lbfgs failed to converge (status=1):\n",
      "STOP: TOTAL NO. of ITERATIONS REACHED LIMIT.\n",
      "\n",
      "Increase the number of iterations (max_iter) or scale the data as shown in:\n",
      "    https://scikit-learn.org/stable/modules/preprocessing.html\n",
      "  self.n_iter_ = _check_optimize_result(\"lbfgs\", opt_res, self.max_iter)\n"
     ]
    },
    {
     "name": "stdout",
     "output_type": "stream",
     "text": [
      "100%|███████████| 2/2 [00:01<00:00,  1.40s/trial, best loss: 0.2656441731079753]\n",
      "100%|███████████| 3/3 [00:01<00:00,  1.57s/trial, best loss: 0.2656441731079753]\n",
      "100%|███████████| 4/4 [00:02<00:00,  2.43s/trial, best loss: 0.2656441731079753]\n",
      "100%|███████████| 5/5 [00:01<00:00,  1.31s/trial, best loss: 0.2656441731079753]\n",
      "100%|████████████| 6/6 [00:02<00:00,  2.32s/trial, best loss: 0.141129043716116]\n",
      "100%|████████████| 7/7 [00:02<00:00,  2.11s/trial, best loss: 0.141129043716116]\n",
      "100%|████████████| 8/8 [00:02<00:00,  2.13s/trial, best loss: 0.141129043716116]\n",
      "100%|████████████| 9/9 [00:01<00:00,  1.22s/trial, best loss: 0.141129043716116]\n",
      "100%|██████████| 10/10 [00:01<00:00,  1.41s/trial, best loss: 0.141129043716116]\n",
      "100%|██████████| 11/11 [00:01<00:00,  1.99s/trial, best loss: 0.141129043716116]\n",
      "100%|██████████| 12/12 [00:01<00:00,  1.82s/trial, best loss: 0.141129043716116]\n",
      "100%|██████████| 13/13 [00:01<00:00,  1.56s/trial, best loss: 0.141129043716116]\n",
      "100%|██████████| 14/14 [00:01<00:00,  1.40s/trial, best loss: 0.141129043716116]\n",
      "100%|██████████| 15/15 [00:01<00:00,  1.26s/trial, best loss: 0.141129043716116]\n",
      "100%|██████████| 16/16 [00:01<00:00,  1.35s/trial, best loss: 0.141129043716116]\n",
      "100%|██████████| 17/17 [00:01<00:00,  1.37s/trial, best loss: 0.141129043716116]\n",
      "100%|██████████| 18/18 [00:01<00:00,  1.66s/trial, best loss: 0.141129043716116]\n",
      "100%|██████████| 19/19 [00:01<00:00,  1.38s/trial, best loss: 0.141129043716116]\n",
      "100%|██████████| 20/20 [00:04<00:00,  4.14s/trial, best loss: 0.141129043716116]\n",
      " 95%|█████████████████████████████████▎ | 20/21 [00:00<?, ?trial/s, best loss=?]"
     ]
    },
    {
     "name": "stderr",
     "output_type": "stream",
     "text": [
      "/Users/ziqili/anaconda3/lib/python3.11/site-packages/sklearn/neural_network/_multilayer_perceptron.py:546: ConvergenceWarning: lbfgs failed to converge (status=1):\n",
      "STOP: TOTAL NO. of ITERATIONS REACHED LIMIT.\n",
      "\n",
      "Increase the number of iterations (max_iter) or scale the data as shown in:\n",
      "    https://scikit-learn.org/stable/modules/preprocessing.html\n",
      "  self.n_iter_ = _check_optimize_result(\"lbfgs\", opt_res, self.max_iter)\n"
     ]
    },
    {
     "name": "stdout",
     "output_type": "stream",
     "text": [
      "100%|██████████| 21/21 [00:04<00:00,  4.29s/trial, best loss: 0.141129043716116]\n",
      "100%|██████████| 22/22 [00:04<00:00,  4.89s/trial, best loss: 0.141129043716116]\n",
      "100%|██████████| 23/23 [00:01<00:00,  1.53s/trial, best loss: 0.141129043716116]\n",
      "100%|██████████| 24/24 [00:01<00:00,  1.17s/trial, best loss: 0.141129043716116]\n",
      "100%|██████████| 25/25 [00:02<00:00,  2.89s/trial, best loss: 0.141129043716116]\n",
      "100%|██████████| 26/26 [00:01<00:00,  1.69s/trial, best loss: 0.141129043716116]\n",
      "100%|██████████| 27/27 [00:01<00:00,  1.64s/trial, best loss: 0.141129043716116]\n",
      "100%|██████████| 28/28 [00:01<00:00,  1.32s/trial, best loss: 0.141129043716116]\n",
      "100%|██████████| 29/29 [00:01<00:00,  1.44s/trial, best loss: 0.141129043716116]\n",
      "100%|██████████| 30/30 [00:01<00:00,  1.39s/trial, best loss: 0.141129043716116]\n",
      "100%|██████████| 31/31 [00:01<00:00,  1.41s/trial, best loss: 0.141129043716116]\n",
      "100%|██████████| 32/32 [00:01<00:00,  1.91s/trial, best loss: 0.141129043716116]\n",
      "100%|██████████| 33/33 [00:02<00:00,  2.69s/trial, best loss: 0.141129043716116]\n",
      "100%|██████████| 34/34 [00:01<00:00,  1.29s/trial, best loss: 0.141129043716116]\n",
      "100%|██████████| 35/35 [00:01<00:00,  1.55s/trial, best loss: 0.141129043716116]\n",
      "100%|██████████| 36/36 [00:01<00:00,  1.59s/trial, best loss: 0.141129043716116]\n",
      "100%|██████████| 37/37 [00:01<00:00,  1.73s/trial, best loss: 0.141129043716116]\n",
      "100%|██████████| 38/38 [00:04<00:00,  4.20s/trial, best loss: 0.141129043716116]\n",
      " 97%|██████████████████████████████████ | 38/39 [00:00<?, ?trial/s, best loss=?]"
     ]
    },
    {
     "name": "stderr",
     "output_type": "stream",
     "text": [
      "/Users/ziqili/anaconda3/lib/python3.11/site-packages/sklearn/neural_network/_multilayer_perceptron.py:546: ConvergenceWarning: lbfgs failed to converge (status=1):\n",
      "STOP: TOTAL NO. of ITERATIONS REACHED LIMIT.\n",
      "\n",
      "Increase the number of iterations (max_iter) or scale the data as shown in:\n",
      "    https://scikit-learn.org/stable/modules/preprocessing.html\n",
      "  self.n_iter_ = _check_optimize_result(\"lbfgs\", opt_res, self.max_iter)\n"
     ]
    },
    {
     "name": "stdout",
     "output_type": "stream",
     "text": [
      "100%|██████████| 39/39 [00:01<00:00,  1.53s/trial, best loss: 0.141129043716116]\n",
      "100%|██████████| 40/40 [00:01<00:00,  1.58s/trial, best loss: 0.141129043716116]\n",
      "100%|██████████| 41/41 [00:01<00:00,  1.42s/trial, best loss: 0.141129043716116]\n",
      "100%|██████████| 42/42 [00:02<00:00,  2.06s/trial, best loss: 0.141129043716116]\n",
      "100%|██████████| 43/43 [00:01<00:00,  1.53s/trial, best loss: 0.141129043716116]\n",
      "100%|██████████| 44/44 [00:01<00:00,  1.56s/trial, best loss: 0.141129043716116]\n",
      "100%|██████████| 45/45 [00:01<00:00,  1.99s/trial, best loss: 0.141129043716116]\n",
      "100%|██████████| 46/46 [00:01<00:00,  1.32s/trial, best loss: 0.141129043716116]\n",
      "100%|██████████| 47/47 [00:01<00:00,  1.36s/trial, best loss: 0.141129043716116]\n",
      "100%|██████████| 48/48 [00:01<00:00,  1.24s/trial, best loss: 0.141129043716116]\n",
      "100%|██████████| 49/49 [00:02<00:00,  2.60s/trial, best loss: 0.141129043716116]\n",
      "100%|██████████| 50/50 [00:01<00:00,  1.84s/trial, best loss: 0.141129043716116]\n",
      "100%|██████████| 51/51 [00:01<00:00,  1.51s/trial, best loss: 0.141129043716116]\n",
      "100%|██████████| 52/52 [00:01<00:00,  1.58s/trial, best loss: 0.141129043716116]\n",
      "100%|██████████| 53/53 [00:01<00:00,  1.47s/trial, best loss: 0.141129043716116]\n",
      "100%|██████████| 54/54 [00:03<00:00,  3.76s/trial, best loss: 0.141129043716116]\n",
      "100%|██████████| 55/55 [00:01<00:00,  1.27s/trial, best loss: 0.141129043716116]\n",
      " 98%|██████████████████████████████████▍| 55/56 [00:00<?, ?trial/s, best loss=?]"
     ]
    },
    {
     "name": "stderr",
     "output_type": "stream",
     "text": [
      "/Users/ziqili/anaconda3/lib/python3.11/site-packages/sklearn/neural_network/_base.py:173: RuntimeWarning: overflow encountered in square\n",
      "  return ((y_true - y_pred) ** 2).mean() / 2\n",
      "/Users/ziqili/anaconda3/lib/python3.11/site-packages/sklearn/utils/extmath.py:192: RuntimeWarning: overflow encountered in matmul\n",
      "  ret = a @ b\n",
      "/Users/ziqili/anaconda3/lib/python3.11/site-packages/sklearn/utils/extmath.py:192: RuntimeWarning: invalid value encountered in matmul\n",
      "  ret = a @ b\n",
      "/Users/ziqili/anaconda3/lib/python3.11/site-packages/sklearn/neural_network/_multilayer_perceptron.py:691: ConvergenceWarning: Stochastic Optimizer: Maximum iterations (232) reached and the optimization hasn't converged yet.\n",
      "  warnings.warn(\n",
      "job exception: Solver produced non-finite parameter weights. The input data may contain large values and need to be preprocessed.\n",
      "\n"
     ]
    },
    {
     "name": "stdout",
     "output_type": "stream",
     "text": [
      " 98%|██████████████████████████████████▍| 55/56 [00:03<?, ?trial/s, best loss=?]\n",
      "100%|███████████| 1/1 [00:01<00:00,  1.59s/trial, best loss: 0.5882623147304293]\n",
      "100%|███████████| 2/2 [00:01<00:00,  1.82s/trial, best loss: 0.5882623147304293]\n",
      "100%|███████████| 3/3 [00:05<00:00,  5.14s/trial, best loss: 0.5882623147304293]\n",
      " 75%|███████████████████████████▊         | 3/4 [00:00<?, ?trial/s, best loss=?]"
     ]
    },
    {
     "name": "stderr",
     "output_type": "stream",
     "text": [
      "/Users/ziqili/anaconda3/lib/python3.11/site-packages/sklearn/neural_network/_multilayer_perceptron.py:546: ConvergenceWarning: lbfgs failed to converge (status=1):\n",
      "STOP: TOTAL NO. of ITERATIONS REACHED LIMIT.\n",
      "\n",
      "Increase the number of iterations (max_iter) or scale the data as shown in:\n",
      "    https://scikit-learn.org/stable/modules/preprocessing.html\n",
      "  self.n_iter_ = _check_optimize_result(\"lbfgs\", opt_res, self.max_iter)\n"
     ]
    },
    {
     "name": "stdout",
     "output_type": "stream",
     "text": [
      "100%|██████████| 4/4 [00:01<00:00,  1.55s/trial, best loss: 0.21917235186425987]\n",
      "100%|██████████| 5/5 [00:01<00:00,  1.51s/trial, best loss: 0.21917235186425987]\n",
      "100%|██████████| 6/6 [00:01<00:00,  1.73s/trial, best loss: 0.21917235186425987]\n",
      "100%|██████████| 7/7 [00:01<00:00,  1.69s/trial, best loss: 0.21917235186425987]\n",
      "100%|██████████| 8/8 [00:01<00:00,  1.67s/trial, best loss: 0.21917235186425987]\n",
      "100%|██████████| 9/9 [00:01<00:00,  1.56s/trial, best loss: 0.21917235186425987]\n",
      "100%|████████| 10/10 [00:01<00:00,  1.57s/trial, best loss: 0.21917235186425987]\n",
      "100%|████████| 11/11 [00:01<00:00,  1.35s/trial, best loss: 0.21917235186425987]\n",
      "100%|████████| 12/12 [00:03<00:00,  3.53s/trial, best loss: 0.21917235186425987]\n",
      " 92%|████████████████████████████████▎  | 12/13 [00:00<?, ?trial/s, best loss=?]"
     ]
    },
    {
     "name": "stderr",
     "output_type": "stream",
     "text": [
      "/Users/ziqili/anaconda3/lib/python3.11/site-packages/sklearn/neural_network/_multilayer_perceptron.py:546: ConvergenceWarning: lbfgs failed to converge (status=1):\n",
      "STOP: TOTAL NO. of ITERATIONS REACHED LIMIT.\n",
      "\n",
      "Increase the number of iterations (max_iter) or scale the data as shown in:\n",
      "    https://scikit-learn.org/stable/modules/preprocessing.html\n",
      "  self.n_iter_ = _check_optimize_result(\"lbfgs\", opt_res, self.max_iter)\n"
     ]
    },
    {
     "name": "stdout",
     "output_type": "stream",
     "text": [
      "100%|████████| 13/13 [00:02<00:00,  2.04s/trial, best loss: 0.19774602235319982]\n",
      "100%|████████| 14/14 [00:01<00:00,  1.66s/trial, best loss: 0.19774602235319982]\n",
      "100%|████████| 15/15 [00:01<00:00,  1.39s/trial, best loss: 0.19774602235319982]\n",
      "100%|████████| 16/16 [00:01<00:00,  1.47s/trial, best loss: 0.19359494010791323]\n",
      "100%|████████| 17/17 [00:01<00:00,  1.84s/trial, best loss: 0.19359494010791323]\n",
      "100%|████████| 18/18 [00:01<00:00,  1.85s/trial, best loss: 0.19359494010791323]\n",
      "100%|████████| 19/19 [00:01<00:00,  1.78s/trial, best loss: 0.15089190131287822]\n",
      "100%|████████| 20/20 [00:05<00:00,  5.47s/trial, best loss: 0.15089190131287822]\n",
      "100%|█████████| 21/21 [00:01<00:00,  1.66s/trial, best loss: 0.1429184992460375]\n",
      "100%|█████████| 22/22 [00:01<00:00,  1.60s/trial, best loss: 0.1429184992460375]\n",
      "100%|█████████| 23/23 [00:01<00:00,  1.65s/trial, best loss: 0.1429184992460375]\n",
      "100%|█████████| 24/24 [00:01<00:00,  1.50s/trial, best loss: 0.1429184992460375]\n",
      "100%|█████████| 25/25 [00:01<00:00,  1.67s/trial, best loss: 0.1429184992460375]\n",
      "100%|█████████| 26/26 [00:02<00:00,  2.53s/trial, best loss: 0.1429184992460375]\n",
      "100%|█████████| 27/27 [00:01<00:00,  1.89s/trial, best loss: 0.1429184992460375]\n",
      "100%|█████████| 28/28 [00:01<00:00,  1.76s/trial, best loss: 0.1429184992460375]\n",
      "100%|█████████| 29/29 [00:02<00:00,  2.69s/trial, best loss: 0.1429184992460375]\n",
      "100%|█████████| 30/30 [00:02<00:00,  2.10s/trial, best loss: 0.1429184992460375]\n",
      "100%|█████████| 31/31 [00:01<00:00,  1.96s/trial, best loss: 0.1429184992460375]\n",
      "100%|█████████| 32/32 [00:01<00:00,  1.30s/trial, best loss: 0.1429184992460375]\n",
      "100%|█████████| 33/33 [00:02<00:00,  2.13s/trial, best loss: 0.1429184992460375]\n",
      "100%|█████████| 34/34 [00:01<00:00,  1.67s/trial, best loss: 0.1429184992460375]\n",
      "100%|█████████| 35/35 [00:02<00:00,  2.27s/trial, best loss: 0.1429184992460375]\n",
      "100%|█████████| 36/36 [00:02<00:00,  2.16s/trial, best loss: 0.1429184992460375]\n",
      "100%|█████████| 37/37 [00:01<00:00,  1.63s/trial, best loss: 0.1429184992460375]\n",
      "100%|█████████| 38/38 [00:01<00:00,  1.43s/trial, best loss: 0.1429184992460375]\n",
      "100%|█████████| 39/39 [00:01<00:00,  1.75s/trial, best loss: 0.1429184992460375]\n",
      "100%|█████████| 40/40 [00:01<00:00,  1.59s/trial, best loss: 0.1429184992460375]\n",
      "100%|█████████| 41/41 [00:01<00:00,  1.73s/trial, best loss: 0.1429184992460375]\n",
      "100%|█████████| 42/42 [00:01<00:00,  1.93s/trial, best loss: 0.1429184992460375]\n",
      "100%|█████████| 43/43 [00:01<00:00,  1.71s/trial, best loss: 0.1429184992460375]\n",
      "100%|█████████| 44/44 [00:01<00:00,  1.60s/trial, best loss: 0.1429184992460375]\n",
      "100%|█████████| 45/45 [00:01<00:00,  1.23s/trial, best loss: 0.1429184992460375]\n",
      "100%|█████████| 46/46 [00:01<00:00,  1.43s/trial, best loss: 0.1429184992460375]\n",
      "100%|█████████| 47/47 [00:01<00:00,  1.72s/trial, best loss: 0.1429184992460375]\n",
      "100%|█████████| 48/48 [00:01<00:00,  1.66s/trial, best loss: 0.1429184992460375]\n",
      "100%|█████████| 49/49 [00:01<00:00,  1.56s/trial, best loss: 0.1429184992460375]\n",
      "100%|█████████| 50/50 [00:02<00:00,  2.53s/trial, best loss: 0.1429184992460375]\n",
      "100%|█████████| 51/51 [00:01<00:00,  1.66s/trial, best loss: 0.1429184992460375]\n",
      "100%|█████████| 52/52 [00:01<00:00,  1.94s/trial, best loss: 0.1429184992460375]\n",
      "100%|█████████| 53/53 [00:01<00:00,  1.32s/trial, best loss: 0.1429184992460375]\n",
      "100%|█████████| 54/54 [00:01<00:00,  1.56s/trial, best loss: 0.1429184992460375]\n",
      "100%|█████████| 55/55 [00:01<00:00,  1.82s/trial, best loss: 0.1429184992460375]\n",
      "100%|█████████| 56/56 [00:01<00:00,  1.56s/trial, best loss: 0.1429184992460375]\n",
      "100%|█████████| 57/57 [00:01<00:00,  1.77s/trial, best loss: 0.1429184992460375]\n",
      "100%|█████████| 58/58 [00:01<00:00,  1.61s/trial, best loss: 0.1429184992460375]\n",
      " 98%|██████████████████████████████████▍| 58/59 [00:00<?, ?trial/s, best loss=?]"
     ]
    },
    {
     "name": "stderr",
     "output_type": "stream",
     "text": [
      "/Users/ziqili/anaconda3/lib/python3.11/site-packages/sklearn/utils/extmath.py:192: RuntimeWarning: overflow encountered in matmul\n",
      "  ret = a @ b\n",
      "/Users/ziqili/anaconda3/lib/python3.11/site-packages/sklearn/utils/extmath.py:192: RuntimeWarning: invalid value encountered in matmul\n",
      "  ret = a @ b\n",
      "/Users/ziqili/anaconda3/lib/python3.11/site-packages/sklearn/neural_network/_multilayer_perceptron.py:691: ConvergenceWarning: Stochastic Optimizer: Maximum iterations (325) reached and the optimization hasn't converged yet.\n",
      "  warnings.warn(\n",
      "job exception: Solver produced non-finite parameter weights. The input data may contain large values and need to be preprocessed.\n",
      "\n"
     ]
    },
    {
     "name": "stdout",
     "output_type": "stream",
     "text": [
      " 98%|██████████████████████████████████▍| 58/59 [00:06<?, ?trial/s, best loss=?]\n",
      "100%|████████████| 1/1 [00:03<00:00,  3.22s/trial, best loss: 598.8439068190571]\n",
      " 50%|██████████████████▌                  | 1/2 [00:00<?, ?trial/s, best loss=?]"
     ]
    },
    {
     "name": "stderr",
     "output_type": "stream",
     "text": [
      "/Users/ziqili/anaconda3/lib/python3.11/site-packages/sklearn/neural_network/_base.py:173: RuntimeWarning: overflow encountered in square\n",
      "  return ((y_true - y_pred) ** 2).mean() / 2\n",
      "/Users/ziqili/anaconda3/lib/python3.11/site-packages/sklearn/utils/extmath.py:192: RuntimeWarning: overflow encountered in matmul\n",
      "  ret = a @ b\n",
      "/Users/ziqili/anaconda3/lib/python3.11/site-packages/sklearn/utils/extmath.py:192: RuntimeWarning: invalid value encountered in matmul\n",
      "  ret = a @ b\n",
      "/Users/ziqili/anaconda3/lib/python3.11/site-packages/sklearn/neural_network/_multilayer_perceptron.py:691: ConvergenceWarning: Stochastic Optimizer: Maximum iterations (250) reached and the optimization hasn't converged yet.\n",
      "  warnings.warn(\n",
      "job exception: Solver produced non-finite parameter weights. The input data may contain large values and need to be preprocessed.\n",
      "\n"
     ]
    },
    {
     "name": "stdout",
     "output_type": "stream",
     "text": [
      " 50%|██████████████████▌                  | 1/2 [00:06<?, ?trial/s, best loss=?]\n",
      "100%|██████████| 1/1 [00:02<00:00,  2.25s/trial, best loss: 0.14879394330489815]\n",
      "100%|██████████| 2/2 [00:01<00:00,  1.44s/trial, best loss: 0.14879394330489815]\n",
      "100%|██████████| 3/3 [00:01<00:00,  1.46s/trial, best loss: 0.14879394330489815]\n",
      " 75%|███████████████████████████▊         | 3/4 [00:00<?, ?trial/s, best loss=?]"
     ]
    },
    {
     "name": "stderr",
     "output_type": "stream",
     "text": [
      "/Users/ziqili/anaconda3/lib/python3.11/site-packages/sklearn/neural_network/_base.py:173: RuntimeWarning: overflow encountered in square\n",
      "  return ((y_true - y_pred) ** 2).mean() / 2\n",
      "/Users/ziqili/anaconda3/lib/python3.11/site-packages/sklearn/utils/extmath.py:192: RuntimeWarning: overflow encountered in matmul\n",
      "  ret = a @ b\n",
      "/Users/ziqili/anaconda3/lib/python3.11/site-packages/sklearn/utils/extmath.py:192: RuntimeWarning: invalid value encountered in matmul\n",
      "  ret = a @ b\n",
      "/Users/ziqili/anaconda3/lib/python3.11/site-packages/numpy/core/_methods.py:181: RuntimeWarning: invalid value encountered in reduce\n",
      "  ret = umr_sum(arr, axis, dtype, out, keepdims, where=where)\n",
      "/Users/ziqili/anaconda3/lib/python3.11/site-packages/sklearn/neural_network/_multilayer_perceptron.py:691: ConvergenceWarning: Stochastic Optimizer: Maximum iterations (191) reached and the optimization hasn't converged yet.\n",
      "  warnings.warn(\n",
      "job exception: Solver produced non-finite parameter weights. The input data may contain large values and need to be preprocessed.\n",
      "\n"
     ]
    },
    {
     "name": "stdout",
     "output_type": "stream",
     "text": [
      " 75%|███████████████████████████▊         | 3/4 [00:04<?, ?trial/s, best loss=?]\n",
      "100%|███████████| 1/1 [00:01<00:00,  1.60s/trial, best loss: 0.2133569661287842]\n",
      "100%|███████████| 2/2 [00:02<00:00,  2.91s/trial, best loss: 0.2133569661287842]\n",
      "100%|███████████| 3/3 [00:01<00:00,  1.91s/trial, best loss: 0.2133569661287842]\n",
      "100%|███████████| 4/4 [00:01<00:00,  1.29s/trial, best loss: 0.2133569661287842]\n",
      " 80%|█████████████████████████████▌       | 4/5 [00:00<?, ?trial/s, best loss=?]"
     ]
    },
    {
     "name": "stderr",
     "output_type": "stream",
     "text": [
      "/Users/ziqili/anaconda3/lib/python3.11/site-packages/numpy/core/_methods.py:181: RuntimeWarning: overflow encountered in reduce\n",
      "  ret = umr_sum(arr, axis, dtype, out, keepdims, where=where)\n",
      "/Users/ziqili/anaconda3/lib/python3.11/site-packages/sklearn/neural_network/_base.py:173: RuntimeWarning: overflow encountered in square\n",
      "  return ((y_true - y_pred) ** 2).mean() / 2\n",
      "/Users/ziqili/anaconda3/lib/python3.11/site-packages/sklearn/utils/extmath.py:192: RuntimeWarning: overflow encountered in matmul\n",
      "  ret = a @ b\n",
      "/Users/ziqili/anaconda3/lib/python3.11/site-packages/sklearn/neural_network/_base.py:128: RuntimeWarning: invalid value encountered in multiply\n",
      "  delta *= 1 - Z**2\n",
      "/Users/ziqili/anaconda3/lib/python3.11/site-packages/sklearn/neural_network/_multilayer_perceptron.py:691: ConvergenceWarning: Stochastic Optimizer: Maximum iterations (235) reached and the optimization hasn't converged yet.\n",
      "  warnings.warn(\n",
      "job exception: Solver produced non-finite parameter weights. The input data may contain large values and need to be preprocessed.\n",
      "\n"
     ]
    },
    {
     "name": "stdout",
     "output_type": "stream",
     "text": [
      " 80%|█████████████████████████████▌       | 4/5 [00:07<?, ?trial/s, best loss=?]\n",
      "100%|███████████| 1/1 [00:01<00:00,  1.50s/trial, best loss: 1.6177107923492757]\n",
      "100%|███████████| 2/2 [00:01<00:00,  1.32s/trial, best loss: 1.0007969491861204]\n",
      "100%|██████████| 3/3 [00:01<00:00,  1.52s/trial, best loss: 0.30209979775683204]\n",
      "100%|██████████| 4/4 [00:01<00:00,  1.96s/trial, best loss: 0.20289474695927112]\n",
      "100%|██████████| 5/5 [00:02<00:00,  2.71s/trial, best loss: 0.18463680928138504]\n",
      "100%|██████████| 6/6 [00:02<00:00,  2.64s/trial, best loss: 0.18463680928138504]\n",
      "100%|██████████| 7/7 [00:01<00:00,  1.43s/trial, best loss: 0.18463680928138504]\n",
      "100%|██████████| 8/8 [00:05<00:00,  5.30s/trial, best loss: 0.18463680928138504]\n",
      "100%|███████████| 9/9 [00:01<00:00,  1.85s/trial, best loss: 0.1717541261169161]\n",
      "100%|█████████| 10/10 [00:01<00:00,  1.51s/trial, best loss: 0.1717541261169161]\n",
      "100%|█████████| 11/11 [00:01<00:00,  1.88s/trial, best loss: 0.1717541261169161]\n",
      "100%|█████████| 12/12 [00:01<00:00,  1.86s/trial, best loss: 0.1717541261169161]\n",
      " 92%|████████████████████████████████▎  | 12/13 [00:00<?, ?trial/s, best loss=?]"
     ]
    },
    {
     "name": "stderr",
     "output_type": "stream",
     "text": [
      "/Users/ziqili/anaconda3/lib/python3.11/site-packages/sklearn/neural_network/_base.py:173: RuntimeWarning: overflow encountered in square\n",
      "  return ((y_true - y_pred) ** 2).mean() / 2\n",
      "/Users/ziqili/anaconda3/lib/python3.11/site-packages/sklearn/utils/extmath.py:192: RuntimeWarning: overflow encountered in matmul\n",
      "  ret = a @ b\n",
      "/Users/ziqili/anaconda3/lib/python3.11/site-packages/sklearn/utils/extmath.py:192: RuntimeWarning: invalid value encountered in matmul\n",
      "  ret = a @ b\n",
      "/Users/ziqili/anaconda3/lib/python3.11/site-packages/sklearn/neural_network/_multilayer_perceptron.py:691: ConvergenceWarning: Stochastic Optimizer: Maximum iterations (191) reached and the optimization hasn't converged yet.\n",
      "  warnings.warn(\n",
      "job exception: Solver produced non-finite parameter weights. The input data may contain large values and need to be preprocessed.\n",
      "\n"
     ]
    },
    {
     "name": "stdout",
     "output_type": "stream",
     "text": [
      " 92%|████████████████████████████████▎  | 12/13 [00:03<?, ?trial/s, best loss=?]\n",
      "  0%|                                     | 0/1 [00:00<?, ?trial/s, best loss=?]"
     ]
    },
    {
     "name": "stderr",
     "output_type": "stream",
     "text": [
      "/Users/ziqili/anaconda3/lib/python3.11/site-packages/sklearn/neural_network/_base.py:173: RuntimeWarning: overflow encountered in square\n",
      "  return ((y_true - y_pred) ** 2).mean() / 2\n",
      "/Users/ziqili/anaconda3/lib/python3.11/site-packages/sklearn/utils/extmath.py:192: RuntimeWarning: overflow encountered in matmul\n",
      "  ret = a @ b\n",
      "/Users/ziqili/anaconda3/lib/python3.11/site-packages/sklearn/utils/extmath.py:192: RuntimeWarning: invalid value encountered in matmul\n",
      "  ret = a @ b\n",
      "/Users/ziqili/anaconda3/lib/python3.11/site-packages/sklearn/neural_network/_multilayer_perceptron.py:691: ConvergenceWarning: Stochastic Optimizer: Maximum iterations (152) reached and the optimization hasn't converged yet.\n",
      "  warnings.warn(\n",
      "job exception: Solver produced non-finite parameter weights. The input data may contain large values and need to be preprocessed.\n",
      "\n"
     ]
    },
    {
     "name": "stdout",
     "output_type": "stream",
     "text": [
      "  0%|                                     | 0/1 [00:03<?, ?trial/s, best loss=?]\n",
      "100%|███████████| 1/1 [00:03<00:00,  3.02s/trial, best loss: 52.203506581265906]\n",
      "100%|███████████| 2/2 [00:01<00:00,  1.24s/trial, best loss: 1.0000000060535033]\n",
      "100%|████████████| 3/3 [00:01<00:00,  1.58s/trial, best loss: 0.996369158123479]\n",
      "100%|██████████| 4/4 [00:01<00:00,  1.70s/trial, best loss: 0.20233442475297192]\n",
      "100%|██████████| 5/5 [00:01<00:00,  1.99s/trial, best loss: 0.20233442475297192]\n",
      "100%|██████████| 6/6 [00:01<00:00,  1.63s/trial, best loss: 0.20233442475297192]\n",
      "100%|██████████| 7/7 [00:01<00:00,  1.63s/trial, best loss: 0.20233442475297192]\n",
      "100%|██████████| 8/8 [00:01<00:00,  1.84s/trial, best loss: 0.20233442475297192]\n",
      "100%|██████████| 9/9 [00:01<00:00,  1.96s/trial, best loss: 0.20233442475297192]\n",
      " 90%|████████████████████████████████▍   | 9/10 [00:00<?, ?trial/s, best loss=?]"
     ]
    },
    {
     "name": "stderr",
     "output_type": "stream",
     "text": [
      "/Users/ziqili/anaconda3/lib/python3.11/site-packages/sklearn/utils/extmath.py:192: RuntimeWarning: overflow encountered in matmul\n",
      "  ret = a @ b\n",
      "/Users/ziqili/anaconda3/lib/python3.11/site-packages/sklearn/utils/extmath.py:192: RuntimeWarning: invalid value encountered in matmul\n",
      "  ret = a @ b\n",
      "/Users/ziqili/anaconda3/lib/python3.11/site-packages/sklearn/neural_network/_multilayer_perceptron.py:691: ConvergenceWarning: Stochastic Optimizer: Maximum iterations (192) reached and the optimization hasn't converged yet.\n",
      "  warnings.warn(\n",
      "job exception: Solver produced non-finite parameter weights. The input data may contain large values and need to be preprocessed.\n",
      "\n"
     ]
    },
    {
     "name": "stdout",
     "output_type": "stream",
     "text": [
      " 90%|████████████████████████████████▍   | 9/10 [00:04<?, ?trial/s, best loss=?]\n",
      "100%|███████████| 1/1 [00:01<00:00,  1.38s/trial, best loss: 0.2837763928387419]\n",
      "100%|███████████| 2/2 [00:02<00:00,  2.90s/trial, best loss: 0.2837763928387419]\n",
      "100%|██████████| 3/3 [00:01<00:00,  1.45s/trial, best loss: 0.28040377530203897]\n",
      "100%|██████████| 4/4 [00:01<00:00,  1.64s/trial, best loss: 0.21501027044217924]\n",
      "100%|██████████| 5/5 [00:01<00:00,  1.32s/trial, best loss: 0.21501027044217924]\n",
      "100%|██████████| 6/6 [00:01<00:00,  1.44s/trial, best loss: 0.21501027044217924]\n",
      "100%|██████████| 7/7 [00:01<00:00,  1.66s/trial, best loss: 0.21501027044217924]\n",
      "100%|███████████| 8/8 [00:02<00:00,  2.00s/trial, best loss: 0.1984355876975782]\n",
      "100%|███████████| 9/9 [00:01<00:00,  1.55s/trial, best loss: 0.1984355876975782]\n",
      "100%|█████████| 10/10 [00:01<00:00,  1.70s/trial, best loss: 0.1984355876975782]\n",
      "100%|█████████| 11/11 [00:01<00:00,  1.52s/trial, best loss: 0.1984355876975782]\n",
      " 92%|████████████████████████████████   | 11/12 [00:00<?, ?trial/s, best loss=?]"
     ]
    },
    {
     "name": "stderr",
     "output_type": "stream",
     "text": [
      "/Users/ziqili/anaconda3/lib/python3.11/site-packages/sklearn/neural_network/_base.py:173: RuntimeWarning: overflow encountered in square\n",
      "  return ((y_true - y_pred) ** 2).mean() / 2\n",
      "/Users/ziqili/anaconda3/lib/python3.11/site-packages/sklearn/utils/extmath.py:192: RuntimeWarning: overflow encountered in matmul\n",
      "  ret = a @ b\n",
      "/Users/ziqili/anaconda3/lib/python3.11/site-packages/sklearn/utils/extmath.py:192: RuntimeWarning: invalid value encountered in matmul\n",
      "  ret = a @ b\n",
      "/Users/ziqili/anaconda3/lib/python3.11/site-packages/sklearn/neural_network/_multilayer_perceptron.py:691: ConvergenceWarning: Stochastic Optimizer: Maximum iterations (304) reached and the optimization hasn't converged yet.\n",
      "  warnings.warn(\n",
      "job exception: Solver produced non-finite parameter weights. The input data may contain large values and need to be preprocessed.\n",
      "\n"
     ]
    },
    {
     "name": "stdout",
     "output_type": "stream",
     "text": [
      " 92%|████████████████████████████████   | 11/12 [00:04<?, ?trial/s, best loss=?]\n",
      "100%|███████████| 1/1 [00:01<00:00,  1.57s/trial, best loss: 1.1149442482556102]\n",
      "100%|███████████| 2/2 [00:02<00:00,  2.04s/trial, best loss: 1.1149442482556102]\n",
      "100%|███████████| 3/3 [00:01<00:00,  1.40s/trial, best loss: 1.0357702635666823]\n",
      "100%|███████████| 4/4 [00:02<00:00,  2.49s/trial, best loss: 0.9997410385181568]\n",
      " 80%|█████████████████████████████▌       | 4/5 [00:00<?, ?trial/s, best loss=?]"
     ]
    },
    {
     "name": "stderr",
     "output_type": "stream",
     "text": [
      "/Users/ziqili/anaconda3/lib/python3.11/site-packages/numpy/core/_methods.py:181: RuntimeWarning: overflow encountered in reduce\n",
      "  ret = umr_sum(arr, axis, dtype, out, keepdims, where=where)\n",
      "/Users/ziqili/anaconda3/lib/python3.11/site-packages/sklearn/neural_network/_base.py:173: RuntimeWarning: overflow encountered in square\n",
      "  return ((y_true - y_pred) ** 2).mean() / 2\n",
      "/Users/ziqili/anaconda3/lib/python3.11/site-packages/sklearn/utils/extmath.py:192: RuntimeWarning: overflow encountered in matmul\n",
      "  ret = a @ b\n",
      "/Users/ziqili/anaconda3/lib/python3.11/site-packages/sklearn/neural_network/_base.py:128: RuntimeWarning: invalid value encountered in multiply\n",
      "  delta *= 1 - Z**2\n",
      "/Users/ziqili/anaconda3/lib/python3.11/site-packages/sklearn/neural_network/_multilayer_perceptron.py:691: ConvergenceWarning: Stochastic Optimizer: Maximum iterations (161) reached and the optimization hasn't converged yet.\n",
      "  warnings.warn(\n",
      "job exception: Solver produced non-finite parameter weights. The input data may contain large values and need to be preprocessed.\n",
      "\n"
     ]
    },
    {
     "name": "stdout",
     "output_type": "stream",
     "text": [
      " 80%|█████████████████████████████▌       | 4/5 [00:05<?, ?trial/s, best loss=?]\n",
      "100%|███████████| 1/1 [00:02<00:00,  2.39s/trial, best loss: 0.4222289382945049]\n",
      "100%|███████████| 2/2 [00:03<00:00,  3.86s/trial, best loss: 0.4222289382945049]\n",
      " 67%|████████████████████████▋            | 2/3 [00:00<?, ?trial/s, best loss=?]"
     ]
    },
    {
     "name": "stderr",
     "output_type": "stream",
     "text": [
      "/Users/ziqili/anaconda3/lib/python3.11/site-packages/sklearn/neural_network/_multilayer_perceptron.py:546: ConvergenceWarning: lbfgs failed to converge (status=1):\n",
      "STOP: TOTAL NO. of ITERATIONS REACHED LIMIT.\n",
      "\n",
      "Increase the number of iterations (max_iter) or scale the data as shown in:\n",
      "    https://scikit-learn.org/stable/modules/preprocessing.html\n",
      "  self.n_iter_ = _check_optimize_result(\"lbfgs\", opt_res, self.max_iter)\n"
     ]
    },
    {
     "name": "stdout",
     "output_type": "stream",
     "text": [
      "100%|███████████| 3/3 [00:01<00:00,  1.82s/trial, best loss: 0.4222289382945049]\n",
      "100%|██████████| 4/4 [00:01<00:00,  1.40s/trial, best loss: 0.27205610557132354]\n",
      "100%|██████████| 5/5 [00:01<00:00,  1.80s/trial, best loss: 0.27205610557132354]\n",
      "100%|██████████| 6/6 [00:01<00:00,  1.55s/trial, best loss: 0.27205610557132354]\n",
      "100%|██████████| 7/7 [00:02<00:00,  2.01s/trial, best loss: 0.27205610557132354]\n",
      "100%|██████████| 8/8 [00:06<00:00,  6.17s/trial, best loss: 0.27205610557132354]\n",
      "100%|███████████| 9/9 [00:01<00:00,  1.47s/trial, best loss: 0.2357374038483233]\n",
      "100%|█████████| 10/10 [00:04<00:00,  4.06s/trial, best loss: 0.2357374038483233]\n",
      " 91%|███████████████████████████████▊   | 10/11 [00:00<?, ?trial/s, best loss=?]"
     ]
    },
    {
     "name": "stderr",
     "output_type": "stream",
     "text": [
      "/Users/ziqili/anaconda3/lib/python3.11/site-packages/sklearn/neural_network/_multilayer_perceptron.py:546: ConvergenceWarning: lbfgs failed to converge (status=1):\n",
      "STOP: TOTAL NO. of ITERATIONS REACHED LIMIT.\n",
      "\n",
      "Increase the number of iterations (max_iter) or scale the data as shown in:\n",
      "    https://scikit-learn.org/stable/modules/preprocessing.html\n",
      "  self.n_iter_ = _check_optimize_result(\"lbfgs\", opt_res, self.max_iter)\n"
     ]
    },
    {
     "name": "stdout",
     "output_type": "stream",
     "text": [
      "100%|█████████| 11/11 [00:01<00:00,  1.53s/trial, best loss: 0.2357374038483233]\n",
      "100%|█████████| 12/12 [00:01<00:00,  1.73s/trial, best loss: 0.2357374038483233]\n",
      "100%|████████| 13/13 [00:01<00:00,  1.39s/trial, best loss: 0.16120128065543693]\n",
      "100%|████████| 14/14 [00:01<00:00,  1.28s/trial, best loss: 0.16120128065543693]\n",
      "100%|████████| 15/15 [00:01<00:00,  1.82s/trial, best loss: 0.16120128065543693]\n",
      " 94%|████████████████████████████████▊  | 15/16 [00:00<?, ?trial/s, best loss=?]"
     ]
    },
    {
     "name": "stderr",
     "output_type": "stream",
     "text": [
      "/Users/ziqili/anaconda3/lib/python3.11/site-packages/sklearn/neural_network/_base.py:173: RuntimeWarning: overflow encountered in square\n",
      "  return ((y_true - y_pred) ** 2).mean() / 2\n",
      "/Users/ziqili/anaconda3/lib/python3.11/site-packages/sklearn/utils/extmath.py:192: RuntimeWarning: overflow encountered in matmul\n",
      "  ret = a @ b\n",
      "/Users/ziqili/anaconda3/lib/python3.11/site-packages/sklearn/utils/extmath.py:192: RuntimeWarning: invalid value encountered in matmul\n",
      "  ret = a @ b\n",
      "/Users/ziqili/anaconda3/lib/python3.11/site-packages/sklearn/neural_network/_multilayer_perceptron.py:691: ConvergenceWarning: Stochastic Optimizer: Maximum iterations (166) reached and the optimization hasn't converged yet.\n",
      "  warnings.warn(\n",
      "job exception: Solver produced non-finite parameter weights. The input data may contain large values and need to be preprocessed.\n",
      "\n"
     ]
    },
    {
     "name": "stdout",
     "output_type": "stream",
     "text": [
      " 94%|████████████████████████████████▊  | 15/16 [00:02<?, ?trial/s, best loss=?]\n",
      "  0%|                                     | 0/1 [00:00<?, ?trial/s, best loss=?]"
     ]
    },
    {
     "name": "stderr",
     "output_type": "stream",
     "text": [
      "/Users/ziqili/anaconda3/lib/python3.11/site-packages/sklearn/neural_network/_base.py:173: RuntimeWarning: overflow encountered in square\n",
      "  return ((y_true - y_pred) ** 2).mean() / 2\n",
      "/Users/ziqili/anaconda3/lib/python3.11/site-packages/sklearn/utils/extmath.py:192: RuntimeWarning: overflow encountered in matmul\n",
      "  ret = a @ b\n",
      "/Users/ziqili/anaconda3/lib/python3.11/site-packages/sklearn/utils/extmath.py:192: RuntimeWarning: invalid value encountered in matmul\n",
      "  ret = a @ b\n",
      "/Users/ziqili/anaconda3/lib/python3.11/site-packages/sklearn/neural_network/_multilayer_perceptron.py:691: ConvergenceWarning: Stochastic Optimizer: Maximum iterations (242) reached and the optimization hasn't converged yet.\n",
      "  warnings.warn(\n",
      "job exception: Solver produced non-finite parameter weights. The input data may contain large values and need to be preprocessed.\n",
      "\n"
     ]
    },
    {
     "name": "stdout",
     "output_type": "stream",
     "text": [
      "  0%|                                     | 0/1 [00:03<?, ?trial/s, best loss=?]\n",
      "100%|██████████| 1/1 [00:01<00:00,  1.69s/trial, best loss: 0.16257453801575972]\n",
      "100%|██████████| 2/2 [00:01<00:00,  1.82s/trial, best loss: 0.16257453801575972]\n",
      "100%|██████████| 3/3 [00:01<00:00,  1.65s/trial, best loss: 0.16257453801575972]\n",
      "100%|██████████| 4/4 [00:01<00:00,  1.37s/trial, best loss: 0.16257453801575972]\n",
      "100%|██████████| 5/5 [00:01<00:00,  1.76s/trial, best loss: 0.16257453801575972]\n",
      "100%|██████████| 6/6 [00:01<00:00,  1.45s/trial, best loss: 0.16257453801575972]\n",
      "100%|███████████| 7/7 [00:01<00:00,  1.67s/trial, best loss: 0.1612615728338853]\n",
      "100%|███████████| 8/8 [00:01<00:00,  1.60s/trial, best loss: 0.1612615728338853]\n",
      "100%|███████████| 9/9 [00:01<00:00,  1.65s/trial, best loss: 0.1612615728338853]\n",
      "100%|█████████| 10/10 [00:01<00:00,  1.62s/trial, best loss: 0.1612615728338853]\n",
      "100%|█████████| 11/11 [00:01<00:00,  1.23s/trial, best loss: 0.1612615728338853]\n",
      "100%|█████████| 12/12 [00:01<00:00,  1.61s/trial, best loss: 0.1612615728338853]\n",
      "100%|█████████| 13/13 [00:01<00:00,  1.33s/trial, best loss: 0.1612615728338853]\n",
      " 93%|████████████████████████████████▌  | 13/14 [00:00<?, ?trial/s, best loss=?]"
     ]
    },
    {
     "name": "stderr",
     "output_type": "stream",
     "text": [
      "/Users/ziqili/anaconda3/lib/python3.11/site-packages/sklearn/utils/extmath.py:192: RuntimeWarning: overflow encountered in matmul\n",
      "  ret = a @ b\n",
      "/Users/ziqili/anaconda3/lib/python3.11/site-packages/sklearn/neural_network/_base.py:173: RuntimeWarning: overflow encountered in square\n",
      "  return ((y_true - y_pred) ** 2).mean() / 2\n",
      "/Users/ziqili/anaconda3/lib/python3.11/site-packages/sklearn/utils/extmath.py:192: RuntimeWarning: invalid value encountered in matmul\n",
      "  ret = a @ b\n",
      "/Users/ziqili/anaconda3/lib/python3.11/site-packages/sklearn/neural_network/_multilayer_perceptron.py:691: ConvergenceWarning: Stochastic Optimizer: Maximum iterations (211) reached and the optimization hasn't converged yet.\n",
      "  warnings.warn(\n",
      "job exception: Solver produced non-finite parameter weights. The input data may contain large values and need to be preprocessed.\n",
      "\n"
     ]
    },
    {
     "name": "stdout",
     "output_type": "stream",
     "text": [
      " 93%|████████████████████████████████▌  | 13/14 [00:04<?, ?trial/s, best loss=?]\n",
      "100%|██████████| 1/1 [00:01<00:00,  1.69s/trial, best loss: 0.23631051399587877]\n",
      "100%|██████████| 2/2 [00:01<00:00,  1.66s/trial, best loss: 0.23631051399587877]\n",
      "100%|██████████| 3/3 [00:08<00:00,  8.09s/trial, best loss: 0.23631051399587877]\n",
      " 75%|███████████████████████████▊         | 3/4 [00:00<?, ?trial/s, best loss=?]"
     ]
    },
    {
     "name": "stderr",
     "output_type": "stream",
     "text": [
      "/Users/ziqili/anaconda3/lib/python3.11/site-packages/sklearn/neural_network/_multilayer_perceptron.py:546: ConvergenceWarning: lbfgs failed to converge (status=1):\n",
      "STOP: TOTAL NO. of ITERATIONS REACHED LIMIT.\n",
      "\n",
      "Increase the number of iterations (max_iter) or scale the data as shown in:\n",
      "    https://scikit-learn.org/stable/modules/preprocessing.html\n",
      "  self.n_iter_ = _check_optimize_result(\"lbfgs\", opt_res, self.max_iter)\n"
     ]
    },
    {
     "name": "stdout",
     "output_type": "stream",
     "text": [
      "100%|██████████| 4/4 [00:01<00:00,  1.90s/trial, best loss: 0.23631051399587877]\n",
      "100%|██████████| 5/5 [00:01<00:00,  1.27s/trial, best loss: 0.23631051399587877]\n",
      "100%|██████████| 6/6 [00:01<00:00,  1.59s/trial, best loss: 0.23631051399587877]\n",
      "100%|██████████| 7/7 [00:01<00:00,  1.51s/trial, best loss: 0.23631051399587877]\n",
      "100%|██████████| 8/8 [00:01<00:00,  1.87s/trial, best loss: 0.23631051399587877]\n",
      "100%|██████████| 9/9 [00:01<00:00,  1.38s/trial, best loss: 0.23631051399587877]\n",
      "100%|████████| 10/10 [00:01<00:00,  1.91s/trial, best loss: 0.23631051399587877]\n",
      " 91%|███████████████████████████████▊   | 10/11 [00:00<?, ?trial/s, best loss=?]"
     ]
    },
    {
     "name": "stderr",
     "output_type": "stream",
     "text": [
      "/Users/ziqili/anaconda3/lib/python3.11/site-packages/sklearn/neural_network/_base.py:173: RuntimeWarning: overflow encountered in square\n",
      "  return ((y_true - y_pred) ** 2).mean() / 2\n",
      "/Users/ziqili/anaconda3/lib/python3.11/site-packages/sklearn/utils/extmath.py:192: RuntimeWarning: overflow encountered in matmul\n",
      "  ret = a @ b\n",
      "/Users/ziqili/anaconda3/lib/python3.11/site-packages/sklearn/utils/extmath.py:192: RuntimeWarning: invalid value encountered in matmul\n",
      "  ret = a @ b\n",
      "/Users/ziqili/anaconda3/lib/python3.11/site-packages/sklearn/neural_network/_multilayer_perceptron.py:691: ConvergenceWarning: Stochastic Optimizer: Maximum iterations (191) reached and the optimization hasn't converged yet.\n",
      "  warnings.warn(\n",
      "job exception: Solver produced non-finite parameter weights. The input data may contain large values and need to be preprocessed.\n",
      "\n"
     ]
    },
    {
     "name": "stdout",
     "output_type": "stream",
     "text": [
      " 91%|███████████████████████████████▊   | 10/11 [00:04<?, ?trial/s, best loss=?]\n",
      "100%|███████████| 1/1 [00:01<00:00,  1.64s/trial, best loss: 1.0509797402689673]\n",
      "100%|██████████| 2/2 [00:01<00:00,  1.71s/trial, best loss: 0.14705467536905192]\n",
      "100%|██████████| 3/3 [00:01<00:00,  1.48s/trial, best loss: 0.14705467536905192]\n",
      "100%|██████████| 4/4 [00:01<00:00,  1.33s/trial, best loss: 0.14705467536905192]\n",
      "100%|██████████| 5/5 [00:01<00:00,  1.66s/trial, best loss: 0.14705467536905192]\n",
      "100%|██████████| 6/6 [00:01<00:00,  1.43s/trial, best loss: 0.14705467536905192]\n",
      "100%|██████████| 7/7 [00:01<00:00,  1.70s/trial, best loss: 0.14705467536905192]\n",
      "100%|██████████| 8/8 [00:01<00:00,  1.58s/trial, best loss: 0.14705467536905192]\n",
      "100%|██████████| 9/9 [00:01<00:00,  1.46s/trial, best loss: 0.14705467536905192]\n",
      " 90%|████████████████████████████████▍   | 9/10 [00:00<?, ?trial/s, best loss=?]"
     ]
    },
    {
     "name": "stderr",
     "output_type": "stream",
     "text": [
      "/Users/ziqili/anaconda3/lib/python3.11/site-packages/numpy/core/_methods.py:181: RuntimeWarning: overflow encountered in reduce\n",
      "  ret = umr_sum(arr, axis, dtype, out, keepdims, where=where)\n",
      "/Users/ziqili/anaconda3/lib/python3.11/site-packages/sklearn/neural_network/_base.py:173: RuntimeWarning: overflow encountered in square\n",
      "  return ((y_true - y_pred) ** 2).mean() / 2\n",
      "/Users/ziqili/anaconda3/lib/python3.11/site-packages/sklearn/utils/extmath.py:192: RuntimeWarning: overflow encountered in matmul\n",
      "  ret = a @ b\n",
      "/Users/ziqili/anaconda3/lib/python3.11/site-packages/sklearn/neural_network/_base.py:128: RuntimeWarning: invalid value encountered in multiply\n",
      "  delta *= 1 - Z**2\n",
      "/Users/ziqili/anaconda3/lib/python3.11/site-packages/sklearn/neural_network/_multilayer_perceptron.py:691: ConvergenceWarning: Stochastic Optimizer: Maximum iterations (295) reached and the optimization hasn't converged yet.\n",
      "  warnings.warn(\n",
      "job exception: Solver produced non-finite parameter weights. The input data may contain large values and need to be preprocessed.\n",
      "\n"
     ]
    },
    {
     "name": "stdout",
     "output_type": "stream",
     "text": [
      " 90%|████████████████████████████████▍   | 9/10 [00:06<?, ?trial/s, best loss=?]\n",
      "100%|██████████| 1/1 [00:01<00:00,  1.39s/trial, best loss: 0.24718389700135768]\n",
      "100%|██████████| 2/2 [00:01<00:00,  1.68s/trial, best loss: 0.24718389700135768]\n",
      "100%|██████████| 3/3 [00:03<00:00,  3.72s/trial, best loss: 0.24718389700135768]\n",
      " 75%|███████████████████████████▊         | 3/4 [00:00<?, ?trial/s, best loss=?]"
     ]
    },
    {
     "name": "stderr",
     "output_type": "stream",
     "text": [
      "/Users/ziqili/anaconda3/lib/python3.11/site-packages/sklearn/neural_network/_base.py:173: RuntimeWarning: overflow encountered in square\n",
      "  return ((y_true - y_pred) ** 2).mean() / 2\n",
      "/Users/ziqili/anaconda3/lib/python3.11/site-packages/sklearn/utils/extmath.py:192: RuntimeWarning: overflow encountered in matmul\n",
      "  ret = a @ b\n",
      "/Users/ziqili/anaconda3/lib/python3.11/site-packages/sklearn/utils/extmath.py:192: RuntimeWarning: invalid value encountered in matmul\n",
      "  ret = a @ b\n",
      "/Users/ziqili/anaconda3/lib/python3.11/site-packages/numpy/core/_methods.py:181: RuntimeWarning: invalid value encountered in reduce\n",
      "  ret = umr_sum(arr, axis, dtype, out, keepdims, where=where)\n",
      "/Users/ziqili/anaconda3/lib/python3.11/site-packages/sklearn/neural_network/_multilayer_perceptron.py:691: ConvergenceWarning: Stochastic Optimizer: Maximum iterations (343) reached and the optimization hasn't converged yet.\n",
      "  warnings.warn(\n",
      "job exception: Solver produced non-finite parameter weights. The input data may contain large values and need to be preprocessed.\n",
      "\n"
     ]
    },
    {
     "name": "stdout",
     "output_type": "stream",
     "text": [
      " 75%|███████████████████████████▊         | 3/4 [00:05<?, ?trial/s, best loss=?]\n",
      "100%|███████████| 1/1 [00:05<00:00,  5.07s/trial, best loss: 1794.5761026603177]\n",
      " 50%|██████████████████▌                  | 1/2 [00:00<?, ?trial/s, best loss=?]"
     ]
    },
    {
     "name": "stderr",
     "output_type": "stream",
     "text": [
      "/Users/ziqili/anaconda3/lib/python3.11/site-packages/sklearn/neural_network/_multilayer_perceptron.py:546: ConvergenceWarning: lbfgs failed to converge (status=1):\n",
      "STOP: TOTAL NO. of ITERATIONS REACHED LIMIT.\n",
      "\n",
      "Increase the number of iterations (max_iter) or scale the data as shown in:\n",
      "    https://scikit-learn.org/stable/modules/preprocessing.html\n",
      "  self.n_iter_ = _check_optimize_result(\"lbfgs\", opt_res, self.max_iter)\n"
     ]
    },
    {
     "name": "stdout",
     "output_type": "stream",
     "text": [
      "100%|███████████| 2/2 [00:06<00:00,  6.32s/trial, best loss: 1794.5761026603177]\n",
      "100%|███████████| 3/3 [00:01<00:00,  1.61s/trial, best loss: 0.2622677428353175]\n",
      "100%|██████████| 4/4 [00:04<00:00,  4.01s/trial, best loss: 0.22789228603688094]\n",
      "100%|██████████| 5/5 [00:01<00:00,  1.76s/trial, best loss: 0.22789228603688094]\n",
      "100%|██████████| 6/6 [00:01<00:00,  1.52s/trial, best loss: 0.19441856889229758]\n",
      " 86%|███████████████████████████████▋     | 6/7 [00:00<?, ?trial/s, best loss=?]"
     ]
    },
    {
     "name": "stderr",
     "output_type": "stream",
     "text": [
      "/Users/ziqili/anaconda3/lib/python3.11/site-packages/sklearn/utils/extmath.py:192: RuntimeWarning: overflow encountered in matmul\n",
      "  ret = a @ b\n",
      "/Users/ziqili/anaconda3/lib/python3.11/site-packages/sklearn/utils/extmath.py:192: RuntimeWarning: invalid value encountered in matmul\n",
      "  ret = a @ b\n",
      "/Users/ziqili/anaconda3/lib/python3.11/site-packages/sklearn/neural_network/_multilayer_perceptron.py:691: ConvergenceWarning: Stochastic Optimizer: Maximum iterations (300) reached and the optimization hasn't converged yet.\n",
      "  warnings.warn(\n",
      "job exception: Solver produced non-finite parameter weights. The input data may contain large values and need to be preprocessed.\n",
      "\n"
     ]
    },
    {
     "name": "stdout",
     "output_type": "stream",
     "text": [
      " 86%|███████████████████████████████▋     | 6/7 [00:04<?, ?trial/s, best loss=?]\n",
      "100%|███████████| 1/1 [00:01<00:00,  1.54s/trial, best loss: 1.0443293895455015]\n",
      " 50%|██████████████████▌                  | 1/2 [00:00<?, ?trial/s, best loss=?]"
     ]
    },
    {
     "name": "stderr",
     "output_type": "stream",
     "text": [
      "/Users/ziqili/anaconda3/lib/python3.11/site-packages/sklearn/neural_network/_base.py:173: RuntimeWarning: overflow encountered in square\n",
      "  return ((y_true - y_pred) ** 2).mean() / 2\n",
      "/Users/ziqili/anaconda3/lib/python3.11/site-packages/numpy/core/_methods.py:181: RuntimeWarning: overflow encountered in reduce\n",
      "  ret = umr_sum(arr, axis, dtype, out, keepdims, where=where)\n",
      "/Users/ziqili/anaconda3/lib/python3.11/site-packages/sklearn/utils/extmath.py:192: RuntimeWarning: overflow encountered in matmul\n",
      "  ret = a @ b\n",
      "/Users/ziqili/anaconda3/lib/python3.11/site-packages/sklearn/utils/extmath.py:192: RuntimeWarning: invalid value encountered in matmul\n",
      "  ret = a @ b\n",
      "/Users/ziqili/anaconda3/lib/python3.11/site-packages/sklearn/neural_network/_multilayer_perceptron.py:691: ConvergenceWarning: Stochastic Optimizer: Maximum iterations (231) reached and the optimization hasn't converged yet.\n",
      "  warnings.warn(\n",
      "job exception: Solver produced non-finite parameter weights. The input data may contain large values and need to be preprocessed.\n",
      "\n"
     ]
    },
    {
     "name": "stdout",
     "output_type": "stream",
     "text": [
      " 50%|██████████████████▌                  | 1/2 [00:04<?, ?trial/s, best loss=?]\n",
      "100%|███████████| 1/1 [00:01<00:00,  1.43s/trial, best loss: 0.2431010413976924]\n",
      "100%|███████████| 2/2 [00:01<00:00,  1.31s/trial, best loss: 0.2431010413976924]\n",
      "100%|███████████| 3/3 [00:02<00:00,  2.98s/trial, best loss: 0.2431010413976924]\n",
      "100%|███████████| 4/4 [00:01<00:00,  1.57s/trial, best loss: 0.2431010413976924]\n",
      "100%|███████████| 5/5 [00:01<00:00,  1.53s/trial, best loss: 0.2431010413976924]\n",
      "100%|███████████| 6/6 [00:01<00:00,  1.79s/trial, best loss: 0.2431010413976924]\n",
      "100%|███████████| 7/7 [00:01<00:00,  1.52s/trial, best loss: 0.2431010413976924]\n",
      "100%|███████████| 8/8 [00:02<00:00,  2.14s/trial, best loss: 0.2431010413976924]\n",
      "100%|███████████| 9/9 [00:01<00:00,  1.19s/trial, best loss: 0.2431010413976924]\n",
      "100%|█████████| 10/10 [00:01<00:00,  1.91s/trial, best loss: 0.2431010413976924]\n",
      "100%|█████████| 11/11 [00:01<00:00,  1.21s/trial, best loss: 0.2431010413976924]\n",
      "100%|█████████| 12/12 [00:02<00:00,  2.38s/trial, best loss: 0.2431010413976924]\n",
      "100%|█████████| 13/13 [00:02<00:00,  2.38s/trial, best loss: 0.2431010413976924]\n",
      "100%|█████████| 14/14 [00:01<00:00,  1.68s/trial, best loss: 0.2431010413976924]\n",
      "100%|█████████| 15/15 [00:01<00:00,  1.60s/trial, best loss: 0.2431010413976924]\n",
      "100%|█████████| 16/16 [00:01<00:00,  1.46s/trial, best loss: 0.2431010413976924]\n",
      "100%|████████| 17/17 [00:01<00:00,  1.88s/trial, best loss: 0.16414651228792076]\n",
      "100%|████████| 18/18 [00:01<00:00,  1.09s/trial, best loss: 0.16414651228792076]\n",
      "100%|████████| 19/19 [00:01<00:00,  1.85s/trial, best loss: 0.16414651228792076]\n",
      "100%|████████| 20/20 [00:01<00:00,  1.54s/trial, best loss: 0.16414651228792076]\n",
      "100%|████████| 21/21 [00:01<00:00,  1.91s/trial, best loss: 0.16414651228792076]\n",
      "100%|████████| 22/22 [00:01<00:00,  1.64s/trial, best loss: 0.16414651228792076]\n",
      "100%|████████| 23/23 [00:01<00:00,  1.55s/trial, best loss: 0.16137566788482427]\n",
      "100%|████████| 24/24 [00:02<00:00,  2.01s/trial, best loss: 0.13858607401213607]\n",
      "100%|████████| 25/25 [00:01<00:00,  1.77s/trial, best loss: 0.13858607401213607]\n",
      " 96%|█████████████████████████████████▋ | 25/26 [00:00<?, ?trial/s, best loss=?]"
     ]
    },
    {
     "name": "stderr",
     "output_type": "stream",
     "text": [
      "/Users/ziqili/anaconda3/lib/python3.11/site-packages/numpy/core/_methods.py:181: RuntimeWarning: overflow encountered in reduce\n",
      "  ret = umr_sum(arr, axis, dtype, out, keepdims, where=where)\n",
      "/Users/ziqili/anaconda3/lib/python3.11/site-packages/sklearn/neural_network/_base.py:173: RuntimeWarning: overflow encountered in square\n",
      "  return ((y_true - y_pred) ** 2).mean() / 2\n",
      "/Users/ziqili/anaconda3/lib/python3.11/site-packages/sklearn/utils/extmath.py:192: RuntimeWarning: overflow encountered in matmul\n",
      "  ret = a @ b\n",
      "/Users/ziqili/anaconda3/lib/python3.11/site-packages/sklearn/neural_network/_base.py:128: RuntimeWarning: invalid value encountered in multiply\n",
      "  delta *= 1 - Z**2\n",
      "/Users/ziqili/anaconda3/lib/python3.11/site-packages/sklearn/neural_network/_multilayer_perceptron.py:691: ConvergenceWarning: Stochastic Optimizer: Maximum iterations (170) reached and the optimization hasn't converged yet.\n",
      "  warnings.warn(\n",
      "job exception: Solver produced non-finite parameter weights. The input data may contain large values and need to be preprocessed.\n",
      "\n"
     ]
    },
    {
     "name": "stdout",
     "output_type": "stream",
     "text": [
      " 96%|█████████████████████████████████▋ | 25/26 [00:04<?, ?trial/s, best loss=?]\n",
      "100%|██████████| 1/1 [00:01<00:00,  1.80s/trial, best loss: 0.27554288003031013]\n",
      "100%|██████████| 2/2 [00:03<00:00,  3.13s/trial, best loss: 0.27554288003031013]\n",
      "100%|███████████| 3/3 [00:01<00:00,  1.62s/trial, best loss: 0.2207197802525831]\n",
      "100%|███████████| 4/4 [00:01<00:00,  1.57s/trial, best loss: 0.2207197802525831]\n",
      "100%|███████████| 5/5 [00:01<00:00,  1.38s/trial, best loss: 0.2207197802525831]\n",
      "100%|███████████| 6/6 [00:06<00:00,  6.14s/trial, best loss: 0.2207197802525831]\n",
      " 86%|███████████████████████████████▋     | 6/7 [00:00<?, ?trial/s, best loss=?]"
     ]
    },
    {
     "name": "stderr",
     "output_type": "stream",
     "text": [
      "/Users/ziqili/anaconda3/lib/python3.11/site-packages/sklearn/neural_network/_multilayer_perceptron.py:546: ConvergenceWarning: lbfgs failed to converge (status=1):\n",
      "STOP: TOTAL NO. of ITERATIONS REACHED LIMIT.\n",
      "\n",
      "Increase the number of iterations (max_iter) or scale the data as shown in:\n",
      "    https://scikit-learn.org/stable/modules/preprocessing.html\n",
      "  self.n_iter_ = _check_optimize_result(\"lbfgs\", opt_res, self.max_iter)\n",
      "/Users/ziqili/anaconda3/lib/python3.11/site-packages/numpy/core/_methods.py:181: RuntimeWarning: overflow encountered in reduce\n",
      "  ret = umr_sum(arr, axis, dtype, out, keepdims, where=where)\n",
      "/Users/ziqili/anaconda3/lib/python3.11/site-packages/sklearn/utils/extmath.py:192: RuntimeWarning: overflow encountered in matmul\n",
      "  ret = a @ b\n",
      "/Users/ziqili/anaconda3/lib/python3.11/site-packages/sklearn/utils/extmath.py:192: RuntimeWarning: invalid value encountered in matmul\n",
      "  ret = a @ b\n",
      "/Users/ziqili/anaconda3/lib/python3.11/site-packages/sklearn/neural_network/_multilayer_perceptron.py:691: ConvergenceWarning: Stochastic Optimizer: Maximum iterations (206) reached and the optimization hasn't converged yet.\n",
      "  warnings.warn(\n",
      "job exception: Solver produced non-finite parameter weights. The input data may contain large values and need to be preprocessed.\n",
      "\n"
     ]
    },
    {
     "name": "stdout",
     "output_type": "stream",
     "text": [
      " 86%|███████████████████████████████▋     | 6/7 [00:04<?, ?trial/s, best loss=?]\n",
      "100%|███████████| 1/1 [00:01<00:00,  1.59s/trial, best loss: 0.8077227403537685]\n",
      "100%|███████████| 2/2 [00:01<00:00,  1.70s/trial, best loss: 0.1390446882683306]\n",
      "100%|███████████| 3/3 [00:01<00:00,  1.28s/trial, best loss: 0.1390446882683306]\n",
      "100%|███████████| 4/4 [00:01<00:00,  1.20s/trial, best loss: 0.1390446882683306]\n",
      "100%|███████████| 5/5 [00:05<00:00,  5.81s/trial, best loss: 0.1390446882683306]\n",
      " 83%|██████████████████████████████▊      | 5/6 [00:00<?, ?trial/s, best loss=?]"
     ]
    },
    {
     "name": "stderr",
     "output_type": "stream",
     "text": [
      "/Users/ziqili/anaconda3/lib/python3.11/site-packages/sklearn/neural_network/_multilayer_perceptron.py:546: ConvergenceWarning: lbfgs failed to converge (status=1):\n",
      "STOP: TOTAL NO. of ITERATIONS REACHED LIMIT.\n",
      "\n",
      "Increase the number of iterations (max_iter) or scale the data as shown in:\n",
      "    https://scikit-learn.org/stable/modules/preprocessing.html\n",
      "  self.n_iter_ = _check_optimize_result(\"lbfgs\", opt_res, self.max_iter)\n"
     ]
    },
    {
     "name": "stdout",
     "output_type": "stream",
     "text": [
      "100%|███████████| 6/6 [00:02<00:00,  2.31s/trial, best loss: 0.1390446882683306]\n",
      "100%|███████████| 7/7 [00:01<00:00,  1.66s/trial, best loss: 0.1390446882683306]\n",
      "100%|███████████| 8/8 [00:01<00:00,  1.52s/trial, best loss: 0.1390446882683306]\n",
      "100%|███████████| 9/9 [00:01<00:00,  1.97s/trial, best loss: 0.1390446882683306]\n",
      "100%|█████████| 10/10 [00:05<00:00,  5.06s/trial, best loss: 0.1390446882683306]\n",
      "100%|█████████| 11/11 [00:01<00:00,  1.76s/trial, best loss: 0.1390446882683306]\n",
      "100%|█████████| 12/12 [00:04<00:00,  4.31s/trial, best loss: 0.1390446882683306]\n",
      "100%|█████████| 13/13 [00:01<00:00,  1.79s/trial, best loss: 0.1390446882683306]\n",
      "100%|█████████| 14/14 [00:01<00:00,  1.73s/trial, best loss: 0.1390446882683306]\n",
      "100%|█████████| 15/15 [00:01<00:00,  1.86s/trial, best loss: 0.1390446882683306]\n",
      "100%|█████████| 16/16 [00:01<00:00,  1.21s/trial, best loss: 0.1390446882683306]\n",
      "100%|█████████| 17/17 [00:01<00:00,  1.78s/trial, best loss: 0.1390446882683306]\n",
      "100%|█████████| 18/18 [00:01<00:00,  1.93s/trial, best loss: 0.1390446882683306]\n",
      "100%|█████████| 19/19 [00:01<00:00,  2.00s/trial, best loss: 0.1390446882683306]\n",
      "100%|█████████| 20/20 [00:03<00:00,  3.18s/trial, best loss: 0.1390446882683306]\n",
      "100%|█████████| 21/21 [00:01<00:00,  1.51s/trial, best loss: 0.1390446882683306]\n",
      "100%|█████████| 22/22 [00:01<00:00,  1.73s/trial, best loss: 0.1390446882683306]\n",
      "100%|█████████| 23/23 [00:01<00:00,  1.59s/trial, best loss: 0.1390446882683306]\n",
      "100%|█████████| 24/24 [00:01<00:00,  1.58s/trial, best loss: 0.1390446882683306]\n",
      "100%|█████████| 25/25 [00:01<00:00,  1.73s/trial, best loss: 0.1390446882683306]\n",
      "100%|█████████| 26/26 [00:01<00:00,  1.34s/trial, best loss: 0.1390446882683306]\n",
      "100%|█████████| 27/27 [00:01<00:00,  1.71s/trial, best loss: 0.1390446882683306]\n",
      "100%|█████████| 28/28 [00:02<00:00,  2.69s/trial, best loss: 0.1390446882683306]\n",
      "100%|█████████| 29/29 [00:01<00:00,  1.50s/trial, best loss: 0.1390446882683306]\n",
      "100%|█████████| 30/30 [00:01<00:00,  1.67s/trial, best loss: 0.1390446882683306]\n",
      "100%|█████████| 31/31 [00:01<00:00,  1.78s/trial, best loss: 0.1390446882683306]\n",
      "100%|█████████| 32/32 [00:01<00:00,  1.86s/trial, best loss: 0.1390446882683306]\n",
      "100%|█████████| 33/33 [00:01<00:00,  1.72s/trial, best loss: 0.1390446882683306]\n",
      "100%|█████████| 34/34 [00:02<00:00,  2.04s/trial, best loss: 0.1390446882683306]\n",
      "100%|█████████| 35/35 [00:01<00:00,  1.52s/trial, best loss: 0.1390446882683306]\n",
      "100%|█████████| 36/36 [00:01<00:00,  1.50s/trial, best loss: 0.1390446882683306]\n",
      "100%|█████████| 37/37 [00:01<00:00,  1.44s/trial, best loss: 0.1390446882683306]\n",
      "100%|█████████| 38/38 [00:01<00:00,  1.67s/trial, best loss: 0.1390446882683306]\n",
      "100%|█████████| 39/39 [00:02<00:00,  2.08s/trial, best loss: 0.1390446882683306]\n",
      "100%|█████████| 40/40 [00:01<00:00,  1.88s/trial, best loss: 0.1307177157525613]\n",
      "100%|█████████| 41/41 [00:01<00:00,  1.62s/trial, best loss: 0.1307177157525613]\n",
      "100%|█████████| 42/42 [00:01<00:00,  1.26s/trial, best loss: 0.1307177157525613]\n",
      "100%|█████████| 43/43 [00:02<00:00,  2.02s/trial, best loss: 0.1307177157525613]\n",
      "100%|█████████| 44/44 [00:01<00:00,  1.64s/trial, best loss: 0.1307177157525613]\n",
      "100%|█████████| 45/45 [00:02<00:00,  2.28s/trial, best loss: 0.1307177157525613]\n",
      "100%|█████████| 46/46 [00:01<00:00,  1.67s/trial, best loss: 0.1307177157525613]\n",
      "100%|█████████| 47/47 [00:01<00:00,  1.65s/trial, best loss: 0.1307177157525613]\n",
      "100%|█████████| 48/48 [00:06<00:00,  6.75s/trial, best loss: 0.1307177157525613]\n",
      " 98%|██████████████████████████████████▎| 48/49 [00:00<?, ?trial/s, best loss=?]"
     ]
    },
    {
     "name": "stderr",
     "output_type": "stream",
     "text": [
      "/Users/ziqili/anaconda3/lib/python3.11/site-packages/sklearn/neural_network/_multilayer_perceptron.py:691: ConvergenceWarning: Stochastic Optimizer: Maximum iterations (288) reached and the optimization hasn't converged yet.\n",
      "  warnings.warn(\n"
     ]
    },
    {
     "name": "stdout",
     "output_type": "stream",
     "text": [
      "100%|█████████| 49/49 [00:01<00:00,  1.25s/trial, best loss: 0.1307177157525613]\n",
      "100%|█████████| 50/50 [00:01<00:00,  1.85s/trial, best loss: 0.1307177157525613]\n",
      "100%|█████████| 51/51 [00:01<00:00,  1.69s/trial, best loss: 0.1307177157525613]\n",
      "100%|█████████| 52/52 [00:01<00:00,  1.31s/trial, best loss: 0.1307177157525613]\n",
      "100%|█████████| 53/53 [00:01<00:00,  1.71s/trial, best loss: 0.1307177157525613]\n",
      "100%|█████████| 54/54 [00:01<00:00,  1.69s/trial, best loss: 0.1307177157525613]\n",
      "100%|█████████| 55/55 [00:01<00:00,  1.45s/trial, best loss: 0.1307177157525613]\n",
      " 98%|██████████████████████████████████▍| 55/56 [00:00<?, ?trial/s, best loss=?]"
     ]
    },
    {
     "name": "stderr",
     "output_type": "stream",
     "text": [
      "/Users/ziqili/anaconda3/lib/python3.11/site-packages/numpy/core/_methods.py:181: RuntimeWarning: overflow encountered in reduce\n",
      "  ret = umr_sum(arr, axis, dtype, out, keepdims, where=where)\n",
      "/Users/ziqili/anaconda3/lib/python3.11/site-packages/sklearn/neural_network/_base.py:173: RuntimeWarning: overflow encountered in square\n",
      "  return ((y_true - y_pred) ** 2).mean() / 2\n",
      "/Users/ziqili/anaconda3/lib/python3.11/site-packages/sklearn/utils/extmath.py:192: RuntimeWarning: overflow encountered in matmul\n",
      "  ret = a @ b\n",
      "/Users/ziqili/anaconda3/lib/python3.11/site-packages/sklearn/neural_network/_base.py:110: RuntimeWarning: invalid value encountered in multiply\n",
      "  delta *= 1 - Z\n",
      "/Users/ziqili/anaconda3/lib/python3.11/site-packages/sklearn/neural_network/_multilayer_perceptron.py:691: ConvergenceWarning: Stochastic Optimizer: Maximum iterations (230) reached and the optimization hasn't converged yet.\n",
      "  warnings.warn(\n",
      "job exception: Solver produced non-finite parameter weights. The input data may contain large values and need to be preprocessed.\n",
      "\n"
     ]
    },
    {
     "name": "stdout",
     "output_type": "stream",
     "text": [
      " 98%|██████████████████████████████████▍| 55/56 [00:04<?, ?trial/s, best loss=?]\n",
      "100%|███████████| 1/1 [00:01<00:00,  1.61s/trial, best loss: 1.0087108282639707]\n",
      "100%|██████████| 2/2 [00:01<00:00,  1.48s/trial, best loss: 0.34866327810761866]\n",
      "100%|██████████| 3/3 [00:00<00:00,  1.02trial/s, best loss: 0.34866327810761866]\n",
      "100%|██████████| 4/4 [00:07<00:00,  7.09s/trial, best loss: 0.34866327810761866]\n",
      " 80%|█████████████████████████████▌       | 4/5 [00:00<?, ?trial/s, best loss=?]"
     ]
    },
    {
     "name": "stderr",
     "output_type": "stream",
     "text": [
      "/Users/ziqili/anaconda3/lib/python3.11/site-packages/sklearn/neural_network/_multilayer_perceptron.py:546: ConvergenceWarning: lbfgs failed to converge (status=1):\n",
      "STOP: TOTAL NO. of ITERATIONS REACHED LIMIT.\n",
      "\n",
      "Increase the number of iterations (max_iter) or scale the data as shown in:\n",
      "    https://scikit-learn.org/stable/modules/preprocessing.html\n",
      "  self.n_iter_ = _check_optimize_result(\"lbfgs\", opt_res, self.max_iter)\n"
     ]
    },
    {
     "name": "stdout",
     "output_type": "stream",
     "text": [
      "100%|██████████| 5/5 [00:01<00:00,  1.59s/trial, best loss: 0.34866327810761866]\n",
      "100%|██████████| 6/6 [00:06<00:00,  6.64s/trial, best loss: 0.34866327810761866]\n",
      " 86%|███████████████████████████████▋     | 6/7 [00:00<?, ?trial/s, best loss=?]"
     ]
    },
    {
     "name": "stderr",
     "output_type": "stream",
     "text": [
      "/Users/ziqili/anaconda3/lib/python3.11/site-packages/sklearn/neural_network/_multilayer_perceptron.py:546: ConvergenceWarning: lbfgs failed to converge (status=1):\n",
      "STOP: TOTAL NO. of ITERATIONS REACHED LIMIT.\n",
      "\n",
      "Increase the number of iterations (max_iter) or scale the data as shown in:\n",
      "    https://scikit-learn.org/stable/modules/preprocessing.html\n",
      "  self.n_iter_ = _check_optimize_result(\"lbfgs\", opt_res, self.max_iter)\n"
     ]
    },
    {
     "name": "stdout",
     "output_type": "stream",
     "text": [
      "100%|██████████| 7/7 [00:03<00:00,  3.38s/trial, best loss: 0.34866327810761866]\n",
      "100%|██████████| 8/8 [00:01<00:00,  1.34s/trial, best loss: 0.34866327810761866]\n",
      "100%|██████████| 9/9 [00:01<00:00,  1.39s/trial, best loss: 0.34866327810761866]\n",
      "100%|████████| 10/10 [00:02<00:00,  2.42s/trial, best loss: 0.34866327810761866]\n",
      "100%|████████| 11/11 [00:01<00:00,  1.61s/trial, best loss: 0.34866327810761866]\n",
      "100%|████████| 12/12 [00:01<00:00,  1.83s/trial, best loss: 0.17879060477924213]\n",
      "100%|████████| 13/13 [00:01<00:00,  1.38s/trial, best loss: 0.17879060477924213]\n",
      "100%|████████| 14/14 [00:01<00:00,  1.35s/trial, best loss: 0.17879060477924213]\n",
      "100%|████████| 15/15 [00:01<00:00,  1.77s/trial, best loss: 0.17879060477924213]\n",
      "100%|████████| 16/16 [00:01<00:00,  1.50s/trial, best loss: 0.17879060477924213]\n",
      "100%|████████| 17/17 [00:01<00:00,  1.66s/trial, best loss: 0.17879060477924213]\n",
      "100%|████████| 18/18 [00:01<00:00,  1.34s/trial, best loss: 0.17879060477924213]\n",
      "100%|████████| 19/19 [00:01<00:00,  1.48s/trial, best loss: 0.17879060477924213]\n",
      "100%|████████| 20/20 [00:01<00:00,  1.44s/trial, best loss: 0.17879060477924213]\n",
      "100%|████████| 21/21 [00:01<00:00,  1.44s/trial, best loss: 0.17879060477924213]\n",
      "100%|████████| 22/22 [00:01<00:00,  1.46s/trial, best loss: 0.17879060477924213]\n",
      "100%|████████| 23/23 [00:01<00:00,  1.40s/trial, best loss: 0.17879060477924213]\n",
      "100%|████████| 24/24 [00:01<00:00,  1.43s/trial, best loss: 0.17879060477924213]\n",
      " 96%|█████████████████████████████████▌ | 24/25 [00:00<?, ?trial/s, best loss=?]"
     ]
    },
    {
     "name": "stderr",
     "output_type": "stream",
     "text": [
      "/Users/ziqili/anaconda3/lib/python3.11/site-packages/numpy/core/_methods.py:181: RuntimeWarning: overflow encountered in reduce\n",
      "  ret = umr_sum(arr, axis, dtype, out, keepdims, where=where)\n",
      "/Users/ziqili/anaconda3/lib/python3.11/site-packages/sklearn/neural_network/_base.py:173: RuntimeWarning: overflow encountered in square\n",
      "  return ((y_true - y_pred) ** 2).mean() / 2\n",
      "/Users/ziqili/anaconda3/lib/python3.11/site-packages/sklearn/utils/extmath.py:192: RuntimeWarning: overflow encountered in matmul\n",
      "  ret = a @ b\n",
      "/Users/ziqili/anaconda3/lib/python3.11/site-packages/sklearn/neural_network/_base.py:128: RuntimeWarning: invalid value encountered in multiply\n",
      "  delta *= 1 - Z**2\n",
      "/Users/ziqili/anaconda3/lib/python3.11/site-packages/sklearn/neural_network/_multilayer_perceptron.py:691: ConvergenceWarning: Stochastic Optimizer: Maximum iterations (180) reached and the optimization hasn't converged yet.\n",
      "  warnings.warn(\n",
      "job exception: Solver produced non-finite parameter weights. The input data may contain large values and need to be preprocessed.\n",
      "\n"
     ]
    },
    {
     "name": "stdout",
     "output_type": "stream",
     "text": [
      " 96%|█████████████████████████████████▌ | 24/25 [00:05<?, ?trial/s, best loss=?]\n",
      "100%|████████████| 1/1 [00:02<00:00,  2.49s/trial, best loss: 7.395318898577678]\n",
      "100%|████████████| 2/2 [00:01<00:00,  1.26s/trial, best loss: 0.928406548913116]\n",
      "100%|██████████| 3/3 [00:01<00:00,  1.58s/trial, best loss: 0.22106956906466357]\n",
      "100%|██████████| 4/4 [00:01<00:00,  1.59s/trial, best loss: 0.22106956906466357]\n",
      "100%|██████████| 5/5 [00:01<00:00,  1.50s/trial, best loss: 0.22106956906466357]\n",
      "100%|██████████| 6/6 [00:01<00:00,  1.13s/trial, best loss: 0.22106956906466357]\n",
      "100%|██████████| 7/7 [00:01<00:00,  1.52s/trial, best loss: 0.22106956906466357]\n",
      "100%|██████████| 8/8 [00:01<00:00,  1.61s/trial, best loss: 0.19464006981916204]\n",
      "100%|███████████| 9/9 [00:01<00:00,  1.88s/trial, best loss: 0.1583757142488369]\n",
      "100%|█████████| 10/10 [00:01<00:00,  1.32s/trial, best loss: 0.1583757142488369]\n",
      "100%|█████████| 11/11 [00:02<00:00,  2.21s/trial, best loss: 0.1583757142488369]\n",
      "100%|█████████| 12/12 [00:01<00:00,  1.80s/trial, best loss: 0.1583757142488369]\n",
      "100%|█████████| 13/13 [00:01<00:00,  1.32s/trial, best loss: 0.1583757142488369]\n",
      "100%|█████████| 14/14 [00:01<00:00,  1.53s/trial, best loss: 0.1583757142488369]\n",
      "100%|█████████| 15/15 [00:01<00:00,  1.24s/trial, best loss: 0.1583757142488369]\n",
      "100%|█████████| 16/16 [00:01<00:00,  1.57s/trial, best loss: 0.1583757142488369]\n",
      "100%|█████████| 17/17 [00:01<00:00,  1.88s/trial, best loss: 0.1583757142488369]\n",
      "100%|█████████| 18/18 [00:01<00:00,  1.87s/trial, best loss: 0.1583757142488369]\n",
      "100%|█████████| 19/19 [00:03<00:00,  4.00s/trial, best loss: 0.1583757142488369]\n",
      "100%|█████████| 20/20 [00:04<00:00,  4.81s/trial, best loss: 0.1583757142488369]\n",
      "100%|█████████| 21/21 [00:01<00:00,  1.82s/trial, best loss: 0.1583757142488369]\n",
      "100%|█████████| 22/22 [00:01<00:00,  1.86s/trial, best loss: 0.1583757142488369]\n",
      "100%|████████| 23/23 [00:01<00:00,  1.83s/trial, best loss: 0.13299993374518038]\n",
      "100%|████████| 24/24 [00:01<00:00,  1.85s/trial, best loss: 0.13299993374518038]\n",
      "100%|████████| 25/25 [00:01<00:00,  1.82s/trial, best loss: 0.13299993374518038]\n",
      "100%|████████| 26/26 [00:02<00:00,  2.63s/trial, best loss: 0.13299993374518038]\n",
      "100%|████████| 27/27 [00:01<00:00,  1.88s/trial, best loss: 0.13299993374518038]\n",
      "100%|████████| 28/28 [00:01<00:00,  1.74s/trial, best loss: 0.13299993374518038]\n",
      "100%|████████| 29/29 [00:01<00:00,  1.83s/trial, best loss: 0.13299993374518038]\n",
      "100%|████████| 30/30 [00:01<00:00,  1.80s/trial, best loss: 0.13299993374518038]\n",
      "100%|████████| 31/31 [00:01<00:00,  1.30s/trial, best loss: 0.13299993374518038]\n",
      "100%|████████| 32/32 [00:01<00:00,  1.46s/trial, best loss: 0.13299993374518038]\n",
      "100%|████████| 33/33 [00:01<00:00,  1.41s/trial, best loss: 0.13299993374518038]\n",
      "100%|████████| 34/34 [00:05<00:00,  5.63s/trial, best loss: 0.13299993374518038]\n",
      " 97%|██████████████████████████████████ | 34/35 [00:00<?, ?trial/s, best loss=?]"
     ]
    },
    {
     "name": "stderr",
     "output_type": "stream",
     "text": [
      "/Users/ziqili/anaconda3/lib/python3.11/site-packages/sklearn/neural_network/_multilayer_perceptron.py:691: ConvergenceWarning: Stochastic Optimizer: Maximum iterations (244) reached and the optimization hasn't converged yet.\n",
      "  warnings.warn(\n"
     ]
    },
    {
     "name": "stdout",
     "output_type": "stream",
     "text": [
      "100%|████████| 35/35 [00:07<00:00,  7.71s/trial, best loss: 0.13299993374518038]\n",
      " 97%|██████████████████████████████████ | 35/36 [00:00<?, ?trial/s, best loss=?]"
     ]
    },
    {
     "name": "stderr",
     "output_type": "stream",
     "text": [
      "/Users/ziqili/anaconda3/lib/python3.11/site-packages/sklearn/neural_network/_multilayer_perceptron.py:546: ConvergenceWarning: lbfgs failed to converge (status=1):\n",
      "STOP: TOTAL NO. of ITERATIONS REACHED LIMIT.\n",
      "\n",
      "Increase the number of iterations (max_iter) or scale the data as shown in:\n",
      "    https://scikit-learn.org/stable/modules/preprocessing.html\n",
      "  self.n_iter_ = _check_optimize_result(\"lbfgs\", opt_res, self.max_iter)\n"
     ]
    },
    {
     "name": "stdout",
     "output_type": "stream",
     "text": [
      "100%|████████| 36/36 [00:01<00:00,  1.59s/trial, best loss: 0.13299993374518038]\n",
      "100%|████████| 37/37 [00:01<00:00,  1.81s/trial, best loss: 0.13299993374518038]\n",
      "100%|████████| 38/38 [00:01<00:00,  1.49s/trial, best loss: 0.13299993374518038]\n",
      "100%|████████| 39/39 [00:01<00:00,  1.63s/trial, best loss: 0.13299993374518038]\n",
      "100%|████████| 40/40 [00:01<00:00,  1.90s/trial, best loss: 0.13299993374518038]\n",
      "100%|████████| 41/41 [00:01<00:00,  1.49s/trial, best loss: 0.13299993374518038]\n",
      "100%|████████| 42/42 [00:03<00:00,  3.84s/trial, best loss: 0.13299993374518038]\n",
      " 98%|██████████████████████████████████▏| 42/43 [00:00<?, ?trial/s, best loss=?]"
     ]
    },
    {
     "name": "stderr",
     "output_type": "stream",
     "text": [
      "/Users/ziqili/anaconda3/lib/python3.11/site-packages/sklearn/neural_network/_multilayer_perceptron.py:546: ConvergenceWarning: lbfgs failed to converge (status=1):\n",
      "STOP: TOTAL NO. of ITERATIONS REACHED LIMIT.\n",
      "\n",
      "Increase the number of iterations (max_iter) or scale the data as shown in:\n",
      "    https://scikit-learn.org/stable/modules/preprocessing.html\n",
      "  self.n_iter_ = _check_optimize_result(\"lbfgs\", opt_res, self.max_iter)\n"
     ]
    },
    {
     "name": "stdout",
     "output_type": "stream",
     "text": [
      "100%|████████| 43/43 [00:01<00:00,  1.39s/trial, best loss: 0.13299993374518038]\n",
      "100%|████████| 44/44 [00:01<00:00,  1.43s/trial, best loss: 0.13299993374518038]\n",
      "100%|████████| 45/45 [00:01<00:00,  1.39s/trial, best loss: 0.13299993374518038]\n",
      "100%|████████| 46/46 [00:01<00:00,  1.30s/trial, best loss: 0.13299993374518038]\n",
      "100%|████████| 47/47 [00:01<00:00,  1.43s/trial, best loss: 0.13299993374518038]\n",
      "100%|████████| 48/48 [00:01<00:00,  1.47s/trial, best loss: 0.13299993374518038]\n",
      "100%|████████| 49/49 [00:01<00:00,  1.67s/trial, best loss: 0.13299993374518038]\n",
      "100%|████████| 50/50 [00:01<00:00,  1.45s/trial, best loss: 0.13299993374518038]\n",
      "100%|████████| 51/51 [00:04<00:00,  4.08s/trial, best loss: 0.13299993374518038]\n",
      " 98%|██████████████████████████████████▎| 51/52 [00:00<?, ?trial/s, best loss=?]"
     ]
    },
    {
     "name": "stderr",
     "output_type": "stream",
     "text": [
      "/Users/ziqili/anaconda3/lib/python3.11/site-packages/sklearn/neural_network/_multilayer_perceptron.py:691: ConvergenceWarning: Stochastic Optimizer: Maximum iterations (160) reached and the optimization hasn't converged yet.\n",
      "  warnings.warn(\n"
     ]
    },
    {
     "name": "stdout",
     "output_type": "stream",
     "text": [
      "100%|████████| 52/52 [00:01<00:00,  1.72s/trial, best loss: 0.13299993374518038]\n",
      "100%|████████| 53/53 [00:01<00:00,  1.47s/trial, best loss: 0.13299993374518038]\n",
      "100%|████████| 54/54 [00:01<00:00,  1.65s/trial, best loss: 0.13299993374518038]\n",
      "100%|████████| 55/55 [00:01<00:00,  1.44s/trial, best loss: 0.13299993374518038]\n",
      "100%|████████| 56/56 [00:01<00:00,  1.58s/trial, best loss: 0.13299993374518038]\n",
      "100%|████████| 57/57 [00:03<00:00,  3.90s/trial, best loss: 0.13299993374518038]\n",
      "100%|████████| 58/58 [00:02<00:00,  2.24s/trial, best loss: 0.13299993374518038]\n",
      "100%|████████| 59/59 [00:01<00:00,  1.39s/trial, best loss: 0.13299993374518038]\n",
      "100%|████████| 60/60 [00:01<00:00,  1.41s/trial, best loss: 0.13299993374518038]\n",
      "100%|████████| 61/61 [00:01<00:00,  1.77s/trial, best loss: 0.13299993374518038]\n",
      "100%|████████| 62/62 [00:01<00:00,  1.77s/trial, best loss: 0.13299993374518038]\n",
      "100%|████████| 63/63 [00:01<00:00,  1.52s/trial, best loss: 0.13299993374518038]\n",
      "100%|████████| 64/64 [00:02<00:00,  2.04s/trial, best loss: 0.13299993374518038]\n",
      "100%|████████| 65/65 [00:01<00:00,  1.64s/trial, best loss: 0.13299993374518038]\n",
      "100%|████████| 66/66 [00:01<00:00,  1.76s/trial, best loss: 0.13299993374518038]\n",
      "100%|████████| 67/67 [00:01<00:00,  1.77s/trial, best loss: 0.13299993374518038]\n",
      "100%|████████| 68/68 [00:01<00:00,  1.85s/trial, best loss: 0.13299993374518038]\n",
      "100%|████████| 69/69 [00:01<00:00,  1.73s/trial, best loss: 0.13299993374518038]\n",
      "100%|████████| 70/70 [00:01<00:00,  1.89s/trial, best loss: 0.13299993374518038]\n",
      "100%|████████| 71/71 [00:01<00:00,  1.79s/trial, best loss: 0.13299993374518038]\n",
      "100%|████████| 72/72 [00:01<00:00,  1.81s/trial, best loss: 0.13299993374518038]\n",
      "100%|████████| 73/73 [00:01<00:00,  1.86s/trial, best loss: 0.13299993374518038]\n",
      "100%|████████| 74/74 [00:01<00:00,  1.85s/trial, best loss: 0.13299993374518038]\n",
      "100%|████████| 75/75 [00:01<00:00,  1.98s/trial, best loss: 0.13299993374518038]\n",
      "100%|████████| 76/76 [00:01<00:00,  1.40s/trial, best loss: 0.13299993374518038]\n",
      "100%|████████| 77/77 [00:01<00:00,  1.51s/trial, best loss: 0.13299993374518038]\n",
      "100%|████████| 78/78 [00:01<00:00,  1.61s/trial, best loss: 0.13299993374518038]\n",
      "100%|████████| 79/79 [00:01<00:00,  1.61s/trial, best loss: 0.13299993374518038]\n",
      "100%|████████| 80/80 [00:01<00:00,  1.85s/trial, best loss: 0.13299993374518038]\n",
      "100%|████████| 81/81 [00:01<00:00,  1.98s/trial, best loss: 0.13299993374518038]\n",
      "100%|████████| 82/82 [00:01<00:00,  1.57s/trial, best loss: 0.13299993374518038]\n",
      "100%|████████| 83/83 [00:01<00:00,  1.73s/trial, best loss: 0.13299993374518038]\n",
      "100%|████████| 84/84 [00:01<00:00,  1.56s/trial, best loss: 0.13299993374518038]\n",
      "100%|████████| 85/85 [00:01<00:00,  1.43s/trial, best loss: 0.13299993374518038]\n",
      "100%|████████| 86/86 [00:01<00:00,  1.72s/trial, best loss: 0.13299993374518038]\n",
      "100%|████████| 87/87 [00:01<00:00,  1.56s/trial, best loss: 0.13299993374518038]\n",
      "100%|████████| 88/88 [00:01<00:00,  1.88s/trial, best loss: 0.13299993374518038]\n",
      "100%|████████| 89/89 [00:01<00:00,  1.60s/trial, best loss: 0.13299993374518038]\n",
      "100%|████████| 90/90 [00:01<00:00,  1.78s/trial, best loss: 0.13299993374518038]\n",
      "100%|████████| 91/91 [00:01<00:00,  1.55s/trial, best loss: 0.13299993374518038]\n",
      "100%|████████| 92/92 [00:01<00:00,  1.88s/trial, best loss: 0.13299993374518038]\n",
      " 99%|██████████████████████████████████▌| 92/93 [00:00<?, ?trial/s, best loss=?]"
     ]
    },
    {
     "name": "stderr",
     "output_type": "stream",
     "text": [
      "/Users/ziqili/anaconda3/lib/python3.11/site-packages/numpy/core/_methods.py:181: RuntimeWarning: overflow encountered in reduce\n",
      "  ret = umr_sum(arr, axis, dtype, out, keepdims, where=where)\n",
      "/Users/ziqili/anaconda3/lib/python3.11/site-packages/sklearn/neural_network/_base.py:173: RuntimeWarning: overflow encountered in square\n",
      "  return ((y_true - y_pred) ** 2).mean() / 2\n",
      "/Users/ziqili/anaconda3/lib/python3.11/site-packages/sklearn/utils/extmath.py:192: RuntimeWarning: overflow encountered in matmul\n",
      "  ret = a @ b\n",
      "/Users/ziqili/anaconda3/lib/python3.11/site-packages/sklearn/neural_network/_base.py:128: RuntimeWarning: invalid value encountered in multiply\n",
      "  delta *= 1 - Z**2\n",
      "/Users/ziqili/anaconda3/lib/python3.11/site-packages/sklearn/neural_network/_multilayer_perceptron.py:691: ConvergenceWarning: Stochastic Optimizer: Maximum iterations (257) reached and the optimization hasn't converged yet.\n",
      "  warnings.warn(\n",
      "job exception: Solver produced non-finite parameter weights. The input data may contain large values and need to be preprocessed.\n",
      "\n"
     ]
    },
    {
     "name": "stdout",
     "output_type": "stream",
     "text": [
      " 99%|██████████████████████████████████▌| 92/93 [00:05<?, ?trial/s, best loss=?]\n",
      "100%|███████████| 1/1 [00:01<00:00,  1.58s/trial, best loss: 1.0097143842507723]\n",
      "100%|███████████| 2/2 [00:06<00:00,  6.58s/trial, best loss: 1.0097143842507723]\n",
      " 67%|████████████████████████▋            | 2/3 [00:00<?, ?trial/s, best loss=?]"
     ]
    },
    {
     "name": "stderr",
     "output_type": "stream",
     "text": [
      "/Users/ziqili/anaconda3/lib/python3.11/site-packages/sklearn/neural_network/_multilayer_perceptron.py:546: ConvergenceWarning: lbfgs failed to converge (status=1):\n",
      "STOP: TOTAL NO. of ITERATIONS REACHED LIMIT.\n",
      "\n",
      "Increase the number of iterations (max_iter) or scale the data as shown in:\n",
      "    https://scikit-learn.org/stable/modules/preprocessing.html\n",
      "  self.n_iter_ = _check_optimize_result(\"lbfgs\", opt_res, self.max_iter)\n"
     ]
    },
    {
     "name": "stdout",
     "output_type": "stream",
     "text": [
      "100%|███████████| 3/3 [00:01<00:00,  1.33s/trial, best loss: 0.2942239582857632]\n",
      "100%|███████████| 4/4 [00:01<00:00,  1.61s/trial, best loss: 0.2942239582857632]\n",
      "100%|███████████| 5/5 [00:01<00:00,  1.37s/trial, best loss: 0.2942239582857632]\n",
      "100%|███████████| 6/6 [00:02<00:00,  2.04s/trial, best loss: 0.2942239582857632]\n",
      "100%|██████████| 7/7 [00:02<00:00,  2.12s/trial, best loss: 0.26423647294653374]\n",
      "100%|██████████| 8/8 [00:01<00:00,  1.62s/trial, best loss: 0.26423647294653374]\n",
      "100%|██████████| 9/9 [00:01<00:00,  1.72s/trial, best loss: 0.26423647294653374]\n",
      "100%|████████| 10/10 [00:04<00:00,  4.86s/trial, best loss: 0.26423647294653374]\n",
      " 91%|███████████████████████████████▊   | 10/11 [00:00<?, ?trial/s, best loss=?]"
     ]
    },
    {
     "name": "stderr",
     "output_type": "stream",
     "text": [
      "/Users/ziqili/anaconda3/lib/python3.11/site-packages/sklearn/neural_network/_multilayer_perceptron.py:691: ConvergenceWarning: Stochastic Optimizer: Maximum iterations (215) reached and the optimization hasn't converged yet.\n",
      "  warnings.warn(\n",
      "/Users/ziqili/anaconda3/lib/python3.11/site-packages/numpy/core/_methods.py:181: RuntimeWarning: overflow encountered in reduce\n",
      "  ret = umr_sum(arr, axis, dtype, out, keepdims, where=where)\n",
      "/Users/ziqili/anaconda3/lib/python3.11/site-packages/sklearn/neural_network/_base.py:173: RuntimeWarning: overflow encountered in square\n",
      "  return ((y_true - y_pred) ** 2).mean() / 2\n",
      "/Users/ziqili/anaconda3/lib/python3.11/site-packages/sklearn/utils/extmath.py:192: RuntimeWarning: overflow encountered in matmul\n",
      "  ret = a @ b\n",
      "/Users/ziqili/anaconda3/lib/python3.11/site-packages/sklearn/neural_network/_base.py:128: RuntimeWarning: invalid value encountered in multiply\n",
      "  delta *= 1 - Z**2\n",
      "/Users/ziqili/anaconda3/lib/python3.11/site-packages/sklearn/neural_network/_multilayer_perceptron.py:691: ConvergenceWarning: Stochastic Optimizer: Maximum iterations (238) reached and the optimization hasn't converged yet.\n",
      "  warnings.warn(\n",
      "job exception: Solver produced non-finite parameter weights. The input data may contain large values and need to be preprocessed.\n",
      "\n"
     ]
    },
    {
     "name": "stdout",
     "output_type": "stream",
     "text": [
      " 91%|███████████████████████████████▊   | 10/11 [00:05<?, ?trial/s, best loss=?]\n",
      "100%|███████████| 1/1 [00:01<00:00,  1.38s/trial, best loss: 1.1608196059587745]\n",
      " 50%|██████████████████▌                  | 1/2 [00:00<?, ?trial/s, best loss=?]"
     ]
    },
    {
     "name": "stderr",
     "output_type": "stream",
     "text": [
      "/Users/ziqili/anaconda3/lib/python3.11/site-packages/numpy/core/_methods.py:181: RuntimeWarning: overflow encountered in reduce\n",
      "  ret = umr_sum(arr, axis, dtype, out, keepdims, where=where)\n",
      "/Users/ziqili/anaconda3/lib/python3.11/site-packages/sklearn/neural_network/_base.py:173: RuntimeWarning: overflow encountered in square\n",
      "  return ((y_true - y_pred) ** 2).mean() / 2\n",
      "/Users/ziqili/anaconda3/lib/python3.11/site-packages/sklearn/utils/extmath.py:192: RuntimeWarning: overflow encountered in matmul\n",
      "  ret = a @ b\n",
      "/Users/ziqili/anaconda3/lib/python3.11/site-packages/sklearn/neural_network/_base.py:128: RuntimeWarning: invalid value encountered in multiply\n",
      "  delta *= 1 - Z**2\n",
      "/Users/ziqili/anaconda3/lib/python3.11/site-packages/sklearn/neural_network/_multilayer_perceptron.py:691: ConvergenceWarning: Stochastic Optimizer: Maximum iterations (288) reached and the optimization hasn't converged yet.\n",
      "  warnings.warn(\n",
      "job exception: Solver produced non-finite parameter weights. The input data may contain large values and need to be preprocessed.\n",
      "\n"
     ]
    },
    {
     "name": "stdout",
     "output_type": "stream",
     "text": [
      " 50%|██████████████████▌                  | 1/2 [00:06<?, ?trial/s, best loss=?]\n",
      "100%|███████████| 1/1 [00:02<00:00,  2.59s/trial, best loss: 1463.9658076499447]\n",
      "100%|███████████| 2/2 [00:01<00:00,  1.54s/trial, best loss: 103.37431954410786]\n",
      " 67%|████████████████████████▋            | 2/3 [00:00<?, ?trial/s, best loss=?]"
     ]
    },
    {
     "name": "stderr",
     "output_type": "stream",
     "text": [
      "/Users/ziqili/anaconda3/lib/python3.11/site-packages/sklearn/neural_network/_base.py:173: RuntimeWarning: overflow encountered in square\n",
      "  return ((y_true - y_pred) ** 2).mean() / 2\n",
      "/Users/ziqili/anaconda3/lib/python3.11/site-packages/sklearn/utils/extmath.py:192: RuntimeWarning: overflow encountered in matmul\n",
      "  ret = a @ b\n",
      "/Users/ziqili/anaconda3/lib/python3.11/site-packages/sklearn/utils/extmath.py:192: RuntimeWarning: invalid value encountered in matmul\n",
      "  ret = a @ b\n",
      "/Users/ziqili/anaconda3/lib/python3.11/site-packages/sklearn/neural_network/_multilayer_perceptron.py:691: ConvergenceWarning: Stochastic Optimizer: Maximum iterations (256) reached and the optimization hasn't converged yet.\n",
      "  warnings.warn(\n",
      "job exception: Solver produced non-finite parameter weights. The input data may contain large values and need to be preprocessed.\n",
      "\n"
     ]
    },
    {
     "name": "stdout",
     "output_type": "stream",
     "text": [
      " 67%|████████████████████████▋            | 2/3 [00:04<?, ?trial/s, best loss=?]\n",
      "100%|███████████| 1/1 [00:01<00:00,  1.53s/trial, best loss: 1.0291047628404404]\n",
      "100%|████████████| 2/2 [00:01<00:00,  1.64s/trial, best loss: 0.715777164627866]\n",
      " 67%|████████████████████████▋            | 2/3 [00:00<?, ?trial/s, best loss=?]"
     ]
    },
    {
     "name": "stderr",
     "output_type": "stream",
     "text": [
      "/Users/ziqili/anaconda3/lib/python3.11/site-packages/numpy/core/_methods.py:181: RuntimeWarning: overflow encountered in reduce\n",
      "  ret = umr_sum(arr, axis, dtype, out, keepdims, where=where)\n",
      "/Users/ziqili/anaconda3/lib/python3.11/site-packages/sklearn/neural_network/_base.py:173: RuntimeWarning: overflow encountered in square\n",
      "  return ((y_true - y_pred) ** 2).mean() / 2\n",
      "/Users/ziqili/anaconda3/lib/python3.11/site-packages/sklearn/utils/extmath.py:192: RuntimeWarning: overflow encountered in matmul\n",
      "  ret = a @ b\n",
      "/Users/ziqili/anaconda3/lib/python3.11/site-packages/sklearn/neural_network/_base.py:128: RuntimeWarning: invalid value encountered in multiply\n",
      "  delta *= 1 - Z**2\n",
      "/Users/ziqili/anaconda3/lib/python3.11/site-packages/sklearn/neural_network/_multilayer_perceptron.py:691: ConvergenceWarning: Stochastic Optimizer: Maximum iterations (190) reached and the optimization hasn't converged yet.\n",
      "  warnings.warn(\n",
      "job exception: Solver produced non-finite parameter weights. The input data may contain large values and need to be preprocessed.\n",
      "\n"
     ]
    },
    {
     "name": "stdout",
     "output_type": "stream",
     "text": [
      " 67%|████████████████████████▋            | 2/3 [00:04<?, ?trial/s, best loss=?]\n",
      "100%|██████████| 1/1 [00:01<00:00,  1.72s/trial, best loss: 0.21549105742039043]\n",
      "100%|██████████| 2/2 [00:01<00:00,  1.67s/trial, best loss: 0.21549105742039043]\n",
      "100%|██████████| 3/3 [00:02<00:00,  2.05s/trial, best loss: 0.21549105742039043]\n",
      "100%|██████████| 4/4 [00:02<00:00,  2.07s/trial, best loss: 0.21549105742039043]\n",
      "100%|██████████| 5/5 [00:01<00:00,  1.26s/trial, best loss: 0.21549105742039043]\n",
      "100%|██████████| 6/6 [00:01<00:00,  1.20s/trial, best loss: 0.21549105742039043]\n",
      "100%|███████████| 7/7 [00:01<00:00,  1.51s/trial, best loss: 0.1716525138456262]\n",
      "100%|███████████| 8/8 [00:01<00:00,  1.74s/trial, best loss: 0.1716525138456262]\n",
      "100%|███████████| 9/9 [00:01<00:00,  1.47s/trial, best loss: 0.1716525138456262]\n",
      "100%|█████████| 10/10 [00:01<00:00,  1.66s/trial, best loss: 0.1716525138456262]\n",
      "100%|█████████| 11/11 [00:01<00:00,  1.75s/trial, best loss: 0.1716525138456262]\n",
      "100%|█████████| 12/12 [00:03<00:00,  3.28s/trial, best loss: 0.1716525138456262]\n",
      "100%|█████████| 13/13 [00:01<00:00,  1.54s/trial, best loss: 0.1716525138456262]\n",
      "100%|█████████| 14/14 [00:01<00:00,  1.57s/trial, best loss: 0.1716525138456262]\n",
      "100%|█████████| 15/15 [00:01<00:00,  1.48s/trial, best loss: 0.1716525138456262]\n",
      "100%|█████████| 16/16 [00:07<00:00,  7.04s/trial, best loss: 0.1716525138456262]\n",
      "100%|█████████| 17/17 [00:01<00:00,  1.34s/trial, best loss: 0.1716525138456262]\n",
      "100%|█████████| 18/18 [00:01<00:00,  1.50s/trial, best loss: 0.1716525138456262]\n",
      "100%|█████████| 19/19 [00:01<00:00,  1.50s/trial, best loss: 0.1716525138456262]\n",
      "100%|█████████| 20/20 [00:01<00:00,  1.56s/trial, best loss: 0.1716525138456262]\n",
      "100%|█████████| 21/21 [00:02<00:00,  2.29s/trial, best loss: 0.1716525138456262]\n",
      "100%|█████████| 22/22 [00:01<00:00,  1.79s/trial, best loss: 0.1716525138456262]\n",
      "100%|█████████| 23/23 [00:01<00:00,  1.56s/trial, best loss: 0.1463234774717198]\n",
      "100%|█████████| 24/24 [00:01<00:00,  1.63s/trial, best loss: 0.1463234774717198]\n",
      "100%|█████████| 25/25 [00:01<00:00,  1.70s/trial, best loss: 0.1463234774717198]\n",
      "100%|█████████| 26/26 [00:01<00:00,  1.41s/trial, best loss: 0.1463234774717198]\n",
      "100%|█████████| 27/27 [00:01<00:00,  1.78s/trial, best loss: 0.1463234774717198]\n",
      "100%|█████████| 28/28 [00:01<00:00,  1.57s/trial, best loss: 0.1463234774717198]\n",
      "100%|█████████| 29/29 [00:01<00:00,  1.54s/trial, best loss: 0.1463234774717198]\n",
      "100%|█████████| 30/30 [00:01<00:00,  1.59s/trial, best loss: 0.1463234774717198]\n",
      "100%|█████████| 31/31 [00:01<00:00,  1.65s/trial, best loss: 0.1463234774717198]\n",
      "100%|█████████| 32/32 [00:01<00:00,  1.64s/trial, best loss: 0.1463234774717198]\n",
      "100%|█████████| 33/33 [00:02<00:00,  2.29s/trial, best loss: 0.1463234774717198]\n",
      "100%|█████████| 34/34 [00:01<00:00,  1.41s/trial, best loss: 0.1463234774717198]\n",
      "100%|█████████| 35/35 [00:02<00:00,  2.11s/trial, best loss: 0.1463234774717198]\n",
      "100%|█████████| 36/36 [00:01<00:00,  1.54s/trial, best loss: 0.1463234774717198]\n",
      "100%|█████████| 37/37 [00:01<00:00,  1.49s/trial, best loss: 0.1463234774717198]\n",
      "100%|█████████| 38/38 [00:01<00:00,  1.46s/trial, best loss: 0.1463234774717198]\n",
      "100%|█████████| 39/39 [00:01<00:00,  1.96s/trial, best loss: 0.1463234774717198]\n",
      "100%|█████████| 40/40 [00:01<00:00,  1.63s/trial, best loss: 0.1463234774717198]\n",
      "100%|█████████| 41/41 [00:02<00:00,  2.09s/trial, best loss: 0.1463234774717198]\n",
      "100%|█████████| 42/42 [00:01<00:00,  1.47s/trial, best loss: 0.1463234774717198]\n",
      "100%|█████████| 43/43 [00:01<00:00,  1.63s/trial, best loss: 0.1463234774717198]\n",
      "100%|█████████| 44/44 [00:01<00:00,  1.69s/trial, best loss: 0.1463234774717198]\n",
      "100%|█████████| 45/45 [00:01<00:00,  1.51s/trial, best loss: 0.1463234774717198]\n",
      "100%|█████████| 46/46 [00:01<00:00,  1.58s/trial, best loss: 0.1463234774717198]\n",
      "100%|█████████| 47/47 [00:01<00:00,  1.68s/trial, best loss: 0.1463234774717198]\n",
      "100%|█████████| 48/48 [00:02<00:00,  2.23s/trial, best loss: 0.1463234774717198]\n",
      " 98%|██████████████████████████████████▎| 48/49 [00:00<?, ?trial/s, best loss=?]"
     ]
    },
    {
     "name": "stderr",
     "output_type": "stream",
     "text": [
      "/Users/ziqili/anaconda3/lib/python3.11/site-packages/numpy/core/_methods.py:181: RuntimeWarning: overflow encountered in reduce\n",
      "  ret = umr_sum(arr, axis, dtype, out, keepdims, where=where)\n",
      "/Users/ziqili/anaconda3/lib/python3.11/site-packages/sklearn/neural_network/_base.py:173: RuntimeWarning: overflow encountered in square\n",
      "  return ((y_true - y_pred) ** 2).mean() / 2\n",
      "/Users/ziqili/anaconda3/lib/python3.11/site-packages/sklearn/utils/extmath.py:192: RuntimeWarning: overflow encountered in matmul\n",
      "  ret = a @ b\n",
      "/Users/ziqili/anaconda3/lib/python3.11/site-packages/sklearn/neural_network/_base.py:110: RuntimeWarning: invalid value encountered in multiply\n",
      "  delta *= 1 - Z\n",
      "/Users/ziqili/anaconda3/lib/python3.11/site-packages/sklearn/neural_network/_multilayer_perceptron.py:691: ConvergenceWarning: Stochastic Optimizer: Maximum iterations (311) reached and the optimization hasn't converged yet.\n",
      "  warnings.warn(\n",
      "job exception: Solver produced non-finite parameter weights. The input data may contain large values and need to be preprocessed.\n",
      "\n"
     ]
    },
    {
     "name": "stdout",
     "output_type": "stream",
     "text": [
      " 98%|██████████████████████████████████▎| 48/49 [00:06<?, ?trial/s, best loss=?]\n",
      "100%|████████████| 1/1 [00:01<00:00,  1.58s/trial, best loss: 0.396981790646887]\n",
      "100%|██████████| 2/2 [00:01<00:00,  1.36s/trial, best loss: 0.27806979021673595]\n",
      "100%|██████████| 3/3 [00:01<00:00,  1.67s/trial, best loss: 0.27806979021673595]\n",
      "100%|██████████| 4/4 [00:01<00:00,  1.48s/trial, best loss: 0.27806979021673595]\n",
      "100%|███████████| 5/5 [00:01<00:00,  1.87s/trial, best loss: 0.1801614692984267]\n",
      "100%|███████████| 6/6 [00:02<00:00,  2.12s/trial, best loss: 0.1801614692984267]\n",
      " 86%|███████████████████████████████▋     | 6/7 [00:00<?, ?trial/s, best loss=?]"
     ]
    },
    {
     "name": "stderr",
     "output_type": "stream",
     "text": [
      "/Users/ziqili/anaconda3/lib/python3.11/site-packages/numpy/core/_methods.py:181: RuntimeWarning: overflow encountered in reduce\n",
      "  ret = umr_sum(arr, axis, dtype, out, keepdims, where=where)\n",
      "/Users/ziqili/anaconda3/lib/python3.11/site-packages/sklearn/neural_network/_base.py:173: RuntimeWarning: overflow encountered in square\n",
      "  return ((y_true - y_pred) ** 2).mean() / 2\n",
      "/Users/ziqili/anaconda3/lib/python3.11/site-packages/sklearn/utils/extmath.py:192: RuntimeWarning: overflow encountered in matmul\n",
      "  ret = a @ b\n",
      "/Users/ziqili/anaconda3/lib/python3.11/site-packages/sklearn/neural_network/_base.py:128: RuntimeWarning: invalid value encountered in multiply\n",
      "  delta *= 1 - Z**2\n",
      "/Users/ziqili/anaconda3/lib/python3.11/site-packages/sklearn/neural_network/_multilayer_perceptron.py:691: ConvergenceWarning: Stochastic Optimizer: Maximum iterations (277) reached and the optimization hasn't converged yet.\n",
      "  warnings.warn(\n",
      "job exception: Solver produced non-finite parameter weights. The input data may contain large values and need to be preprocessed.\n",
      "\n"
     ]
    },
    {
     "name": "stdout",
     "output_type": "stream",
     "text": [
      " 86%|███████████████████████████████▋     | 6/7 [00:08<?, ?trial/s, best loss=?]\n",
      "100%|███████| 1/1 [00:01<00:00,  1.47s/trial, best loss: 1.0259203596561375e+89]\n",
      " 50%|██████████████████▌                  | 1/2 [00:00<?, ?trial/s, best loss=?]"
     ]
    },
    {
     "name": "stderr",
     "output_type": "stream",
     "text": [
      "/Users/ziqili/anaconda3/lib/python3.11/site-packages/sklearn/neural_network/_base.py:173: RuntimeWarning: overflow encountered in square\n",
      "  return ((y_true - y_pred) ** 2).mean() / 2\n",
      "/Users/ziqili/anaconda3/lib/python3.11/site-packages/sklearn/utils/extmath.py:192: RuntimeWarning: overflow encountered in matmul\n",
      "  ret = a @ b\n",
      "/Users/ziqili/anaconda3/lib/python3.11/site-packages/sklearn/utils/extmath.py:192: RuntimeWarning: invalid value encountered in matmul\n",
      "  ret = a @ b\n",
      "/Users/ziqili/anaconda3/lib/python3.11/site-packages/sklearn/neural_network/_multilayer_perceptron.py:691: ConvergenceWarning: Stochastic Optimizer: Maximum iterations (171) reached and the optimization hasn't converged yet.\n",
      "  warnings.warn(\n",
      "job exception: Solver produced non-finite parameter weights. The input data may contain large values and need to be preprocessed.\n",
      "\n"
     ]
    },
    {
     "name": "stdout",
     "output_type": "stream",
     "text": [
      " 50%|██████████████████▌                  | 1/2 [00:03<?, ?trial/s, best loss=?]\n",
      "100%|███████████| 1/1 [00:01<00:00,  1.29s/trial, best loss: 0.9274254871413048]\n",
      "100%|███████████| 2/2 [00:01<00:00,  1.91s/trial, best loss: 0.8466976368839482]\n",
      "100%|███████████| 3/3 [00:01<00:00,  1.31s/trial, best loss: 0.8466976368839482]\n",
      "100%|███████████| 4/4 [00:01<00:00,  1.20s/trial, best loss: 0.2806609607227031]\n",
      "100%|███████████| 5/5 [00:01<00:00,  1.80s/trial, best loss: 0.2806609607227031]\n",
      "100%|███████████| 6/6 [00:01<00:00,  1.21s/trial, best loss: 0.2806609607227031]\n",
      "100%|███████████| 7/7 [00:02<00:00,  2.98s/trial, best loss: 0.2806609607227031]\n",
      "100%|███████████| 8/8 [00:01<00:00,  1.14s/trial, best loss: 0.2528894457723445]\n",
      "100%|███████████| 9/9 [00:01<00:00,  1.07s/trial, best loss: 0.2528894457723445]\n",
      "100%|█████████| 10/10 [00:03<00:00,  3.22s/trial, best loss: 0.2528894457723445]\n",
      " 91%|███████████████████████████████▊   | 10/11 [00:00<?, ?trial/s, best loss=?]"
     ]
    },
    {
     "name": "stderr",
     "output_type": "stream",
     "text": [
      "/Users/ziqili/anaconda3/lib/python3.11/site-packages/sklearn/neural_network/_multilayer_perceptron.py:546: ConvergenceWarning: lbfgs failed to converge (status=1):\n",
      "STOP: TOTAL NO. of ITERATIONS REACHED LIMIT.\n",
      "\n",
      "Increase the number of iterations (max_iter) or scale the data as shown in:\n",
      "    https://scikit-learn.org/stable/modules/preprocessing.html\n",
      "  self.n_iter_ = _check_optimize_result(\"lbfgs\", opt_res, self.max_iter)\n"
     ]
    },
    {
     "name": "stdout",
     "output_type": "stream",
     "text": [
      "100%|████████| 11/11 [00:01<00:00,  1.80s/trial, best loss: 0.16532254356236686]\n",
      "100%|████████| 12/12 [00:01<00:00,  1.28s/trial, best loss: 0.16532254356236686]\n",
      "100%|████████| 13/13 [00:01<00:00,  1.23s/trial, best loss: 0.16532254356236686]\n",
      "100%|████████| 14/14 [00:04<00:00,  4.66s/trial, best loss: 0.16532254356236686]\n",
      "100%|████████| 15/15 [00:07<00:00,  7.78s/trial, best loss: 0.16532254356236686]\n",
      "100%|████████| 16/16 [00:01<00:00,  1.30s/trial, best loss: 0.16532254356236686]\n",
      "100%|████████| 17/17 [00:06<00:00,  6.21s/trial, best loss: 0.16532254356236686]\n",
      " 94%|█████████████████████████████████  | 17/18 [00:00<?, ?trial/s, best loss=?]"
     ]
    },
    {
     "name": "stderr",
     "output_type": "stream",
     "text": [
      "/Users/ziqili/anaconda3/lib/python3.11/site-packages/sklearn/neural_network/_multilayer_perceptron.py:546: ConvergenceWarning: lbfgs failed to converge (status=1):\n",
      "STOP: TOTAL NO. of ITERATIONS REACHED LIMIT.\n",
      "\n",
      "Increase the number of iterations (max_iter) or scale the data as shown in:\n",
      "    https://scikit-learn.org/stable/modules/preprocessing.html\n",
      "  self.n_iter_ = _check_optimize_result(\"lbfgs\", opt_res, self.max_iter)\n"
     ]
    },
    {
     "name": "stdout",
     "output_type": "stream",
     "text": [
      "100%|████████| 18/18 [00:01<00:00,  1.25s/trial, best loss: 0.16532254356236686]\n",
      "100%|████████| 19/19 [00:02<00:00,  2.79s/trial, best loss: 0.16532254356236686]\n",
      "100%|████████| 20/20 [00:02<00:00,  2.32s/trial, best loss: 0.16532254356236686]\n",
      "100%|████████| 21/21 [00:04<00:00,  4.24s/trial, best loss: 0.16532254356236686]\n",
      "100%|████████| 22/22 [00:01<00:00,  1.77s/trial, best loss: 0.16532254356236686]\n",
      "100%|████████| 23/23 [00:01<00:00,  1.69s/trial, best loss: 0.16532254356236686]\n",
      "100%|████████| 24/24 [00:01<00:00,  1.63s/trial, best loss: 0.16532254356236686]\n",
      " 96%|█████████████████████████████████▌ | 24/25 [00:00<?, ?trial/s, best loss=?]"
     ]
    },
    {
     "name": "stderr",
     "output_type": "stream",
     "text": [
      "/Users/ziqili/anaconda3/lib/python3.11/site-packages/sklearn/neural_network/_base.py:173: RuntimeWarning: overflow encountered in square\n",
      "  return ((y_true - y_pred) ** 2).mean() / 2\n",
      "/Users/ziqili/anaconda3/lib/python3.11/site-packages/sklearn/utils/extmath.py:192: RuntimeWarning: overflow encountered in matmul\n",
      "  ret = a @ b\n",
      "/Users/ziqili/anaconda3/lib/python3.11/site-packages/sklearn/utils/extmath.py:192: RuntimeWarning: invalid value encountered in matmul\n",
      "  ret = a @ b\n",
      "/Users/ziqili/anaconda3/lib/python3.11/site-packages/sklearn/neural_network/_multilayer_perceptron.py:691: ConvergenceWarning: Stochastic Optimizer: Maximum iterations (266) reached and the optimization hasn't converged yet.\n",
      "  warnings.warn(\n",
      "job exception: Solver produced non-finite parameter weights. The input data may contain large values and need to be preprocessed.\n",
      "\n"
     ]
    },
    {
     "name": "stdout",
     "output_type": "stream",
     "text": [
      " 96%|█████████████████████████████████▌ | 24/25 [00:04<?, ?trial/s, best loss=?]\n",
      "100%|███████████| 1/1 [00:03<00:00,  3.78s/trial, best loss: 11244.092939842065]\n",
      "100%|██████████| 2/2 [00:03<00:00,  3.89s/trial, best loss: 0.15314787664734353]\n",
      " 67%|████████████████████████▋            | 2/3 [00:00<?, ?trial/s, best loss=?]"
     ]
    },
    {
     "name": "stderr",
     "output_type": "stream",
     "text": [
      "/Users/ziqili/anaconda3/lib/python3.11/site-packages/sklearn/neural_network/_multilayer_perceptron.py:546: ConvergenceWarning: lbfgs failed to converge (status=1):\n",
      "STOP: TOTAL NO. of ITERATIONS REACHED LIMIT.\n",
      "\n",
      "Increase the number of iterations (max_iter) or scale the data as shown in:\n",
      "    https://scikit-learn.org/stable/modules/preprocessing.html\n",
      "  self.n_iter_ = _check_optimize_result(\"lbfgs\", opt_res, self.max_iter)\n"
     ]
    },
    {
     "name": "stdout",
     "output_type": "stream",
     "text": [
      "100%|██████████| 3/3 [00:01<00:00,  1.16s/trial, best loss: 0.15314787664734353]\n",
      "100%|██████████| 4/4 [00:01<00:00,  1.56s/trial, best loss: 0.15314787664734353]\n",
      "100%|██████████| 5/5 [00:05<00:00,  5.34s/trial, best loss: 0.15314787664734353]\n",
      " 83%|██████████████████████████████▊      | 5/6 [00:00<?, ?trial/s, best loss=?]"
     ]
    },
    {
     "name": "stderr",
     "output_type": "stream",
     "text": [
      "/Users/ziqili/anaconda3/lib/python3.11/site-packages/sklearn/neural_network/_multilayer_perceptron.py:546: ConvergenceWarning: lbfgs failed to converge (status=1):\n",
      "STOP: TOTAL NO. of ITERATIONS REACHED LIMIT.\n",
      "\n",
      "Increase the number of iterations (max_iter) or scale the data as shown in:\n",
      "    https://scikit-learn.org/stable/modules/preprocessing.html\n",
      "  self.n_iter_ = _check_optimize_result(\"lbfgs\", opt_res, self.max_iter)\n"
     ]
    },
    {
     "name": "stdout",
     "output_type": "stream",
     "text": [
      "100%|██████████| 6/6 [00:01<00:00,  1.55s/trial, best loss: 0.15314787664734353]\n",
      "100%|██████████| 7/7 [00:01<00:00,  1.57s/trial, best loss: 0.15314787664734353]\n",
      "100%|██████████| 8/8 [00:01<00:00,  1.46s/trial, best loss: 0.15314787664734353]\n",
      "100%|██████████| 9/9 [00:05<00:00,  5.90s/trial, best loss: 0.15314787664734353]\n",
      "100%|████████| 10/10 [00:01<00:00,  1.57s/trial, best loss: 0.15314787664734353]\n",
      "100%|████████| 11/11 [00:02<00:00,  2.56s/trial, best loss: 0.15314787664734353]\n",
      "100%|████████| 12/12 [00:01<00:00,  1.32s/trial, best loss: 0.15314787664734353]\n",
      "100%|████████| 13/13 [00:01<00:00,  1.20s/trial, best loss: 0.15314787664734353]\n",
      "100%|████████| 14/14 [00:01<00:00,  1.80s/trial, best loss: 0.15314787664734353]\n",
      "100%|████████| 15/15 [00:01<00:00,  1.13s/trial, best loss: 0.15314787664734353]\n",
      "100%|████████| 16/16 [00:01<00:00,  1.22s/trial, best loss: 0.15314787664734353]\n",
      "100%|████████| 17/17 [00:01<00:00,  1.26s/trial, best loss: 0.15314787664734353]\n",
      "100%|████████| 18/18 [00:01<00:00,  1.60s/trial, best loss: 0.15314787664734353]\n",
      "100%|████████| 19/19 [00:01<00:00,  1.65s/trial, best loss: 0.15314787664734353]\n",
      "100%|████████| 20/20 [00:01<00:00,  1.58s/trial, best loss: 0.15314787664734353]\n",
      "100%|████████| 21/21 [00:01<00:00,  1.10s/trial, best loss: 0.15314787664734353]\n",
      "100%|████████| 22/22 [00:01<00:00,  1.10s/trial, best loss: 0.15314787664734353]\n",
      "100%|████████| 23/23 [00:01<00:00,  1.10s/trial, best loss: 0.15314787664734353]\n",
      "100%|████████| 24/24 [00:01<00:00,  1.59s/trial, best loss: 0.15314787664734353]\n",
      "100%|████████| 25/25 [00:01<00:00,  1.19s/trial, best loss: 0.15314787664734353]\n",
      "100%|████████| 26/26 [00:01<00:00,  1.57s/trial, best loss: 0.15314787664734353]\n",
      "100%|████████| 27/27 [00:01<00:00,  1.91s/trial, best loss: 0.15314787664734353]\n",
      "100%|████████| 28/28 [00:01<00:00,  1.32s/trial, best loss: 0.15314787664734353]\n",
      "100%|████████| 29/29 [00:01<00:00,  1.70s/trial, best loss: 0.15314787664734353]\n",
      "100%|████████| 30/30 [00:01<00:00,  1.42s/trial, best loss: 0.15314787664734353]\n",
      "100%|████████| 31/31 [00:01<00:00,  1.72s/trial, best loss: 0.15314787664734353]\n",
      "100%|████████| 32/32 [00:01<00:00,  1.38s/trial, best loss: 0.15314787664734353]\n",
      "100%|████████| 33/33 [00:01<00:00,  1.92s/trial, best loss: 0.15314787664734353]\n",
      "100%|████████| 34/34 [00:02<00:00,  2.60s/trial, best loss: 0.15314787664734353]\n",
      "100%|████████| 35/35 [00:02<00:00,  2.53s/trial, best loss: 0.15314787664734353]\n",
      "100%|████████| 36/36 [00:01<00:00,  1.31s/trial, best loss: 0.15314787664734353]\n",
      "100%|████████| 37/37 [00:02<00:00,  2.52s/trial, best loss: 0.15314787664734353]\n",
      " 97%|██████████████████████████████████ | 37/38 [00:00<?, ?trial/s, best loss=?]"
     ]
    },
    {
     "name": "stderr",
     "output_type": "stream",
     "text": [
      "/Users/ziqili/anaconda3/lib/python3.11/site-packages/sklearn/utils/extmath.py:192: RuntimeWarning: overflow encountered in matmul\n",
      "  ret = a @ b\n",
      "/Users/ziqili/anaconda3/lib/python3.11/site-packages/sklearn/utils/extmath.py:192: RuntimeWarning: invalid value encountered in matmul\n",
      "  ret = a @ b\n",
      "/Users/ziqili/anaconda3/lib/python3.11/site-packages/sklearn/neural_network/_multilayer_perceptron.py:691: ConvergenceWarning: Stochastic Optimizer: Maximum iterations (253) reached and the optimization hasn't converged yet.\n",
      "  warnings.warn(\n",
      "job exception: Solver produced non-finite parameter weights. The input data may contain large values and need to be preprocessed.\n",
      "\n"
     ]
    },
    {
     "name": "stdout",
     "output_type": "stream",
     "text": [
      " 97%|██████████████████████████████████ | 37/38 [00:04<?, ?trial/s, best loss=?]\n",
      "100%|███████████| 1/1 [00:01<00:00,  1.59s/trial, best loss: 0.9902084343514553]\n",
      "100%|███████████| 2/2 [00:01<00:00,  1.25s/trial, best loss: 0.3375894733164295]\n",
      "100%|███████████| 3/3 [00:01<00:00,  1.34s/trial, best loss: 0.3375894733164295]\n",
      "100%|███████████| 4/4 [00:01<00:00,  1.64s/trial, best loss: 0.3375894733164295]\n",
      " 80%|█████████████████████████████▌       | 4/5 [00:00<?, ?trial/s, best loss=?]"
     ]
    },
    {
     "name": "stderr",
     "output_type": "stream",
     "text": [
      "/Users/ziqili/anaconda3/lib/python3.11/site-packages/numpy/core/_methods.py:181: RuntimeWarning: overflow encountered in reduce\n",
      "  ret = umr_sum(arr, axis, dtype, out, keepdims, where=where)\n",
      "/Users/ziqili/anaconda3/lib/python3.11/site-packages/sklearn/neural_network/_base.py:173: RuntimeWarning: overflow encountered in square\n",
      "  return ((y_true - y_pred) ** 2).mean() / 2\n",
      "/Users/ziqili/anaconda3/lib/python3.11/site-packages/sklearn/utils/extmath.py:192: RuntimeWarning: overflow encountered in matmul\n",
      "  ret = a @ b\n",
      "/Users/ziqili/anaconda3/lib/python3.11/site-packages/sklearn/neural_network/_base.py:128: RuntimeWarning: invalid value encountered in multiply\n",
      "  delta *= 1 - Z**2\n",
      "/Users/ziqili/anaconda3/lib/python3.11/site-packages/sklearn/neural_network/_multilayer_perceptron.py:691: ConvergenceWarning: Stochastic Optimizer: Maximum iterations (287) reached and the optimization hasn't converged yet.\n",
      "  warnings.warn(\n",
      "job exception: Solver produced non-finite parameter weights. The input data may contain large values and need to be preprocessed.\n",
      "\n"
     ]
    },
    {
     "name": "stdout",
     "output_type": "stream",
     "text": [
      " 80%|█████████████████████████████▌       | 4/5 [00:06<?, ?trial/s, best loss=?]\n",
      "100%|██████████| 1/1 [00:02<00:00,  2.87s/trial, best loss: 0.24508089668340727]\n",
      "100%|██████████| 2/2 [00:01<00:00,  1.84s/trial, best loss: 0.24508089668340727]\n",
      "100%|██████████| 3/3 [00:01<00:00,  1.69s/trial, best loss: 0.24508089668340727]\n",
      "100%|██████████| 4/4 [00:01<00:00,  1.35s/trial, best loss: 0.24508089668340727]\n",
      "100%|██████████| 5/5 [00:01<00:00,  1.29s/trial, best loss: 0.24508089668340727]\n",
      " 83%|██████████████████████████████▊      | 5/6 [00:00<?, ?trial/s, best loss=?]"
     ]
    },
    {
     "name": "stderr",
     "output_type": "stream",
     "text": [
      "/Users/ziqili/anaconda3/lib/python3.11/site-packages/numpy/core/_methods.py:181: RuntimeWarning: overflow encountered in reduce\n",
      "  ret = umr_sum(arr, axis, dtype, out, keepdims, where=where)\n",
      "/Users/ziqili/anaconda3/lib/python3.11/site-packages/sklearn/neural_network/_base.py:173: RuntimeWarning: overflow encountered in square\n",
      "  return ((y_true - y_pred) ** 2).mean() / 2\n",
      "/Users/ziqili/anaconda3/lib/python3.11/site-packages/sklearn/utils/extmath.py:192: RuntimeWarning: overflow encountered in matmul\n",
      "  ret = a @ b\n",
      "/Users/ziqili/anaconda3/lib/python3.11/site-packages/sklearn/neural_network/_base.py:128: RuntimeWarning: invalid value encountered in multiply\n",
      "  delta *= 1 - Z**2\n",
      "/Users/ziqili/anaconda3/lib/python3.11/site-packages/sklearn/neural_network/_multilayer_perceptron.py:691: ConvergenceWarning: Stochastic Optimizer: Maximum iterations (265) reached and the optimization hasn't converged yet.\n",
      "  warnings.warn(\n",
      "job exception: Solver produced non-finite parameter weights. The input data may contain large values and need to be preprocessed.\n",
      "\n"
     ]
    },
    {
     "name": "stdout",
     "output_type": "stream",
     "text": [
      " 83%|██████████████████████████████▊      | 5/6 [00:05<?, ?trial/s, best loss=?]\n",
      "100%|███████████| 1/1 [00:01<00:00,  1.63s/trial, best loss: 0.6453401461602482]\n",
      "100%|██████████| 2/2 [00:01<00:00,  1.51s/trial, best loss: 0.41170668623301954]\n",
      "100%|██████████| 3/3 [00:01<00:00,  1.31s/trial, best loss: 0.26553289265519264]\n",
      "100%|██████████| 4/4 [00:01<00:00,  1.28s/trial, best loss: 0.26553289265519264]\n",
      "100%|██████████| 5/5 [00:01<00:00,  1.72s/trial, best loss: 0.26553289265519264]\n",
      "100%|██████████| 6/6 [00:01<00:00,  1.43s/trial, best loss: 0.26553289265519264]\n",
      "100%|██████████| 7/7 [00:01<00:00,  1.17s/trial, best loss: 0.26553289265519264]\n",
      "100%|██████████| 8/8 [00:01<00:00,  1.18s/trial, best loss: 0.26553289265519264]\n",
      "100%|██████████| 9/9 [00:02<00:00,  2.66s/trial, best loss: 0.26553289265519264]\n",
      "100%|████████| 10/10 [00:01<00:00,  1.25s/trial, best loss: 0.25837371746090565]\n",
      "100%|████████| 11/11 [00:01<00:00,  1.67s/trial, best loss: 0.23637593885538888]\n",
      "100%|████████| 12/12 [00:01<00:00,  1.12s/trial, best loss: 0.23637593885538888]\n",
      "100%|████████| 13/13 [00:01<00:00,  1.36s/trial, best loss: 0.23637593885538888]\n",
      "100%|████████| 14/14 [00:01<00:00,  1.55s/trial, best loss: 0.19367026862058911]\n",
      "100%|████████| 15/15 [00:01<00:00,  1.51s/trial, best loss: 0.19367026862058911]\n",
      "100%|████████| 16/16 [00:01<00:00,  1.45s/trial, best loss: 0.19367026862058911]\n",
      "100%|████████| 17/17 [00:01<00:00,  1.06s/trial, best loss: 0.19367026862058911]\n",
      "100%|████████| 18/18 [00:01<00:00,  1.44s/trial, best loss: 0.12841745627976786]\n",
      "100%|████████| 19/19 [00:01<00:00,  1.54s/trial, best loss: 0.12841745627976786]\n",
      "100%|████████| 20/20 [00:01<00:00,  1.88s/trial, best loss: 0.12841745627976786]\n",
      "100%|████████| 21/21 [00:01<00:00,  1.46s/trial, best loss: 0.12841745627976786]\n",
      "100%|████████| 22/22 [00:01<00:00,  1.63s/trial, best loss: 0.12841745627976786]\n",
      "100%|████████| 23/23 [00:01<00:00,  1.46s/trial, best loss: 0.12841745627976786]\n",
      "100%|████████| 24/24 [00:01<00:00,  1.47s/trial, best loss: 0.12841745627976786]\n",
      "100%|████████| 25/25 [00:01<00:00,  1.44s/trial, best loss: 0.12841745627976786]\n",
      "100%|████████| 26/26 [00:01<00:00,  1.41s/trial, best loss: 0.12841745627976786]\n",
      "100%|████████| 27/27 [00:02<00:00,  2.78s/trial, best loss: 0.12841745627976786]\n",
      "100%|████████| 28/28 [00:01<00:00,  1.37s/trial, best loss: 0.12841745627976786]\n",
      "100%|████████| 29/29 [00:01<00:00,  1.44s/trial, best loss: 0.12841745627976786]\n",
      "100%|█████████| 30/30 [00:01<00:00,  1.32s/trial, best loss: 0.1254825279158409]\n",
      " 97%|█████████████████████████████████▊ | 30/31 [00:00<?, ?trial/s, best loss=?]"
     ]
    },
    {
     "name": "stderr",
     "output_type": "stream",
     "text": [
      "/Users/ziqili/anaconda3/lib/python3.11/site-packages/sklearn/neural_network/_base.py:173: RuntimeWarning: overflow encountered in square\n",
      "  return ((y_true - y_pred) ** 2).mean() / 2\n",
      "/Users/ziqili/anaconda3/lib/python3.11/site-packages/sklearn/utils/extmath.py:192: RuntimeWarning: overflow encountered in matmul\n",
      "  ret = a @ b\n",
      "/Users/ziqili/anaconda3/lib/python3.11/site-packages/sklearn/utils/extmath.py:192: RuntimeWarning: invalid value encountered in matmul\n",
      "  ret = a @ b\n",
      "/Users/ziqili/anaconda3/lib/python3.11/site-packages/sklearn/neural_network/_multilayer_perceptron.py:691: ConvergenceWarning: Stochastic Optimizer: Maximum iterations (255) reached and the optimization hasn't converged yet.\n",
      "  warnings.warn(\n",
      "job exception: Solver produced non-finite parameter weights. The input data may contain large values and need to be preprocessed.\n",
      "\n"
     ]
    },
    {
     "name": "stdout",
     "output_type": "stream",
     "text": [
      " 97%|█████████████████████████████████▊ | 30/31 [00:04<?, ?trial/s, best loss=?]\n",
      "100%|███████████| 1/1 [00:01<00:00,  1.31s/trial, best loss: 0.9966198827529656]\n",
      "100%|██████████| 2/2 [00:02<00:00,  2.16s/trial, best loss: 0.32678454535037404]\n",
      "100%|██████████| 3/3 [00:01<00:00,  1.48s/trial, best loss: 0.32678454535037404]\n",
      "100%|██████████| 4/4 [00:01<00:00,  1.28s/trial, best loss: 0.23212287138701426]\n",
      "100%|███████████| 5/5 [00:01<00:00,  1.67s/trial, best loss: 0.1767051551092822]\n",
      "100%|███████████| 6/6 [00:02<00:00,  2.50s/trial, best loss: 0.1767051551092822]\n",
      "100%|███████████| 7/7 [00:01<00:00,  1.72s/trial, best loss: 0.1767051551092822]\n",
      "100%|███████████| 8/8 [00:01<00:00,  1.24s/trial, best loss: 0.1767051551092822]\n",
      "100%|███████████| 9/9 [00:01<00:00,  1.46s/trial, best loss: 0.1767051551092822]\n",
      "100%|████████| 10/10 [00:01<00:00,  1.57s/trial, best loss: 0.17429558407395707]\n",
      "100%|████████| 11/11 [00:01<00:00,  1.49s/trial, best loss: 0.17429558407395707]\n",
      "100%|████████| 12/12 [00:01<00:00,  1.71s/trial, best loss: 0.17429558407395707]\n",
      "100%|████████| 13/13 [00:01<00:00,  1.31s/trial, best loss: 0.17429558407395707]\n",
      "100%|████████| 14/14 [00:06<00:00,  6.12s/trial, best loss: 0.17429558407395707]\n",
      "100%|████████| 15/15 [00:02<00:00,  2.43s/trial, best loss: 0.17429558407395707]\n",
      "100%|████████| 16/16 [00:01<00:00,  1.21s/trial, best loss: 0.17429558407395707]\n",
      "100%|████████| 17/17 [00:01<00:00,  1.37s/trial, best loss: 0.17429558407395707]\n",
      "100%|████████| 18/18 [00:01<00:00,  1.18s/trial, best loss: 0.17429558407395707]\n",
      "100%|████████| 19/19 [00:06<00:00,  6.47s/trial, best loss: 0.17429558407395707]\n",
      " 95%|█████████████████████████████████▎ | 19/20 [00:00<?, ?trial/s, best loss=?]"
     ]
    },
    {
     "name": "stderr",
     "output_type": "stream",
     "text": [
      "/Users/ziqili/anaconda3/lib/python3.11/site-packages/sklearn/neural_network/_multilayer_perceptron.py:691: ConvergenceWarning: Stochastic Optimizer: Maximum iterations (318) reached and the optimization hasn't converged yet.\n",
      "  warnings.warn(\n"
     ]
    },
    {
     "name": "stdout",
     "output_type": "stream",
     "text": [
      "100%|████████| 20/20 [00:01<00:00,  1.39s/trial, best loss: 0.17429558407395707]\n",
      "100%|████████| 21/21 [00:01<00:00,  1.18s/trial, best loss: 0.17429558407395707]\n",
      "100%|████████| 22/22 [00:01<00:00,  1.32s/trial, best loss: 0.17429558407395707]\n",
      "100%|█████████| 23/23 [00:01<00:00,  1.46s/trial, best loss: 0.1713124002171723]\n",
      "100%|████████| 24/24 [00:01<00:00,  1.47s/trial, best loss: 0.16524342842661233]\n",
      "100%|████████| 25/25 [00:01<00:00,  1.56s/trial, best loss: 0.16513341606228282]\n",
      "100%|████████| 26/26 [00:01<00:00,  1.53s/trial, best loss: 0.16513341606228282]\n",
      "100%|████████| 27/27 [00:01<00:00,  1.47s/trial, best loss: 0.16513341606228282]\n",
      "100%|████████| 28/28 [00:01<00:00,  1.53s/trial, best loss: 0.16513341606228282]\n",
      "100%|████████| 29/29 [00:01<00:00,  1.52s/trial, best loss: 0.16513341606228282]\n",
      " 97%|█████████████████████████████████▊ | 29/30 [00:00<?, ?trial/s, best loss=?]"
     ]
    },
    {
     "name": "stderr",
     "output_type": "stream",
     "text": [
      "/Users/ziqili/anaconda3/lib/python3.11/site-packages/numpy/core/_methods.py:181: RuntimeWarning: overflow encountered in reduce\n",
      "  ret = umr_sum(arr, axis, dtype, out, keepdims, where=where)\n",
      "/Users/ziqili/anaconda3/lib/python3.11/site-packages/sklearn/neural_network/_base.py:173: RuntimeWarning: overflow encountered in square\n",
      "  return ((y_true - y_pred) ** 2).mean() / 2\n",
      "/Users/ziqili/anaconda3/lib/python3.11/site-packages/sklearn/utils/extmath.py:192: RuntimeWarning: overflow encountered in matmul\n",
      "  ret = a @ b\n",
      "/Users/ziqili/anaconda3/lib/python3.11/site-packages/sklearn/neural_network/_base.py:128: RuntimeWarning: invalid value encountered in multiply\n",
      "  delta *= 1 - Z**2\n",
      "/Users/ziqili/anaconda3/lib/python3.11/site-packages/sklearn/neural_network/_multilayer_perceptron.py:691: ConvergenceWarning: Stochastic Optimizer: Maximum iterations (262) reached and the optimization hasn't converged yet.\n",
      "  warnings.warn(\n",
      "job exception: Solver produced non-finite parameter weights. The input data may contain large values and need to be preprocessed.\n",
      "\n"
     ]
    },
    {
     "name": "stdout",
     "output_type": "stream",
     "text": [
      " 97%|█████████████████████████████████▊ | 29/30 [00:05<?, ?trial/s, best loss=?]\n",
      "100%|███████████| 1/1 [00:01<00:00,  1.22s/trial, best loss: 0.2949111204382442]\n",
      "100%|███████████| 2/2 [00:01<00:00,  1.99s/trial, best loss: 0.2949111204382442]\n",
      "100%|███████████| 3/3 [00:01<00:00,  1.65s/trial, best loss: 0.2949111204382442]\n",
      "100%|███████████| 4/4 [00:01<00:00,  1.29s/trial, best loss: 0.2949111204382442]\n",
      "100%|██████████| 5/5 [00:01<00:00,  1.48s/trial, best loss: 0.25501608963639844]\n",
      "100%|██████████| 6/6 [00:01<00:00,  1.81s/trial, best loss: 0.25501608963639844]\n",
      "100%|██████████| 7/7 [00:01<00:00,  1.33s/trial, best loss: 0.20100162790528076]\n",
      "100%|██████████| 8/8 [00:01<00:00,  1.11s/trial, best loss: 0.20100162790528076]\n",
      "100%|██████████| 9/9 [00:01<00:00,  1.31s/trial, best loss: 0.20100162790528076]\n",
      "100%|████████| 10/10 [00:01<00:00,  1.11s/trial, best loss: 0.20100162790528076]\n",
      "100%|█████████| 11/11 [00:01<00:00,  1.34s/trial, best loss: 0.1578363276489606]\n",
      " 92%|████████████████████████████████   | 11/12 [00:00<?, ?trial/s, best loss=?]"
     ]
    },
    {
     "name": "stderr",
     "output_type": "stream",
     "text": [
      "/Users/ziqili/anaconda3/lib/python3.11/site-packages/sklearn/neural_network/_base.py:173: RuntimeWarning: overflow encountered in square\n",
      "  return ((y_true - y_pred) ** 2).mean() / 2\n",
      "/Users/ziqili/anaconda3/lib/python3.11/site-packages/sklearn/utils/extmath.py:192: RuntimeWarning: overflow encountered in matmul\n",
      "  ret = a @ b\n",
      "/Users/ziqili/anaconda3/lib/python3.11/site-packages/sklearn/utils/extmath.py:192: RuntimeWarning: invalid value encountered in matmul\n",
      "  ret = a @ b\n",
      "/Users/ziqili/anaconda3/lib/python3.11/site-packages/sklearn/neural_network/_multilayer_perceptron.py:691: ConvergenceWarning: Stochastic Optimizer: Maximum iterations (193) reached and the optimization hasn't converged yet.\n",
      "  warnings.warn(\n",
      "job exception: Solver produced non-finite parameter weights. The input data may contain large values and need to be preprocessed.\n",
      "\n"
     ]
    },
    {
     "name": "stdout",
     "output_type": "stream",
     "text": [
      " 92%|████████████████████████████████   | 11/12 [00:03<?, ?trial/s, best loss=?]\n",
      "100%|██████████| 1/1 [00:01<00:00,  1.28s/trial, best loss: 0.24782363868261204]\n",
      "100%|██████████| 2/2 [00:02<00:00,  2.15s/trial, best loss: 0.24782363868261204]\n",
      "100%|██████████| 3/3 [00:01<00:00,  1.24s/trial, best loss: 0.24782363868261204]\n",
      "100%|██████████| 4/4 [00:01<00:00,  1.39s/trial, best loss: 0.24782363868261204]\n",
      "100%|██████████| 5/5 [00:07<00:00,  7.96s/trial, best loss: 0.24782363868261204]\n",
      "100%|████████████| 6/6 [00:01<00:00,  1.48s/trial, best loss: 0.228141964982141]\n",
      "100%|████████████| 7/7 [00:06<00:00,  6.17s/trial, best loss: 0.228141964982141]\n",
      " 88%|████████████████████████████████▍    | 7/8 [00:00<?, ?trial/s, best loss=?]"
     ]
    },
    {
     "name": "stderr",
     "output_type": "stream",
     "text": [
      "/Users/ziqili/anaconda3/lib/python3.11/site-packages/sklearn/neural_network/_multilayer_perceptron.py:546: ConvergenceWarning: lbfgs failed to converge (status=1):\n",
      "STOP: TOTAL NO. of ITERATIONS REACHED LIMIT.\n",
      "\n",
      "Increase the number of iterations (max_iter) or scale the data as shown in:\n",
      "    https://scikit-learn.org/stable/modules/preprocessing.html\n",
      "  self.n_iter_ = _check_optimize_result(\"lbfgs\", opt_res, self.max_iter)\n"
     ]
    },
    {
     "name": "stdout",
     "output_type": "stream",
     "text": [
      "100%|████████████| 8/8 [00:01<00:00,  1.15s/trial, best loss: 0.228141964982141]\n",
      "100%|████████████| 9/9 [00:02<00:00,  2.05s/trial, best loss: 0.228141964982141]\n",
      "100%|██████████| 10/10 [00:01<00:00,  1.52s/trial, best loss: 0.228141964982141]\n",
      "100%|██████████| 11/11 [00:01<00:00,  1.27s/trial, best loss: 0.228141964982141]\n",
      "100%|██████████| 12/12 [00:01<00:00,  1.71s/trial, best loss: 0.228141964982141]\n",
      "100%|█████████| 13/13 [00:01<00:00,  1.77s/trial, best loss: 0.1858462666037657]\n",
      "100%|█████████| 14/14 [00:01<00:00,  1.33s/trial, best loss: 0.1858462666037657]\n",
      "100%|█████████| 15/15 [00:01<00:00,  1.74s/trial, best loss: 0.1858462666037657]\n",
      "100%|█████████| 16/16 [00:01<00:00,  1.76s/trial, best loss: 0.1858462666037657]\n",
      "100%|█████████| 17/17 [00:01<00:00,  1.62s/trial, best loss: 0.1858462666037657]\n",
      "100%|█████████| 18/18 [00:01<00:00,  1.35s/trial, best loss: 0.1858462666037657]\n",
      "100%|█████████| 19/19 [00:01<00:00,  1.75s/trial, best loss: 0.1858462666037657]\n",
      "100%|█████████| 20/20 [00:01<00:00,  1.27s/trial, best loss: 0.1858462666037657]\n",
      "100%|█████████| 21/21 [00:01<00:00,  1.40s/trial, best loss: 0.1858462666037657]\n",
      "100%|█████████| 22/22 [00:01<00:00,  1.56s/trial, best loss: 0.1858462666037657]\n",
      "100%|█████████| 23/23 [00:01<00:00,  1.32s/trial, best loss: 0.1858462666037657]\n",
      "100%|█████████| 24/24 [00:01<00:00,  1.40s/trial, best loss: 0.1858462666037657]\n",
      "100%|█████████| 25/25 [00:01<00:00,  1.33s/trial, best loss: 0.1858462666037657]\n",
      "100%|█████████| 26/26 [00:01<00:00,  1.66s/trial, best loss: 0.1858462666037657]\n",
      "100%|████████| 27/27 [00:04<00:00,  4.97s/trial, best loss: 0.18486966584295605]\n",
      "100%|████████| 28/28 [00:01<00:00,  1.43s/trial, best loss: 0.18486966584295605]\n",
      "100%|████████| 29/29 [00:04<00:00,  4.36s/trial, best loss: 0.17400339438704593]\n",
      "100%|████████| 30/30 [00:04<00:00,  4.15s/trial, best loss: 0.17400339438704593]\n",
      "100%|████████| 31/31 [00:03<00:00,  3.73s/trial, best loss: 0.17400339438704593]\n",
      "100%|████████| 32/32 [00:03<00:00,  3.95s/trial, best loss: 0.17400339438704593]\n",
      "100%|████████| 33/33 [00:03<00:00,  3.68s/trial, best loss: 0.17400339438704593]\n",
      "100%|████████| 34/34 [00:01<00:00,  1.49s/trial, best loss: 0.17400339438704593]\n",
      "100%|████████| 35/35 [00:04<00:00,  4.21s/trial, best loss: 0.17400339438704593]\n",
      " 97%|██████████████████████████████████ | 35/36 [00:00<?, ?trial/s, best loss=?]"
     ]
    },
    {
     "name": "stderr",
     "output_type": "stream",
     "text": [
      "/Users/ziqili/anaconda3/lib/python3.11/site-packages/sklearn/neural_network/_multilayer_perceptron.py:691: ConvergenceWarning: Stochastic Optimizer: Maximum iterations (169) reached and the optimization hasn't converged yet.\n",
      "  warnings.warn(\n"
     ]
    },
    {
     "name": "stdout",
     "output_type": "stream",
     "text": [
      "100%|████████| 36/36 [00:04<00:00,  4.31s/trial, best loss: 0.17302386692468774]\n",
      "100%|████████| 37/37 [00:04<00:00,  4.51s/trial, best loss: 0.17302386692468774]\n",
      " 97%|██████████████████████████████████ | 37/38 [00:00<?, ?trial/s, best loss=?]"
     ]
    },
    {
     "name": "stderr",
     "output_type": "stream",
     "text": [
      "/Users/ziqili/anaconda3/lib/python3.11/site-packages/sklearn/neural_network/_multilayer_perceptron.py:691: ConvergenceWarning: Stochastic Optimizer: Maximum iterations (257) reached and the optimization hasn't converged yet.\n",
      "  warnings.warn(\n"
     ]
    },
    {
     "name": "stdout",
     "output_type": "stream",
     "text": [
      "100%|████████| 38/38 [00:03<00:00,  3.90s/trial, best loss: 0.15995904957736562]\n",
      "100%|████████| 39/39 [00:04<00:00,  4.03s/trial, best loss: 0.12457284092736498]\n",
      "100%|████████| 40/40 [00:01<00:00,  1.61s/trial, best loss: 0.12457284092736498]\n",
      "100%|████████| 41/41 [00:03<00:00,  3.92s/trial, best loss: 0.12457284092736498]\n",
      "100%|████████| 42/42 [00:03<00:00,  3.59s/trial, best loss: 0.12457284092736498]\n",
      "100%|████████| 43/43 [00:03<00:00,  3.97s/trial, best loss: 0.12457284092736498]\n",
      "100%|████████| 44/44 [00:01<00:00,  1.55s/trial, best loss: 0.12457284092736498]\n",
      "100%|████████| 45/45 [00:01<00:00,  1.40s/trial, best loss: 0.12457284092736498]\n",
      "100%|████████| 46/46 [00:02<00:00,  2.50s/trial, best loss: 0.12457284092736498]\n",
      "100%|████████| 47/47 [00:03<00:00,  3.09s/trial, best loss: 0.12457284092736498]\n",
      "100%|████████| 48/48 [00:01<00:00,  1.37s/trial, best loss: 0.12457284092736498]\n",
      "100%|████████| 49/49 [00:02<00:00,  2.54s/trial, best loss: 0.12457284092736498]\n",
      "100%|████████| 50/50 [00:01<00:00,  1.78s/trial, best loss: 0.12457284092736498]\n",
      " 98%|██████████████████████████████████▎| 50/51 [00:00<?, ?trial/s, best loss=?]"
     ]
    },
    {
     "name": "stderr",
     "output_type": "stream",
     "text": [
      "/Users/ziqili/anaconda3/lib/python3.11/site-packages/sklearn/utils/extmath.py:192: RuntimeWarning: overflow encountered in matmul\n",
      "  ret = a @ b\n",
      "/Users/ziqili/anaconda3/lib/python3.11/site-packages/sklearn/utils/extmath.py:192: RuntimeWarning: invalid value encountered in matmul\n",
      "  ret = a @ b\n",
      "/Users/ziqili/anaconda3/lib/python3.11/site-packages/sklearn/neural_network/_multilayer_perceptron.py:691: ConvergenceWarning: Stochastic Optimizer: Maximum iterations (330) reached and the optimization hasn't converged yet.\n",
      "  warnings.warn(\n",
      "job exception: Solver produced non-finite parameter weights. The input data may contain large values and need to be preprocessed.\n",
      "\n"
     ]
    },
    {
     "name": "stdout",
     "output_type": "stream",
     "text": [
      " 98%|██████████████████████████████████▎| 50/51 [00:04<?, ?trial/s, best loss=?]\n",
      "100%|██████████| 1/1 [00:01<00:00,  1.68s/trial, best loss: 0.15185874556394008]\n",
      "100%|██████████| 2/2 [00:01<00:00,  1.41s/trial, best loss: 0.15185874556394008]\n",
      "100%|██████████| 3/3 [00:01<00:00,  1.45s/trial, best loss: 0.15185874556394008]\n",
      " 75%|███████████████████████████▊         | 3/4 [00:00<?, ?trial/s, best loss=?]"
     ]
    },
    {
     "name": "stderr",
     "output_type": "stream",
     "text": [
      "/Users/ziqili/anaconda3/lib/python3.11/site-packages/numpy/core/_methods.py:181: RuntimeWarning: overflow encountered in reduce\n",
      "  ret = umr_sum(arr, axis, dtype, out, keepdims, where=where)\n",
      "/Users/ziqili/anaconda3/lib/python3.11/site-packages/sklearn/neural_network/_base.py:173: RuntimeWarning: overflow encountered in square\n",
      "  return ((y_true - y_pred) ** 2).mean() / 2\n",
      "/Users/ziqili/anaconda3/lib/python3.11/site-packages/sklearn/utils/extmath.py:192: RuntimeWarning: overflow encountered in matmul\n",
      "  ret = a @ b\n",
      "/Users/ziqili/anaconda3/lib/python3.11/site-packages/sklearn/neural_network/_base.py:128: RuntimeWarning: invalid value encountered in multiply\n",
      "  delta *= 1 - Z**2\n",
      "/Users/ziqili/anaconda3/lib/python3.11/site-packages/sklearn/neural_network/_multilayer_perceptron.py:691: ConvergenceWarning: Stochastic Optimizer: Maximum iterations (221) reached and the optimization hasn't converged yet.\n",
      "  warnings.warn(\n",
      "job exception: Solver produced non-finite parameter weights. The input data may contain large values and need to be preprocessed.\n",
      "\n"
     ]
    },
    {
     "name": "stdout",
     "output_type": "stream",
     "text": [
      " 75%|███████████████████████████▊         | 3/4 [00:05<?, ?trial/s, best loss=?]\n",
      "100%|███████████| 1/1 [00:02<00:00,  2.33s/trial, best loss: 0.3676127003731524]\n",
      "100%|███████████| 2/2 [00:01<00:00,  1.03s/trial, best loss: 0.3676127003731524]\n",
      "100%|███████████| 3/3 [00:01<00:00,  1.16s/trial, best loss: 0.3676127003731524]\n",
      "100%|██████████| 4/4 [00:05<00:00,  5.78s/trial, best loss: 0.20964312480341074]\n",
      " 80%|█████████████████████████████▌       | 4/5 [00:00<?, ?trial/s, best loss=?]"
     ]
    },
    {
     "name": "stderr",
     "output_type": "stream",
     "text": [
      "/Users/ziqili/anaconda3/lib/python3.11/site-packages/sklearn/neural_network/_multilayer_perceptron.py:691: ConvergenceWarning: Stochastic Optimizer: Maximum iterations (211) reached and the optimization hasn't converged yet.\n",
      "  warnings.warn(\n"
     ]
    },
    {
     "name": "stdout",
     "output_type": "stream",
     "text": [
      "100%|██████████| 5/5 [00:01<00:00,  1.25s/trial, best loss: 0.20964312480341074]\n",
      "100%|██████████| 6/6 [00:03<00:00,  3.90s/trial, best loss: 0.20964312480341074]\n",
      " 86%|███████████████████████████████▋     | 6/7 [00:00<?, ?trial/s, best loss=?]"
     ]
    },
    {
     "name": "stderr",
     "output_type": "stream",
     "text": [
      "/Users/ziqili/anaconda3/lib/python3.11/site-packages/sklearn/neural_network/_base.py:173: RuntimeWarning: overflow encountered in square\n",
      "  return ((y_true - y_pred) ** 2).mean() / 2\n",
      "/Users/ziqili/anaconda3/lib/python3.11/site-packages/sklearn/utils/extmath.py:192: RuntimeWarning: overflow encountered in matmul\n",
      "  ret = a @ b\n",
      "/Users/ziqili/anaconda3/lib/python3.11/site-packages/sklearn/utils/extmath.py:192: RuntimeWarning: invalid value encountered in matmul\n",
      "  ret = a @ b\n",
      "/Users/ziqili/anaconda3/lib/python3.11/site-packages/sklearn/neural_network/_multilayer_perceptron.py:691: ConvergenceWarning: Stochastic Optimizer: Maximum iterations (158) reached and the optimization hasn't converged yet.\n",
      "  warnings.warn(\n",
      "job exception: Solver produced non-finite parameter weights. The input data may contain large values and need to be preprocessed.\n",
      "\n"
     ]
    },
    {
     "name": "stdout",
     "output_type": "stream",
     "text": [
      " 86%|███████████████████████████████▋     | 6/7 [00:03<?, ?trial/s, best loss=?]\n",
      "100%|████████████| 1/1 [00:01<00:00,  1.41s/trial, best loss: 1.075060790843531]\n",
      "100%|███████████| 2/2 [00:01<00:00,  1.24s/trial, best loss: 1.0661435112089819]\n",
      "100%|███████████| 3/3 [00:01<00:00,  1.15s/trial, best loss: 1.0008200060068706]\n",
      "100%|███████████| 4/4 [00:01<00:00,  1.34s/trial, best loss: 0.5516825290020749]\n",
      "100%|███████████| 5/5 [00:01<00:00,  1.50s/trial, best loss: 0.5516825290020749]\n",
      "100%|██████████| 6/6 [00:01<00:00,  1.64s/trial, best loss: 0.22048710119043546]\n",
      "100%|██████████| 7/7 [00:01<00:00,  1.77s/trial, best loss: 0.16923303632797504]\n",
      "100%|██████████| 8/8 [00:01<00:00,  1.20s/trial, best loss: 0.16923303632797504]\n",
      "100%|██████████| 9/9 [00:01<00:00,  1.61s/trial, best loss: 0.16923303632797504]\n",
      "100%|████████| 10/10 [00:01<00:00,  1.14s/trial, best loss: 0.16923303632797504]\n",
      "100%|████████| 11/11 [00:01<00:00,  1.66s/trial, best loss: 0.16923303632797504]\n",
      "100%|████████| 12/12 [00:01<00:00,  1.33s/trial, best loss: 0.16923303632797504]\n",
      "100%|████████| 13/13 [00:01<00:00,  1.18s/trial, best loss: 0.16923303632797504]\n",
      "100%|████████| 14/14 [00:01<00:00,  1.45s/trial, best loss: 0.16923303632797504]\n",
      "100%|████████| 15/15 [00:01<00:00,  1.28s/trial, best loss: 0.16923303632797504]\n",
      " 94%|████████████████████████████████▊  | 15/16 [00:00<?, ?trial/s, best loss=?]"
     ]
    },
    {
     "name": "stderr",
     "output_type": "stream",
     "text": [
      "/Users/ziqili/anaconda3/lib/python3.11/site-packages/sklearn/utils/extmath.py:192: RuntimeWarning: overflow encountered in matmul\n",
      "  ret = a @ b\n",
      "/Users/ziqili/anaconda3/lib/python3.11/site-packages/sklearn/utils/extmath.py:192: RuntimeWarning: invalid value encountered in matmul\n",
      "  ret = a @ b\n",
      "/Users/ziqili/anaconda3/lib/python3.11/site-packages/sklearn/neural_network/_multilayer_perceptron.py:691: ConvergenceWarning: Stochastic Optimizer: Maximum iterations (164) reached and the optimization hasn't converged yet.\n",
      "  warnings.warn(\n",
      "job exception: Solver produced non-finite parameter weights. The input data may contain large values and need to be preprocessed.\n",
      "\n"
     ]
    },
    {
     "name": "stdout",
     "output_type": "stream",
     "text": [
      " 94%|████████████████████████████████▊  | 15/16 [00:02<?, ?trial/s, best loss=?]\n",
      "100%|██████████| 1/1 [00:01<00:00,  1.59s/trial, best loss: 0.16186840747624598]\n",
      "100%|██████████| 2/2 [00:01<00:00,  1.17s/trial, best loss: 0.16186840747624598]\n",
      "100%|██████████| 3/3 [00:01<00:00,  1.27s/trial, best loss: 0.16186840747624598]\n",
      "100%|██████████| 4/4 [00:04<00:00,  4.82s/trial, best loss: 0.14220686532570126]\n",
      "100%|██████████| 5/5 [00:02<00:00,  2.20s/trial, best loss: 0.14220686532570126]\n",
      "100%|██████████| 6/6 [00:01<00:00,  1.07s/trial, best loss: 0.14220686532570126]\n",
      "100%|██████████| 7/7 [00:01<00:00,  1.40s/trial, best loss: 0.14220686532570126]\n",
      "100%|██████████| 8/8 [00:04<00:00,  4.57s/trial, best loss: 0.14220686532570126]"
     ]
    },
    {
     "name": "stderr",
     "output_type": "stream",
     "text": [
      "/Users/ziqili/anaconda3/lib/python3.11/site-packages/sklearn/neural_network/_multilayer_perceptron.py:546: ConvergenceWarning: lbfgs failed to converge (status=1):\n",
      "STOP: TOTAL NO. of ITERATIONS REACHED LIMIT.\n",
      "\n",
      "Increase the number of iterations (max_iter) or scale the data as shown in:\n",
      "    https://scikit-learn.org/stable/modules/preprocessing.html\n",
      "  self.n_iter_ = _check_optimize_result(\"lbfgs\", opt_res, self.max_iter)\n"
     ]
    },
    {
     "name": "stdout",
     "output_type": "stream",
     "text": [
      "\n",
      "100%|██████████| 9/9 [00:01<00:00,  1.84s/trial, best loss: 0.14220686532570126]\n",
      "100%|████████| 10/10 [00:02<00:00,  2.05s/trial, best loss: 0.14220686532570126]\n",
      "100%|████████| 11/11 [00:01<00:00,  1.33s/trial, best loss: 0.14220686532570126]\n",
      "100%|████████| 12/12 [00:05<00:00,  5.65s/trial, best loss: 0.12297876211670156]\n",
      " 92%|████████████████████████████████▎  | 12/13 [00:00<?, ?trial/s, best loss=?]"
     ]
    },
    {
     "name": "stderr",
     "output_type": "stream",
     "text": [
      "/Users/ziqili/anaconda3/lib/python3.11/site-packages/sklearn/neural_network/_multilayer_perceptron.py:691: ConvergenceWarning: Stochastic Optimizer: Maximum iterations (278) reached and the optimization hasn't converged yet.\n",
      "  warnings.warn(\n"
     ]
    },
    {
     "name": "stdout",
     "output_type": "stream",
     "text": [
      "100%|████████| 13/13 [00:01<00:00,  1.26s/trial, best loss: 0.12297876211670156]\n",
      "100%|████████| 14/14 [00:01<00:00,  1.04s/trial, best loss: 0.12297876211670156]\n",
      "100%|████████| 15/15 [00:01<00:00,  1.73s/trial, best loss: 0.12297876211670156]\n",
      "100%|████████| 16/16 [00:01<00:00,  1.43s/trial, best loss: 0.12297876211670156]\n",
      "100%|████████| 17/17 [00:02<00:00,  2.54s/trial, best loss: 0.12297876211670156]\n",
      "100%|████████| 18/18 [00:02<00:00,  2.28s/trial, best loss: 0.12297876211670156]\n",
      "100%|████████| 19/19 [00:01<00:00,  1.48s/trial, best loss: 0.12297876211670156]\n",
      "100%|████████| 20/20 [00:01<00:00,  1.79s/trial, best loss: 0.12297876211670156]\n",
      "100%|████████| 21/21 [00:04<00:00,  4.79s/trial, best loss: 0.12297876211670156]\n",
      "100%|████████| 22/22 [00:04<00:00,  4.24s/trial, best loss: 0.12297876211670156]\n",
      " 96%|█████████████████████████████████▍ | 22/23 [00:00<?, ?trial/s, best loss=?]"
     ]
    },
    {
     "name": "stderr",
     "output_type": "stream",
     "text": [
      "/Users/ziqili/anaconda3/lib/python3.11/site-packages/sklearn/neural_network/_multilayer_perceptron.py:691: ConvergenceWarning: Stochastic Optimizer: Maximum iterations (187) reached and the optimization hasn't converged yet.\n",
      "  warnings.warn(\n"
     ]
    },
    {
     "name": "stdout",
     "output_type": "stream",
     "text": [
      "100%|████████| 23/23 [00:05<00:00,  5.13s/trial, best loss: 0.12297876211670156]\n",
      " 96%|█████████████████████████████████▌ | 23/24 [00:00<?, ?trial/s, best loss=?]"
     ]
    },
    {
     "name": "stderr",
     "output_type": "stream",
     "text": [
      "/Users/ziqili/anaconda3/lib/python3.11/site-packages/sklearn/neural_network/_multilayer_perceptron.py:691: ConvergenceWarning: Stochastic Optimizer: Maximum iterations (182) reached and the optimization hasn't converged yet.\n",
      "  warnings.warn(\n"
     ]
    },
    {
     "name": "stdout",
     "output_type": "stream",
     "text": [
      "100%|████████| 24/24 [00:05<00:00,  5.47s/trial, best loss: 0.12297876211670156]\n",
      " 96%|█████████████████████████████████▌ | 24/25 [00:00<?, ?trial/s, best loss=?]"
     ]
    },
    {
     "name": "stderr",
     "output_type": "stream",
     "text": [
      "/Users/ziqili/anaconda3/lib/python3.11/site-packages/sklearn/neural_network/_base.py:173: RuntimeWarning: overflow encountered in square\n",
      "  return ((y_true - y_pred) ** 2).mean() / 2\n",
      "/Users/ziqili/anaconda3/lib/python3.11/site-packages/sklearn/utils/extmath.py:192: RuntimeWarning: overflow encountered in matmul\n",
      "  ret = a @ b\n",
      "/Users/ziqili/anaconda3/lib/python3.11/site-packages/sklearn/utils/extmath.py:192: RuntimeWarning: invalid value encountered in matmul\n",
      "  ret = a @ b\n",
      "/Users/ziqili/anaconda3/lib/python3.11/site-packages/sklearn/neural_network/_multilayer_perceptron.py:691: ConvergenceWarning: Stochastic Optimizer: Maximum iterations (349) reached and the optimization hasn't converged yet.\n",
      "  warnings.warn(\n",
      "job exception: Solver produced non-finite parameter weights. The input data may contain large values and need to be preprocessed.\n",
      "\n"
     ]
    },
    {
     "name": "stdout",
     "output_type": "stream",
     "text": [
      " 96%|█████████████████████████████████▌ | 24/25 [00:05<?, ?trial/s, best loss=?]\n",
      "100%|███████████| 1/1 [00:01<00:00,  1.49s/trial, best loss: 1.0248763366839537]\n",
      "100%|███████████| 2/2 [00:01<00:00,  1.44s/trial, best loss: 1.0102708956562136]\n",
      "100%|███████████| 3/3 [00:01<00:00,  1.13s/trial, best loss: 0.9993865008259226]\n",
      "100%|███████████| 4/4 [00:01<00:00,  1.74s/trial, best loss: 0.9993865008259226]\n",
      "100%|███████████| 5/5 [00:01<00:00,  1.78s/trial, best loss: 0.2727155247861137]\n",
      "100%|███████████| 6/6 [00:01<00:00,  1.43s/trial, best loss: 0.2727155247861137]\n",
      "100%|███████████| 7/7 [00:01<00:00,  1.25s/trial, best loss: 0.2727155247861137]\n",
      "100%|███████████| 8/8 [00:01<00:00,  1.67s/trial, best loss: 0.2727155247861137]\n",
      " 89%|████████████████████████████████▉    | 8/9 [00:00<?, ?trial/s, best loss=?]"
     ]
    },
    {
     "name": "stderr",
     "output_type": "stream",
     "text": [
      "/Users/ziqili/anaconda3/lib/python3.11/site-packages/sklearn/neural_network/_base.py:173: RuntimeWarning: overflow encountered in square\n",
      "  return ((y_true - y_pred) ** 2).mean() / 2\n",
      "/Users/ziqili/anaconda3/lib/python3.11/site-packages/sklearn/utils/extmath.py:192: RuntimeWarning: overflow encountered in matmul\n",
      "  ret = a @ b\n",
      "/Users/ziqili/anaconda3/lib/python3.11/site-packages/sklearn/utils/extmath.py:192: RuntimeWarning: invalid value encountered in matmul\n",
      "  ret = a @ b\n",
      "/Users/ziqili/anaconda3/lib/python3.11/site-packages/sklearn/neural_network/_multilayer_perceptron.py:691: ConvergenceWarning: Stochastic Optimizer: Maximum iterations (223) reached and the optimization hasn't converged yet.\n",
      "  warnings.warn(\n",
      "job exception: Solver produced non-finite parameter weights. The input data may contain large values and need to be preprocessed.\n",
      "\n"
     ]
    },
    {
     "name": "stdout",
     "output_type": "stream",
     "text": [
      " 89%|████████████████████████████████▉    | 8/9 [00:03<?, ?trial/s, best loss=?]\n",
      "100%|███████████| 1/1 [00:01<00:00,  1.85s/trial, best loss: 1.0498065546529587]\n",
      "100%|███████████| 2/2 [00:01<00:00,  1.64s/trial, best loss: 0.3269044839731259]\n",
      "100%|███████████| 3/3 [00:05<00:00,  5.35s/trial, best loss: 0.3269044839731259]\n",
      " 75%|███████████████████████████▊         | 3/4 [00:00<?, ?trial/s, best loss=?]"
     ]
    },
    {
     "name": "stderr",
     "output_type": "stream",
     "text": [
      "/Users/ziqili/anaconda3/lib/python3.11/site-packages/sklearn/neural_network/_multilayer_perceptron.py:546: ConvergenceWarning: lbfgs failed to converge (status=1):\n",
      "STOP: TOTAL NO. of ITERATIONS REACHED LIMIT.\n",
      "\n",
      "Increase the number of iterations (max_iter) or scale the data as shown in:\n",
      "    https://scikit-learn.org/stable/modules/preprocessing.html\n",
      "  self.n_iter_ = _check_optimize_result(\"lbfgs\", opt_res, self.max_iter)\n"
     ]
    },
    {
     "name": "stdout",
     "output_type": "stream",
     "text": [
      "100%|███████████| 4/4 [00:01<00:00,  1.22s/trial, best loss: 0.3269044839731259]\n",
      "100%|███████████| 5/5 [00:01<00:00,  1.42s/trial, best loss: 0.3269044839731259]\n",
      "100%|██████████| 6/6 [00:01<00:00,  1.50s/trial, best loss: 0.24530644879184105]\n",
      "100%|██████████| 7/7 [00:01<00:00,  1.56s/trial, best loss: 0.24530644879184105]\n",
      "100%|██████████| 8/8 [00:01<00:00,  1.76s/trial, best loss: 0.24530644879184105]\n",
      "100%|██████████| 9/9 [00:02<00:00,  2.80s/trial, best loss: 0.24530644879184105]\n",
      "100%|████████| 10/10 [00:01<00:00,  1.11s/trial, best loss: 0.24530644879184105]\n",
      "100%|█████████| 11/11 [00:02<00:00,  2.00s/trial, best loss: 0.1696768644077289]\n",
      "100%|█████████| 12/12 [00:01<00:00,  1.47s/trial, best loss: 0.1696768644077289]\n",
      "100%|█████████| 13/13 [00:01<00:00,  1.43s/trial, best loss: 0.1696768644077289]\n",
      "100%|█████████| 14/14 [00:01<00:00,  1.76s/trial, best loss: 0.1696768644077289]\n",
      "100%|████████| 15/15 [00:03<00:00,  3.62s/trial, best loss: 0.12654323245411547]\n",
      "100%|████████| 16/16 [00:01<00:00,  1.70s/trial, best loss: 0.12654323245411547]\n",
      "100%|████████| 17/17 [00:01<00:00,  1.47s/trial, best loss: 0.12654323245411547]\n",
      "100%|████████| 18/18 [00:01<00:00,  1.78s/trial, best loss: 0.12654323245411547]\n",
      "100%|████████| 19/19 [00:01<00:00,  1.52s/trial, best loss: 0.12654323245411547]\n",
      "100%|████████| 20/20 [00:01<00:00,  1.59s/trial, best loss: 0.12654323245411547]\n",
      "100%|████████| 21/21 [00:04<00:00,  4.05s/trial, best loss: 0.12654323245411547]\n",
      "100%|████████| 22/22 [00:03<00:00,  3.68s/trial, best loss: 0.12594707556211215]\n",
      "100%|█████████| 23/23 [00:03<00:00,  3.52s/trial, best loss: 0.1254783278609738]\n",
      "100%|█████████| 24/24 [00:03<00:00,  3.83s/trial, best loss: 0.1254783278609738]\n",
      "100%|█████████| 25/25 [00:03<00:00,  3.07s/trial, best loss: 0.1254783278609738]\n",
      "100%|████████| 26/26 [00:03<00:00,  3.60s/trial, best loss: 0.12375325422053962]\n",
      " 96%|█████████████████████████████████▋ | 26/27 [00:00<?, ?trial/s, best loss=?]"
     ]
    },
    {
     "name": "stderr",
     "output_type": "stream",
     "text": [
      "/Users/ziqili/anaconda3/lib/python3.11/site-packages/sklearn/utils/extmath.py:192: RuntimeWarning: overflow encountered in matmul\n",
      "  ret = a @ b\n",
      "/Users/ziqili/anaconda3/lib/python3.11/site-packages/sklearn/neural_network/_base.py:173: RuntimeWarning: overflow encountered in square\n",
      "  return ((y_true - y_pred) ** 2).mean() / 2\n",
      "/Users/ziqili/anaconda3/lib/python3.11/site-packages/sklearn/utils/extmath.py:192: RuntimeWarning: invalid value encountered in matmul\n",
      "  ret = a @ b\n",
      "/Users/ziqili/anaconda3/lib/python3.11/site-packages/sklearn/neural_network/_multilayer_perceptron.py:691: ConvergenceWarning: Stochastic Optimizer: Maximum iterations (211) reached and the optimization hasn't converged yet.\n",
      "  warnings.warn(\n",
      "job exception: Solver produced non-finite parameter weights. The input data may contain large values and need to be preprocessed.\n",
      "\n"
     ]
    },
    {
     "name": "stdout",
     "output_type": "stream",
     "text": [
      " 96%|█████████████████████████████████▋ | 26/27 [00:04<?, ?trial/s, best loss=?]\n",
      "100%|███████████| 1/1 [00:01<00:00,  1.24s/trial, best loss: 0.4166979022767616]\n",
      "100%|███████████| 2/2 [00:01<00:00,  1.52s/trial, best loss: 0.1394648092059143]\n",
      "100%|███████████| 3/3 [00:02<00:00,  2.97s/trial, best loss: 0.1394648092059143]\n",
      " 75%|███████████████████████████▊         | 3/4 [00:00<?, ?trial/s, best loss=?]"
     ]
    },
    {
     "name": "stderr",
     "output_type": "stream",
     "text": [
      "/Users/ziqili/anaconda3/lib/python3.11/site-packages/sklearn/neural_network/_base.py:173: RuntimeWarning: overflow encountered in square\n",
      "  return ((y_true - y_pred) ** 2).mean() / 2\n",
      "/Users/ziqili/anaconda3/lib/python3.11/site-packages/sklearn/utils/extmath.py:192: RuntimeWarning: overflow encountered in matmul\n",
      "  ret = a @ b\n",
      "/Users/ziqili/anaconda3/lib/python3.11/site-packages/sklearn/utils/extmath.py:192: RuntimeWarning: invalid value encountered in matmul\n",
      "  ret = a @ b\n",
      "/Users/ziqili/anaconda3/lib/python3.11/site-packages/sklearn/neural_network/_multilayer_perceptron.py:691: ConvergenceWarning: Stochastic Optimizer: Maximum iterations (316) reached and the optimization hasn't converged yet.\n",
      "  warnings.warn(\n",
      "job exception: Solver produced non-finite parameter weights. The input data may contain large values and need to be preprocessed.\n",
      "\n"
     ]
    },
    {
     "name": "stdout",
     "output_type": "stream",
     "text": [
      " 75%|███████████████████████████▊         | 3/4 [00:04<?, ?trial/s, best loss=?]\n",
      "100%|███████████| 1/1 [00:00<00:00,  1.05trial/s, best loss: 0.9949320535981682]\n",
      "100%|██████████| 2/2 [00:01<00:00,  1.42s/trial, best loss: 0.21889607669740085]\n",
      "100%|██████████| 3/3 [00:01<00:00,  1.68s/trial, best loss: 0.21889607669740085]\n",
      "100%|██████████| 4/4 [00:01<00:00,  1.34s/trial, best loss: 0.21889607669740085]\n",
      "100%|███████████| 5/5 [00:01<00:00,  1.57s/trial, best loss: 0.1357977244317926]\n",
      "100%|███████████| 6/6 [00:01<00:00,  1.41s/trial, best loss: 0.1357977244317926]\n",
      "100%|███████████| 7/7 [00:01<00:00,  1.20s/trial, best loss: 0.1357977244317926]\n",
      "100%|███████████| 8/8 [00:01<00:00,  1.23s/trial, best loss: 0.1357977244317926]\n",
      " 89%|████████████████████████████████▉    | 8/9 [00:00<?, ?trial/s, best loss=?]"
     ]
    },
    {
     "name": "stderr",
     "output_type": "stream",
     "text": [
      "/Users/ziqili/anaconda3/lib/python3.11/site-packages/sklearn/neural_network/_base.py:173: RuntimeWarning: overflow encountered in square\n",
      "  return ((y_true - y_pred) ** 2).mean() / 2\n",
      "/Users/ziqili/anaconda3/lib/python3.11/site-packages/numpy/core/_methods.py:181: RuntimeWarning: overflow encountered in reduce\n",
      "  ret = umr_sum(arr, axis, dtype, out, keepdims, where=where)\n",
      "/Users/ziqili/anaconda3/lib/python3.11/site-packages/sklearn/utils/extmath.py:192: RuntimeWarning: overflow encountered in matmul\n",
      "  ret = a @ b\n",
      "/Users/ziqili/anaconda3/lib/python3.11/site-packages/sklearn/utils/extmath.py:192: RuntimeWarning: invalid value encountered in matmul\n",
      "  ret = a @ b\n",
      "/Users/ziqili/anaconda3/lib/python3.11/site-packages/sklearn/neural_network/_multilayer_perceptron.py:691: ConvergenceWarning: Stochastic Optimizer: Maximum iterations (198) reached and the optimization hasn't converged yet.\n",
      "  warnings.warn(\n",
      "job exception: Solver produced non-finite parameter weights. The input data may contain large values and need to be preprocessed.\n",
      "\n"
     ]
    },
    {
     "name": "stdout",
     "output_type": "stream",
     "text": [
      " 89%|████████████████████████████████▉    | 8/9 [00:03<?, ?trial/s, best loss=?]\n",
      "100%|███████████| 1/1 [00:01<00:00,  1.42s/trial, best loss: 0.2278990095287351]\n",
      "100%|███████████| 2/2 [00:01<00:00,  1.37s/trial, best loss: 0.2278990095287351]\n",
      "100%|███████████| 3/3 [00:01<00:00,  1.44s/trial, best loss: 0.2278990095287351]\n",
      "100%|███████████| 4/4 [00:02<00:00,  2.35s/trial, best loss: 0.2278990095287351]\n",
      "100%|██████████| 5/5 [00:01<00:00,  1.42s/trial, best loss: 0.19517258433305762]\n",
      "100%|██████████| 6/6 [00:04<00:00,  4.49s/trial, best loss: 0.19517258433305762]\n",
      " 86%|███████████████████████████████▋     | 6/7 [00:00<?, ?trial/s, best loss=?]"
     ]
    },
    {
     "name": "stderr",
     "output_type": "stream",
     "text": [
      "/Users/ziqili/anaconda3/lib/python3.11/site-packages/sklearn/neural_network/_multilayer_perceptron.py:546: ConvergenceWarning: lbfgs failed to converge (status=1):\n",
      "STOP: TOTAL NO. of ITERATIONS REACHED LIMIT.\n",
      "\n",
      "Increase the number of iterations (max_iter) or scale the data as shown in:\n",
      "    https://scikit-learn.org/stable/modules/preprocessing.html\n",
      "  self.n_iter_ = _check_optimize_result(\"lbfgs\", opt_res, self.max_iter)\n"
     ]
    },
    {
     "name": "stdout",
     "output_type": "stream",
     "text": [
      "100%|██████████| 7/7 [00:01<00:00,  1.52s/trial, best loss: 0.19517258433305762]\n",
      "100%|██████████| 8/8 [00:01<00:00,  1.41s/trial, best loss: 0.19517258433305762]\n",
      "100%|██████████| 9/9 [00:01<00:00,  1.21s/trial, best loss: 0.19517258433305762]\n",
      "100%|████████| 10/10 [00:01<00:00,  1.50s/trial, best loss: 0.19517258433305762]\n",
      "100%|████████| 11/11 [00:01<00:00,  1.43s/trial, best loss: 0.19517258433305762]\n",
      "100%|████████| 12/12 [00:01<00:00,  1.69s/trial, best loss: 0.19517258433305762]\n",
      "100%|████████| 13/13 [00:01<00:00,  1.49s/trial, best loss: 0.19517258433305762]\n",
      "100%|████████| 14/14 [00:01<00:00,  1.33s/trial, best loss: 0.19517258433305762]\n",
      "100%|████████| 15/15 [00:01<00:00,  1.42s/trial, best loss: 0.19517258433305762]\n",
      "100%|████████| 16/16 [00:02<00:00,  2.69s/trial, best loss: 0.19517258433305762]\n",
      "100%|████████| 17/17 [00:01<00:00,  1.13s/trial, best loss: 0.19517258433305762]\n",
      "100%|████████| 18/18 [00:02<00:00,  2.97s/trial, best loss: 0.19517258433305762]\n",
      "100%|████████| 19/19 [00:02<00:00,  2.17s/trial, best loss: 0.19517258433305762]\n",
      "100%|████████| 20/20 [00:01<00:00,  1.40s/trial, best loss: 0.19517258433305762]\n",
      "100%|████████| 21/21 [00:01<00:00,  1.50s/trial, best loss: 0.19517258433305762]\n",
      "100%|████████| 22/22 [00:01<00:00,  1.31s/trial, best loss: 0.19517258433305762]\n",
      "100%|████████| 23/23 [00:01<00:00,  1.45s/trial, best loss: 0.19517258433305762]\n",
      "100%|████████| 24/24 [00:01<00:00,  1.59s/trial, best loss: 0.19517258433305762]\n",
      "100%|████████| 25/25 [00:01<00:00,  1.43s/trial, best loss: 0.13704214120421132]\n",
      "100%|█████████| 26/26 [00:03<00:00,  3.60s/trial, best loss: 0.1290906629424189]\n",
      "100%|█████████| 27/27 [00:04<00:00,  4.29s/trial, best loss: 0.1290906629424189]\n",
      " 96%|█████████████████████████████████▊ | 27/28 [00:00<?, ?trial/s, best loss=?]"
     ]
    },
    {
     "name": "stderr",
     "output_type": "stream",
     "text": [
      "/Users/ziqili/anaconda3/lib/python3.11/site-packages/sklearn/neural_network/_multilayer_perceptron.py:691: ConvergenceWarning: Stochastic Optimizer: Maximum iterations (224) reached and the optimization hasn't converged yet.\n",
      "  warnings.warn(\n"
     ]
    },
    {
     "name": "stdout",
     "output_type": "stream",
     "text": [
      "100%|████████| 28/28 [00:04<00:00,  4.83s/trial, best loss: 0.12415849620650132]\n",
      " 97%|█████████████████████████████████▊ | 28/29 [00:00<?, ?trial/s, best loss=?]"
     ]
    },
    {
     "name": "stderr",
     "output_type": "stream",
     "text": [
      "/Users/ziqili/anaconda3/lib/python3.11/site-packages/sklearn/neural_network/_multilayer_perceptron.py:691: ConvergenceWarning: Stochastic Optimizer: Maximum iterations (244) reached and the optimization hasn't converged yet.\n",
      "  warnings.warn(\n",
      "/Users/ziqili/anaconda3/lib/python3.11/site-packages/sklearn/neural_network/_base.py:173: RuntimeWarning: overflow encountered in square\n",
      "  return ((y_true - y_pred) ** 2).mean() / 2\n",
      "/Users/ziqili/anaconda3/lib/python3.11/site-packages/sklearn/utils/extmath.py:192: RuntimeWarning: overflow encountered in matmul\n",
      "  ret = a @ b\n",
      "/Users/ziqili/anaconda3/lib/python3.11/site-packages/sklearn/utils/extmath.py:192: RuntimeWarning: invalid value encountered in matmul\n",
      "  ret = a @ b\n",
      "/Users/ziqili/anaconda3/lib/python3.11/site-packages/sklearn/neural_network/_multilayer_perceptron.py:691: ConvergenceWarning: Stochastic Optimizer: Maximum iterations (256) reached and the optimization hasn't converged yet.\n",
      "  warnings.warn(\n",
      "job exception: Solver produced non-finite parameter weights. The input data may contain large values and need to be preprocessed.\n",
      "\n"
     ]
    },
    {
     "name": "stdout",
     "output_type": "stream",
     "text": [
      " 97%|█████████████████████████████████▊ | 28/29 [00:04<?, ?trial/s, best loss=?]\n",
      "100%|████████████| 1/1 [00:01<00:00,  1.54s/trial, best loss: 1.000185208634487]\n",
      "100%|██████████| 2/2 [00:01<00:00,  1.23s/trial, best loss: 0.24926047526158546]\n",
      "100%|██████████| 3/3 [00:08<00:00,  8.16s/trial, best loss: 0.24926047526158546]\n",
      " 75%|███████████████████████████▊         | 3/4 [00:00<?, ?trial/s, best loss=?]"
     ]
    },
    {
     "name": "stderr",
     "output_type": "stream",
     "text": [
      "/Users/ziqili/anaconda3/lib/python3.11/site-packages/sklearn/neural_network/_multilayer_perceptron.py:546: ConvergenceWarning: lbfgs failed to converge (status=1):\n",
      "STOP: TOTAL NO. of ITERATIONS REACHED LIMIT.\n",
      "\n",
      "Increase the number of iterations (max_iter) or scale the data as shown in:\n",
      "    https://scikit-learn.org/stable/modules/preprocessing.html\n",
      "  self.n_iter_ = _check_optimize_result(\"lbfgs\", opt_res, self.max_iter)\n"
     ]
    },
    {
     "name": "stdout",
     "output_type": "stream",
     "text": [
      "100%|██████████| 4/4 [00:01<00:00,  1.24s/trial, best loss: 0.24267456672269172]\n",
      "100%|██████████| 5/5 [00:01<00:00,  1.20s/trial, best loss: 0.24267456672269172]\n",
      "100%|██████████| 6/6 [00:01<00:00,  1.39s/trial, best loss: 0.14053436228056593]\n",
      "100%|██████████| 7/7 [00:01<00:00,  1.58s/trial, best loss: 0.14053436228056593]\n",
      "100%|██████████| 8/8 [00:02<00:00,  2.24s/trial, best loss: 0.14053436228056593]\n",
      "100%|██████████| 9/9 [00:01<00:00,  1.94s/trial, best loss: 0.14053436228056593]\n",
      "100%|████████| 10/10 [00:03<00:00,  3.80s/trial, best loss: 0.14053436228056593]\n",
      " 91%|███████████████████████████████▊   | 10/11 [00:00<?, ?trial/s, best loss=?]"
     ]
    },
    {
     "name": "stderr",
     "output_type": "stream",
     "text": [
      "/Users/ziqili/anaconda3/lib/python3.11/site-packages/sklearn/neural_network/_multilayer_perceptron.py:691: ConvergenceWarning: Stochastic Optimizer: Maximum iterations (181) reached and the optimization hasn't converged yet.\n",
      "  warnings.warn(\n"
     ]
    },
    {
     "name": "stdout",
     "output_type": "stream",
     "text": [
      "100%|████████| 11/11 [00:06<00:00,  6.81s/trial, best loss: 0.14053436228056593]\n",
      "100%|████████| 12/12 [00:01<00:00,  1.07s/trial, best loss: 0.14053436228056593]\n",
      "100%|████████| 13/13 [00:02<00:00,  2.11s/trial, best loss: 0.14053436228056593]\n",
      " 93%|████████████████████████████████▌  | 13/14 [00:00<?, ?trial/s, best loss=?]"
     ]
    },
    {
     "name": "stderr",
     "output_type": "stream",
     "text": [
      "/Users/ziqili/anaconda3/lib/python3.11/site-packages/numpy/core/_methods.py:181: RuntimeWarning: overflow encountered in reduce\n",
      "  ret = umr_sum(arr, axis, dtype, out, keepdims, where=where)\n",
      "/Users/ziqili/anaconda3/lib/python3.11/site-packages/sklearn/neural_network/_base.py:173: RuntimeWarning: overflow encountered in square\n",
      "  return ((y_true - y_pred) ** 2).mean() / 2\n",
      "/Users/ziqili/anaconda3/lib/python3.11/site-packages/sklearn/utils/extmath.py:192: RuntimeWarning: overflow encountered in matmul\n",
      "  ret = a @ b\n",
      "/Users/ziqili/anaconda3/lib/python3.11/site-packages/sklearn/neural_network/_base.py:128: RuntimeWarning: invalid value encountered in multiply\n",
      "  delta *= 1 - Z**2\n",
      "/Users/ziqili/anaconda3/lib/python3.11/site-packages/sklearn/neural_network/_multilayer_perceptron.py:691: ConvergenceWarning: Stochastic Optimizer: Maximum iterations (316) reached and the optimization hasn't converged yet.\n",
      "  warnings.warn(\n",
      "job exception: Solver produced non-finite parameter weights. The input data may contain large values and need to be preprocessed.\n",
      "\n"
     ]
    },
    {
     "name": "stdout",
     "output_type": "stream",
     "text": [
      " 93%|████████████████████████████████▌  | 13/14 [00:06<?, ?trial/s, best loss=?]\n",
      "100%|██████████| 1/1 [00:01<00:00,  1.35s/trial, best loss: 0.35147522814943843]\n",
      "100%|██████████| 2/2 [00:04<00:00,  4.25s/trial, best loss: 0.35147522814943843]\n",
      " 67%|████████████████████████▋            | 2/3 [00:00<?, ?trial/s, best loss=?]"
     ]
    },
    {
     "name": "stderr",
     "output_type": "stream",
     "text": [
      "/Users/ziqili/anaconda3/lib/python3.11/site-packages/sklearn/neural_network/_multilayer_perceptron.py:546: ConvergenceWarning: lbfgs failed to converge (status=1):\n",
      "STOP: TOTAL NO. of ITERATIONS REACHED LIMIT.\n",
      "\n",
      "Increase the number of iterations (max_iter) or scale the data as shown in:\n",
      "    https://scikit-learn.org/stable/modules/preprocessing.html\n",
      "  self.n_iter_ = _check_optimize_result(\"lbfgs\", opt_res, self.max_iter)\n"
     ]
    },
    {
     "name": "stdout",
     "output_type": "stream",
     "text": [
      "100%|██████████| 3/3 [00:01<00:00,  1.48s/trial, best loss: 0.35147522814943843]\n",
      "100%|██████████| 4/4 [00:01<00:00,  1.45s/trial, best loss: 0.35147522814943843]\n",
      "100%|██████████| 5/5 [00:01<00:00,  1.45s/trial, best loss: 0.35147522814943843]\n",
      "100%|██████████| 6/6 [00:01<00:00,  1.82s/trial, best loss: 0.35147522814943843]\n",
      "100%|██████████| 7/7 [00:01<00:00,  1.59s/trial, best loss: 0.35147522814943843]\n",
      "100%|██████████| 8/8 [00:01<00:00,  1.18s/trial, best loss: 0.35147522814943843]\n",
      "100%|██████████| 9/9 [00:01<00:00,  1.45s/trial, best loss: 0.22227508612987945]\n",
      "100%|████████| 10/10 [00:01<00:00,  1.14s/trial, best loss: 0.22227508612987945]\n",
      "100%|█████████| 11/11 [00:01<00:00,  1.47s/trial, best loss: 0.1511820619933476]\n",
      " 92%|████████████████████████████████   | 11/12 [00:00<?, ?trial/s, best loss=?]"
     ]
    },
    {
     "name": "stderr",
     "output_type": "stream",
     "text": [
      "/Users/ziqili/anaconda3/lib/python3.11/site-packages/sklearn/neural_network/_base.py:173: RuntimeWarning: overflow encountered in square\n",
      "  return ((y_true - y_pred) ** 2).mean() / 2\n",
      "/Users/ziqili/anaconda3/lib/python3.11/site-packages/sklearn/utils/extmath.py:192: RuntimeWarning: overflow encountered in matmul\n",
      "  ret = a @ b\n",
      "/Users/ziqili/anaconda3/lib/python3.11/site-packages/sklearn/utils/extmath.py:192: RuntimeWarning: invalid value encountered in matmul\n",
      "  ret = a @ b\n",
      "/Users/ziqili/anaconda3/lib/python3.11/site-packages/sklearn/neural_network/_multilayer_perceptron.py:691: ConvergenceWarning: Stochastic Optimizer: Maximum iterations (195) reached and the optimization hasn't converged yet.\n",
      "  warnings.warn(\n",
      "job exception: Solver produced non-finite parameter weights. The input data may contain large values and need to be preprocessed.\n",
      "\n"
     ]
    },
    {
     "name": "stdout",
     "output_type": "stream",
     "text": [
      " 92%|████████████████████████████████   | 11/12 [00:04<?, ?trial/s, best loss=?]\n",
      "100%|████████████| 1/1 [00:01<00:00,  1.47s/trial, best loss: 11.09913406117929]\n",
      "100%|███████████| 2/2 [00:01<00:00,  1.22s/trial, best loss: 0.5428194669834241]\n",
      "100%|██████████| 3/3 [00:01<00:00,  1.15s/trial, best loss: 0.37791762720425437]\n",
      "100%|██████████| 4/4 [00:01<00:00,  1.22s/trial, best loss: 0.37791762720425437]\n",
      " 80%|█████████████████████████████▌       | 4/5 [00:00<?, ?trial/s, best loss=?]"
     ]
    },
    {
     "name": "stderr",
     "output_type": "stream",
     "text": [
      "/Users/ziqili/anaconda3/lib/python3.11/site-packages/sklearn/neural_network/_base.py:173: RuntimeWarning: overflow encountered in square\n",
      "  return ((y_true - y_pred) ** 2).mean() / 2\n",
      "/Users/ziqili/anaconda3/lib/python3.11/site-packages/sklearn/utils/extmath.py:192: RuntimeWarning: overflow encountered in matmul\n",
      "  ret = a @ b\n",
      "/Users/ziqili/anaconda3/lib/python3.11/site-packages/sklearn/utils/extmath.py:192: RuntimeWarning: invalid value encountered in matmul\n",
      "  ret = a @ b\n",
      "/Users/ziqili/anaconda3/lib/python3.11/site-packages/sklearn/neural_network/_multilayer_perceptron.py:691: ConvergenceWarning: Stochastic Optimizer: Maximum iterations (190) reached and the optimization hasn't converged yet.\n",
      "  warnings.warn(\n",
      "job exception: Solver produced non-finite parameter weights. The input data may contain large values and need to be preprocessed.\n",
      "\n"
     ]
    },
    {
     "name": "stdout",
     "output_type": "stream",
     "text": [
      " 80%|█████████████████████████████▌       | 4/5 [00:04<?, ?trial/s, best loss=?]\n",
      "100%|███████████| 1/1 [00:01<00:00,  1.11s/trial, best loss: 0.9552721247481692]\n",
      "100%|███████████| 2/2 [00:02<00:00,  2.89s/trial, best loss: 0.9552721247481692]\n",
      "100%|██████████| 3/3 [00:01<00:00,  1.41s/trial, best loss: 0.15517739644188921]\n",
      "100%|██████████| 4/4 [00:01<00:00,  1.31s/trial, best loss: 0.15517739644188921]\n",
      "100%|██████████| 5/5 [00:01<00:00,  1.54s/trial, best loss: 0.15517739644188921]\n",
      "100%|██████████| 6/6 [00:01<00:00,  1.35s/trial, best loss: 0.15517739644188921]\n",
      "100%|██████████| 7/7 [00:02<00:00,  2.31s/trial, best loss: 0.15517739644188921]\n",
      "100%|██████████| 8/8 [00:01<00:00,  1.32s/trial, best loss: 0.15517739644188921]\n",
      "100%|██████████| 9/9 [00:01<00:00,  1.49s/trial, best loss: 0.15517739644188921]\n",
      "100%|████████| 10/10 [00:01<00:00,  1.48s/trial, best loss: 0.15517739644188921]\n",
      "100%|████████| 11/11 [00:01<00:00,  1.17s/trial, best loss: 0.15517739644188921]\n",
      "100%|████████| 12/12 [00:01<00:00,  1.70s/trial, best loss: 0.15517739644188921]\n",
      "100%|████████| 13/13 [00:01<00:00,  1.68s/trial, best loss: 0.15517739644188921]\n",
      "100%|████████| 14/14 [00:01<00:00,  1.41s/trial, best loss: 0.15517739644188921]\n",
      "100%|████████| 15/15 [00:03<00:00,  3.03s/trial, best loss: 0.15517739644188921]\n",
      " 94%|████████████████████████████████▊  | 15/16 [00:00<?, ?trial/s, best loss=?]"
     ]
    },
    {
     "name": "stderr",
     "output_type": "stream",
     "text": [
      "/Users/ziqili/anaconda3/lib/python3.11/site-packages/sklearn/neural_network/_multilayer_perceptron.py:691: ConvergenceWarning: Stochastic Optimizer: Maximum iterations (158) reached and the optimization hasn't converged yet.\n",
      "  warnings.warn(\n"
     ]
    },
    {
     "name": "stdout",
     "output_type": "stream",
     "text": [
      "100%|████████| 16/16 [00:06<00:00,  6.21s/trial, best loss: 0.15517739644188921]\n",
      "100%|████████| 17/17 [00:01<00:00,  1.37s/trial, best loss: 0.15517739644188921]\n",
      "100%|████████| 18/18 [00:02<00:00,  2.19s/trial, best loss: 0.15517739644188921]\n",
      "100%|████████| 19/19 [00:01<00:00,  1.21s/trial, best loss: 0.15517739644188921]\n",
      "100%|████████| 20/20 [00:01<00:00,  1.28s/trial, best loss: 0.15517739644188921]\n",
      "100%|████████| 21/21 [00:01<00:00,  1.51s/trial, best loss: 0.15517739644188921]\n",
      "100%|████████| 22/22 [00:02<00:00,  2.10s/trial, best loss: 0.15517739644188921]\n",
      "100%|████████| 23/23 [00:01<00:00,  1.47s/trial, best loss: 0.15517739644188921]\n",
      "100%|████████| 24/24 [00:01<00:00,  1.54s/trial, best loss: 0.15517739644188921]\n",
      "100%|████████| 25/25 [00:01<00:00,  1.41s/trial, best loss: 0.15517739644188921]\n",
      "100%|████████| 26/26 [00:01<00:00,  1.50s/trial, best loss: 0.15517739644188921]\n",
      "100%|████████| 27/27 [00:01<00:00,  1.44s/trial, best loss: 0.15517739644188921]\n",
      "100%|████████| 28/28 [00:01<00:00,  1.55s/trial, best loss: 0.15517739644188921]\n",
      "100%|████████| 29/29 [00:01<00:00,  1.89s/trial, best loss: 0.15517739644188921]\n",
      "100%|████████| 30/30 [00:01<00:00,  1.43s/trial, best loss: 0.15517739644188921]\n",
      "100%|████████| 31/31 [00:01<00:00,  1.45s/trial, best loss: 0.15517739644188921]\n",
      " 97%|█████████████████████████████████▉ | 31/32 [00:00<?, ?trial/s, best loss=?]"
     ]
    },
    {
     "name": "stderr",
     "output_type": "stream",
     "text": [
      "/Users/ziqili/anaconda3/lib/python3.11/site-packages/sklearn/neural_network/_base.py:173: RuntimeWarning: overflow encountered in square\n",
      "  return ((y_true - y_pred) ** 2).mean() / 2\n",
      "/Users/ziqili/anaconda3/lib/python3.11/site-packages/sklearn/utils/extmath.py:192: RuntimeWarning: overflow encountered in matmul\n",
      "  ret = a @ b\n",
      "/Users/ziqili/anaconda3/lib/python3.11/site-packages/sklearn/utils/extmath.py:192: RuntimeWarning: invalid value encountered in matmul\n",
      "  ret = a @ b\n",
      "/Users/ziqili/anaconda3/lib/python3.11/site-packages/sklearn/neural_network/_multilayer_perceptron.py:691: ConvergenceWarning: Stochastic Optimizer: Maximum iterations (272) reached and the optimization hasn't converged yet.\n",
      "  warnings.warn(\n",
      "job exception: Solver produced non-finite parameter weights. The input data may contain large values and need to be preprocessed.\n",
      "\n"
     ]
    },
    {
     "name": "stdout",
     "output_type": "stream",
     "text": [
      " 97%|█████████████████████████████████▉ | 31/32 [00:04<?, ?trial/s, best loss=?]\n",
      "100%|███████████| 1/1 [00:01<00:00,  1.58s/trial, best loss: 0.6489680337069339]\n",
      "100%|███████████| 2/2 [00:01<00:00,  1.02s/trial, best loss: 0.6489680337069339]\n",
      "100%|███████████| 3/3 [00:01<00:00,  1.37s/trial, best loss: 0.2574892364758108]\n",
      "100%|███████████| 4/4 [00:01<00:00,  1.40s/trial, best loss: 0.2574892364758108]\n",
      "100%|███████████| 5/5 [00:01<00:00,  1.29s/trial, best loss: 0.2574892364758108]\n",
      "100%|██████████| 6/6 [00:01<00:00,  1.39s/trial, best loss: 0.19474745561758278]\n",
      "100%|██████████| 7/7 [00:01<00:00,  1.15s/trial, best loss: 0.19474745561758278]\n",
      "100%|██████████| 8/8 [00:01<00:00,  1.75s/trial, best loss: 0.19474745561758278]\n",
      "100%|██████████| 9/9 [00:07<00:00,  7.17s/trial, best loss: 0.19474745561758278]\n",
      " 90%|████████████████████████████████▍   | 9/10 [00:00<?, ?trial/s, best loss=?]"
     ]
    },
    {
     "name": "stderr",
     "output_type": "stream",
     "text": [
      "/Users/ziqili/anaconda3/lib/python3.11/site-packages/sklearn/neural_network/_multilayer_perceptron.py:546: ConvergenceWarning: lbfgs failed to converge (status=1):\n",
      "STOP: TOTAL NO. of ITERATIONS REACHED LIMIT.\n",
      "\n",
      "Increase the number of iterations (max_iter) or scale the data as shown in:\n",
      "    https://scikit-learn.org/stable/modules/preprocessing.html\n",
      "  self.n_iter_ = _check_optimize_result(\"lbfgs\", opt_res, self.max_iter)\n"
     ]
    },
    {
     "name": "stdout",
     "output_type": "stream",
     "text": [
      "100%|████████| 10/10 [00:01<00:00,  1.64s/trial, best loss: 0.19474745561758278]\n",
      "100%|████████| 11/11 [00:01<00:00,  1.48s/trial, best loss: 0.19474745561758278]\n",
      "100%|████████| 12/12 [00:01<00:00,  1.56s/trial, best loss: 0.19474745561758278]\n",
      "100%|████████| 13/13 [00:01<00:00,  1.13s/trial, best loss: 0.19474745561758278]\n",
      "100%|████████| 14/14 [00:01<00:00,  1.40s/trial, best loss: 0.19474745561758278]\n",
      "100%|████████| 15/15 [00:01<00:00,  1.25s/trial, best loss: 0.19474745561758278]\n",
      "100%|████████| 16/16 [00:01<00:00,  1.21s/trial, best loss: 0.19474745561758278]\n",
      "100%|████████| 17/17 [00:01<00:00,  1.48s/trial, best loss: 0.19474745561758278]\n",
      "100%|████████| 18/18 [00:01<00:00,  1.54s/trial, best loss: 0.19474745561758278]\n",
      "100%|████████| 19/19 [00:05<00:00,  5.23s/trial, best loss: 0.19474745561758278]\n",
      " 95%|█████████████████████████████████▎ | 19/20 [00:00<?, ?trial/s, best loss=?]"
     ]
    },
    {
     "name": "stderr",
     "output_type": "stream",
     "text": [
      "/Users/ziqili/anaconda3/lib/python3.11/site-packages/sklearn/neural_network/_multilayer_perceptron.py:546: ConvergenceWarning: lbfgs failed to converge (status=1):\n",
      "STOP: TOTAL NO. of ITERATIONS REACHED LIMIT.\n",
      "\n",
      "Increase the number of iterations (max_iter) or scale the data as shown in:\n",
      "    https://scikit-learn.org/stable/modules/preprocessing.html\n",
      "  self.n_iter_ = _check_optimize_result(\"lbfgs\", opt_res, self.max_iter)\n"
     ]
    },
    {
     "name": "stdout",
     "output_type": "stream",
     "text": [
      "100%|████████| 20/20 [00:01<00:00,  1.19s/trial, best loss: 0.19474745561758278]\n",
      "100%|█████████| 21/21 [00:01<00:00,  1.72s/trial, best loss: 0.1634510484160454]\n",
      "100%|█████████| 22/22 [00:01<00:00,  1.45s/trial, best loss: 0.1634510484160454]\n",
      "100%|█████████| 23/23 [00:01<00:00,  1.54s/trial, best loss: 0.1634510484160454]\n",
      "100%|████████| 24/24 [00:01<00:00,  1.41s/trial, best loss: 0.14042587980325183]\n",
      "100%|████████| 25/25 [00:01<00:00,  1.39s/trial, best loss: 0.14042587980325183]\n",
      "100%|████████| 26/26 [00:01<00:00,  1.48s/trial, best loss: 0.14042587980325183]\n",
      "100%|████████| 27/27 [00:01<00:00,  1.50s/trial, best loss: 0.14042587980325183]\n",
      "100%|████████| 28/28 [00:01<00:00,  1.37s/trial, best loss: 0.14042587980325183]\n",
      "100%|████████| 29/29 [00:01<00:00,  1.35s/trial, best loss: 0.14042587980325183]\n",
      "100%|████████| 30/30 [00:01<00:00,  1.60s/trial, best loss: 0.14042587980325183]\n",
      "100%|████████| 31/31 [00:01<00:00,  1.46s/trial, best loss: 0.14042587980325183]\n",
      "100%|████████| 32/32 [00:01<00:00,  1.57s/trial, best loss: 0.14042587980325183]\n",
      "100%|████████| 33/33 [00:01<00:00,  1.97s/trial, best loss: 0.14042587980325183]\n",
      "100%|████████| 34/34 [00:01<00:00,  1.72s/trial, best loss: 0.14042587980325183]\n",
      "100%|████████| 35/35 [00:01<00:00,  1.48s/trial, best loss: 0.14042587980325183]\n",
      "100%|████████| 36/36 [00:01<00:00,  1.65s/trial, best loss: 0.14042587980325183]\n",
      "100%|████████| 37/37 [00:01<00:00,  1.41s/trial, best loss: 0.14042587980325183]\n",
      "100%|████████| 38/38 [00:01<00:00,  1.45s/trial, best loss: 0.14042587980325183]\n",
      "100%|████████| 39/39 [00:01<00:00,  1.34s/trial, best loss: 0.14042587980325183]\n",
      "100%|████████| 40/40 [00:01<00:00,  1.52s/trial, best loss: 0.14042587980325183]\n",
      "100%|████████| 41/41 [00:01<00:00,  1.22s/trial, best loss: 0.14042587980325183]\n",
      "100%|████████| 42/42 [00:01<00:00,  1.63s/trial, best loss: 0.14042587980325183]\n",
      "100%|████████| 43/43 [00:01<00:00,  1.37s/trial, best loss: 0.14042587980325183]\n",
      "100%|████████| 44/44 [00:01<00:00,  1.43s/trial, best loss: 0.14042587980325183]\n",
      "100%|████████| 45/45 [00:01<00:00,  1.42s/trial, best loss: 0.14042587980325183]\n",
      "100%|████████| 46/46 [00:01<00:00,  1.37s/trial, best loss: 0.14042587980325183]\n",
      "100%|████████| 47/47 [00:01<00:00,  1.38s/trial, best loss: 0.14042587980325183]\n",
      "100%|████████| 48/48 [00:01<00:00,  1.43s/trial, best loss: 0.14042587980325183]\n",
      "100%|████████| 49/49 [00:02<00:00,  2.28s/trial, best loss: 0.14042587980325183]\n",
      "100%|████████| 50/50 [00:01<00:00,  1.44s/trial, best loss: 0.14042587980325183]\n",
      "100%|████████| 51/51 [00:01<00:00,  1.43s/trial, best loss: 0.14042587980325183]\n",
      "100%|████████| 52/52 [00:01<00:00,  1.29s/trial, best loss: 0.14042587980325183]\n",
      "100%|████████| 53/53 [00:01<00:00,  1.68s/trial, best loss: 0.14042587980325183]\n",
      "100%|████████| 54/54 [00:02<00:00,  2.65s/trial, best loss: 0.14042587980325183]\n",
      "100%|████████| 55/55 [00:01<00:00,  1.27s/trial, best loss: 0.14042587980325183]\n",
      "100%|████████| 56/56 [00:01<00:00,  1.33s/trial, best loss: 0.14042587980325183]\n",
      "100%|████████| 57/57 [00:01<00:00,  1.64s/trial, best loss: 0.14042587980325183]\n",
      "100%|████████| 58/58 [00:01<00:00,  1.19s/trial, best loss: 0.14042587980325183]\n",
      "100%|████████| 59/59 [00:01<00:00,  1.40s/trial, best loss: 0.14042587980325183]\n",
      "100%|████████| 60/60 [00:01<00:00,  1.91s/trial, best loss: 0.14042587980325183]\n",
      "100%|████████| 61/61 [00:01<00:00,  1.31s/trial, best loss: 0.14042587980325183]\n",
      "100%|████████| 62/62 [00:01<00:00,  1.76s/trial, best loss: 0.14042587980325183]\n",
      "100%|████████| 63/63 [00:01<00:00,  1.41s/trial, best loss: 0.14042587980325183]\n",
      "100%|████████| 64/64 [00:01<00:00,  1.43s/trial, best loss: 0.14042587980325183]\n",
      "100%|████████| 65/65 [00:01<00:00,  1.26s/trial, best loss: 0.14042587980325183]\n",
      "100%|████████| 66/66 [00:01<00:00,  1.41s/trial, best loss: 0.14042587980325183]\n",
      "100%|████████| 67/67 [00:02<00:00,  2.01s/trial, best loss: 0.14042587980325183]\n",
      "100%|████████| 68/68 [00:01<00:00,  1.56s/trial, best loss: 0.14042587980325183]\n",
      "100%|████████| 69/69 [00:01<00:00,  1.47s/trial, best loss: 0.14042587980325183]\n",
      "100%|████████| 70/70 [00:01<00:00,  1.57s/trial, best loss: 0.14042587980325183]\n",
      "100%|████████| 71/71 [00:01<00:00,  1.64s/trial, best loss: 0.14042587980325183]\n",
      "100%|████████| 72/72 [00:01<00:00,  1.61s/trial, best loss: 0.13128558162338533]\n",
      "100%|████████| 73/73 [00:01<00:00,  1.96s/trial, best loss: 0.13128558162338533]\n",
      "100%|████████| 74/74 [00:02<00:00,  2.04s/trial, best loss: 0.13128558162338533]\n",
      "100%|████████| 75/75 [00:01<00:00,  1.57s/trial, best loss: 0.13128558162338533]\n",
      "100%|████████| 76/76 [00:01<00:00,  1.40s/trial, best loss: 0.13128558162338533]\n",
      "100%|████████| 77/77 [00:01<00:00,  1.23s/trial, best loss: 0.13128558162338533]\n",
      "100%|████████| 78/78 [00:01<00:00,  1.50s/trial, best loss: 0.13128558162338533]\n",
      "100%|████████| 79/79 [00:01<00:00,  1.93s/trial, best loss: 0.13128558162338533]\n",
      "100%|████████| 80/80 [00:01<00:00,  1.66s/trial, best loss: 0.13128558162338533]\n",
      "100%|████████| 81/81 [00:01<00:00,  1.65s/trial, best loss: 0.13128558162338533]\n",
      "100%|████████| 82/82 [00:01<00:00,  1.42s/trial, best loss: 0.13128558162338533]\n",
      "100%|████████| 83/83 [00:01<00:00,  1.39s/trial, best loss: 0.13128558162338533]\n",
      "100%|████████| 84/84 [00:01<00:00,  1.55s/trial, best loss: 0.13128558162338533]\n",
      "100%|████████| 85/85 [00:01<00:00,  1.25s/trial, best loss: 0.13128558162338533]\n",
      "100%|████████| 86/86 [00:01<00:00,  1.41s/trial, best loss: 0.13128558162338533]\n",
      "100%|████████| 87/87 [00:01<00:00,  1.53s/trial, best loss: 0.13128558162338533]\n",
      "100%|████████| 88/88 [00:01<00:00,  1.45s/trial, best loss: 0.13128558162338533]\n",
      "100%|████████| 89/89 [00:01<00:00,  1.47s/trial, best loss: 0.13128558162338533]\n",
      "100%|████████| 90/90 [00:01<00:00,  1.43s/trial, best loss: 0.13128558162338533]\n",
      "100%|████████| 91/91 [00:02<00:00,  2.80s/trial, best loss: 0.13128558162338533]\n",
      "100%|████████| 92/92 [00:01<00:00,  1.60s/trial, best loss: 0.13128558162338533]\n",
      "100%|████████| 93/93 [00:01<00:00,  1.56s/trial, best loss: 0.13128558162338533]\n",
      "100%|████████| 94/94 [00:01<00:00,  1.30s/trial, best loss: 0.13128558162338533]\n",
      "100%|████████| 95/95 [00:01<00:00,  1.31s/trial, best loss: 0.13128558162338533]\n",
      "100%|████████| 96/96 [00:01<00:00,  1.42s/trial, best loss: 0.13128558162338533]\n",
      "100%|████████| 97/97 [00:01<00:00,  1.34s/trial, best loss: 0.13128558162338533]\n",
      "100%|████████| 98/98 [00:01<00:00,  1.95s/trial, best loss: 0.13128558162338533]\n",
      "100%|████████| 99/99 [00:01<00:00,  1.47s/trial, best loss: 0.13128558162338533]\n",
      "100%|██████| 100/100 [00:01<00:00,  1.26s/trial, best loss: 0.13128558162338533]\n",
      "CPU times: user 29.8 s, sys: 12.3 s, total: 42.1 s\n",
      "Wall time: 35min 17s\n"
     ]
    }
   ],
   "source": [
    "%%time\n",
    "\n",
    "warnings.filterwarnings('ignore')\n",
    "for i in range(0,1000):\n",
    "    try:\n",
    "        mlp_model = train_any_model(mlp_regressor)\n",
    "        break\n",
    "    except:\n",
    "        pass"
   ]
  },
  {
   "cell_type": "code",
   "execution_count": 21,
   "metadata": {},
   "outputs": [
    {
     "name": "stdout",
     "output_type": "stream",
     "text": [
      "0.8583345080845761\n"
     ]
    }
   ],
   "source": [
    "print(mlp_model.score(X_test, y_test))"
   ]
  },
  {
   "cell_type": "code",
   "execution_count": 22,
   "metadata": {},
   "outputs": [],
   "source": [
    "pickle.dump(mlp_model, open(\"mlp_house.sav\", 'wb'))"
   ]
  }
 ],
 "metadata": {
  "kernelspec": {
   "display_name": "Python 3 (ipykernel)",
   "language": "python",
   "name": "python3"
  },
  "language_info": {
   "codemirror_mode": {
    "name": "ipython",
    "version": 3
   },
   "file_extension": ".py",
   "mimetype": "text/x-python",
   "name": "python",
   "nbconvert_exporter": "python",
   "pygments_lexer": "ipython3",
   "version": "3.11.5"
  }
 },
 "nbformat": 4,
 "nbformat_minor": 4
}
